{
  "nbformat": 4,
  "nbformat_minor": 0,
  "metadata": {
    "colab": {
      "name": "Costa_Rica_regression.ipynb",
      "provenance": [],
      "collapsed_sections": []
    },
    "kernelspec": {
      "name": "python3",
      "display_name": "Python 3"
    },
    "language_info": {
      "name": "python"
    },
    "accelerator": "GPU",
    "gpuClass": "standard",
    "widgets": {
      "application/vnd.jupyter.widget-state+json": {
        "7ec7021e54c846edb7eb7df163bcb1eb": {
          "model_module": "@jupyter-widgets/controls",
          "model_name": "HBoxModel",
          "model_module_version": "1.5.0",
          "state": {
            "_dom_classes": [],
            "_model_module": "@jupyter-widgets/controls",
            "_model_module_version": "1.5.0",
            "_model_name": "HBoxModel",
            "_view_count": null,
            "_view_module": "@jupyter-widgets/controls",
            "_view_module_version": "1.5.0",
            "_view_name": "HBoxView",
            "box_style": "",
            "children": [
              "IPY_MODEL_2f455e6513c242fdb99670c8c87ecfb1",
              "IPY_MODEL_b3f4aa4b019347c291792961648a586e",
              "IPY_MODEL_f0bcb4214c694398b6a78eda9ab761f7"
            ],
            "layout": "IPY_MODEL_40dc10736bd545f0b7aab27210278264"
          }
        },
        "2f455e6513c242fdb99670c8c87ecfb1": {
          "model_module": "@jupyter-widgets/controls",
          "model_name": "HTMLModel",
          "model_module_version": "1.5.0",
          "state": {
            "_dom_classes": [],
            "_model_module": "@jupyter-widgets/controls",
            "_model_module_version": "1.5.0",
            "_model_name": "HTMLModel",
            "_view_count": null,
            "_view_module": "@jupyter-widgets/controls",
            "_view_module_version": "1.5.0",
            "_view_name": "HTMLView",
            "description": "",
            "description_tooltip": null,
            "layout": "IPY_MODEL_ab423089d2984e7f8d27eeb1949e6ffd",
            "placeholder": "​",
            "style": "IPY_MODEL_dd567648a728455a8538169fd2dd3eed",
            "value": "100%"
          }
        },
        "b3f4aa4b019347c291792961648a586e": {
          "model_module": "@jupyter-widgets/controls",
          "model_name": "FloatProgressModel",
          "model_module_version": "1.5.0",
          "state": {
            "_dom_classes": [],
            "_model_module": "@jupyter-widgets/controls",
            "_model_module_version": "1.5.0",
            "_model_name": "FloatProgressModel",
            "_view_count": null,
            "_view_module": "@jupyter-widgets/controls",
            "_view_module_version": "1.5.0",
            "_view_name": "ProgressView",
            "bar_style": "success",
            "description": "",
            "description_tooltip": null,
            "layout": "IPY_MODEL_8873e580b8e1443fbe8cca4c7baa1286",
            "max": 2105,
            "min": 0,
            "orientation": "horizontal",
            "style": "IPY_MODEL_e7bf5c85ee6545c0ba188ec9284563d2",
            "value": 2105
          }
        },
        "f0bcb4214c694398b6a78eda9ab761f7": {
          "model_module": "@jupyter-widgets/controls",
          "model_name": "HTMLModel",
          "model_module_version": "1.5.0",
          "state": {
            "_dom_classes": [],
            "_model_module": "@jupyter-widgets/controls",
            "_model_module_version": "1.5.0",
            "_model_name": "HTMLModel",
            "_view_count": null,
            "_view_module": "@jupyter-widgets/controls",
            "_view_module_version": "1.5.0",
            "_view_name": "HTMLView",
            "description": "",
            "description_tooltip": null,
            "layout": "IPY_MODEL_9210223a3f7941a2bf0e64040f4f111b",
            "placeholder": "​",
            "style": "IPY_MODEL_0597c81274064b5984a35ac6d6fc1414",
            "value": " 2105/2105 [00:14&lt;00:00, 146.78ba/s]"
          }
        },
        "40dc10736bd545f0b7aab27210278264": {
          "model_module": "@jupyter-widgets/base",
          "model_name": "LayoutModel",
          "model_module_version": "1.2.0",
          "state": {
            "_model_module": "@jupyter-widgets/base",
            "_model_module_version": "1.2.0",
            "_model_name": "LayoutModel",
            "_view_count": null,
            "_view_module": "@jupyter-widgets/base",
            "_view_module_version": "1.2.0",
            "_view_name": "LayoutView",
            "align_content": null,
            "align_items": null,
            "align_self": null,
            "border": null,
            "bottom": null,
            "display": null,
            "flex": null,
            "flex_flow": null,
            "grid_area": null,
            "grid_auto_columns": null,
            "grid_auto_flow": null,
            "grid_auto_rows": null,
            "grid_column": null,
            "grid_gap": null,
            "grid_row": null,
            "grid_template_areas": null,
            "grid_template_columns": null,
            "grid_template_rows": null,
            "height": null,
            "justify_content": null,
            "justify_items": null,
            "left": null,
            "margin": null,
            "max_height": null,
            "max_width": null,
            "min_height": null,
            "min_width": null,
            "object_fit": null,
            "object_position": null,
            "order": null,
            "overflow": null,
            "overflow_x": null,
            "overflow_y": null,
            "padding": null,
            "right": null,
            "top": null,
            "visibility": null,
            "width": null
          }
        },
        "ab423089d2984e7f8d27eeb1949e6ffd": {
          "model_module": "@jupyter-widgets/base",
          "model_name": "LayoutModel",
          "model_module_version": "1.2.0",
          "state": {
            "_model_module": "@jupyter-widgets/base",
            "_model_module_version": "1.2.0",
            "_model_name": "LayoutModel",
            "_view_count": null,
            "_view_module": "@jupyter-widgets/base",
            "_view_module_version": "1.2.0",
            "_view_name": "LayoutView",
            "align_content": null,
            "align_items": null,
            "align_self": null,
            "border": null,
            "bottom": null,
            "display": null,
            "flex": null,
            "flex_flow": null,
            "grid_area": null,
            "grid_auto_columns": null,
            "grid_auto_flow": null,
            "grid_auto_rows": null,
            "grid_column": null,
            "grid_gap": null,
            "grid_row": null,
            "grid_template_areas": null,
            "grid_template_columns": null,
            "grid_template_rows": null,
            "height": null,
            "justify_content": null,
            "justify_items": null,
            "left": null,
            "margin": null,
            "max_height": null,
            "max_width": null,
            "min_height": null,
            "min_width": null,
            "object_fit": null,
            "object_position": null,
            "order": null,
            "overflow": null,
            "overflow_x": null,
            "overflow_y": null,
            "padding": null,
            "right": null,
            "top": null,
            "visibility": null,
            "width": null
          }
        },
        "dd567648a728455a8538169fd2dd3eed": {
          "model_module": "@jupyter-widgets/controls",
          "model_name": "DescriptionStyleModel",
          "model_module_version": "1.5.0",
          "state": {
            "_model_module": "@jupyter-widgets/controls",
            "_model_module_version": "1.5.0",
            "_model_name": "DescriptionStyleModel",
            "_view_count": null,
            "_view_module": "@jupyter-widgets/base",
            "_view_module_version": "1.2.0",
            "_view_name": "StyleView",
            "description_width": ""
          }
        },
        "8873e580b8e1443fbe8cca4c7baa1286": {
          "model_module": "@jupyter-widgets/base",
          "model_name": "LayoutModel",
          "model_module_version": "1.2.0",
          "state": {
            "_model_module": "@jupyter-widgets/base",
            "_model_module_version": "1.2.0",
            "_model_name": "LayoutModel",
            "_view_count": null,
            "_view_module": "@jupyter-widgets/base",
            "_view_module_version": "1.2.0",
            "_view_name": "LayoutView",
            "align_content": null,
            "align_items": null,
            "align_self": null,
            "border": null,
            "bottom": null,
            "display": null,
            "flex": null,
            "flex_flow": null,
            "grid_area": null,
            "grid_auto_columns": null,
            "grid_auto_flow": null,
            "grid_auto_rows": null,
            "grid_column": null,
            "grid_gap": null,
            "grid_row": null,
            "grid_template_areas": null,
            "grid_template_columns": null,
            "grid_template_rows": null,
            "height": null,
            "justify_content": null,
            "justify_items": null,
            "left": null,
            "margin": null,
            "max_height": null,
            "max_width": null,
            "min_height": null,
            "min_width": null,
            "object_fit": null,
            "object_position": null,
            "order": null,
            "overflow": null,
            "overflow_x": null,
            "overflow_y": null,
            "padding": null,
            "right": null,
            "top": null,
            "visibility": null,
            "width": null
          }
        },
        "e7bf5c85ee6545c0ba188ec9284563d2": {
          "model_module": "@jupyter-widgets/controls",
          "model_name": "ProgressStyleModel",
          "model_module_version": "1.5.0",
          "state": {
            "_model_module": "@jupyter-widgets/controls",
            "_model_module_version": "1.5.0",
            "_model_name": "ProgressStyleModel",
            "_view_count": null,
            "_view_module": "@jupyter-widgets/base",
            "_view_module_version": "1.2.0",
            "_view_name": "StyleView",
            "bar_color": null,
            "description_width": ""
          }
        },
        "9210223a3f7941a2bf0e64040f4f111b": {
          "model_module": "@jupyter-widgets/base",
          "model_name": "LayoutModel",
          "model_module_version": "1.2.0",
          "state": {
            "_model_module": "@jupyter-widgets/base",
            "_model_module_version": "1.2.0",
            "_model_name": "LayoutModel",
            "_view_count": null,
            "_view_module": "@jupyter-widgets/base",
            "_view_module_version": "1.2.0",
            "_view_name": "LayoutView",
            "align_content": null,
            "align_items": null,
            "align_self": null,
            "border": null,
            "bottom": null,
            "display": null,
            "flex": null,
            "flex_flow": null,
            "grid_area": null,
            "grid_auto_columns": null,
            "grid_auto_flow": null,
            "grid_auto_rows": null,
            "grid_column": null,
            "grid_gap": null,
            "grid_row": null,
            "grid_template_areas": null,
            "grid_template_columns": null,
            "grid_template_rows": null,
            "height": null,
            "justify_content": null,
            "justify_items": null,
            "left": null,
            "margin": null,
            "max_height": null,
            "max_width": null,
            "min_height": null,
            "min_width": null,
            "object_fit": null,
            "object_position": null,
            "order": null,
            "overflow": null,
            "overflow_x": null,
            "overflow_y": null,
            "padding": null,
            "right": null,
            "top": null,
            "visibility": null,
            "width": null
          }
        },
        "0597c81274064b5984a35ac6d6fc1414": {
          "model_module": "@jupyter-widgets/controls",
          "model_name": "DescriptionStyleModel",
          "model_module_version": "1.5.0",
          "state": {
            "_model_module": "@jupyter-widgets/controls",
            "_model_module_version": "1.5.0",
            "_model_name": "DescriptionStyleModel",
            "_view_count": null,
            "_view_module": "@jupyter-widgets/base",
            "_view_module_version": "1.2.0",
            "_view_name": "StyleView",
            "description_width": ""
          }
        },
        "2d992bcaebf6420ebcf63a0ccb296f35": {
          "model_module": "@jupyter-widgets/controls",
          "model_name": "HBoxModel",
          "model_module_version": "1.5.0",
          "state": {
            "_dom_classes": [],
            "_model_module": "@jupyter-widgets/controls",
            "_model_module_version": "1.5.0",
            "_model_name": "HBoxModel",
            "_view_count": null,
            "_view_module": "@jupyter-widgets/controls",
            "_view_module_version": "1.5.0",
            "_view_name": "HBoxView",
            "box_style": "",
            "children": [
              "IPY_MODEL_005294c5c384487b95467e4c1bfc4873",
              "IPY_MODEL_eb2b13de26ea4150a9c81e43b686eb2a",
              "IPY_MODEL_180115709a2b49d0836cb02cf1d8d376"
            ],
            "layout": "IPY_MODEL_2e208b73f1c343998d828f6804ca2c3b"
          }
        },
        "005294c5c384487b95467e4c1bfc4873": {
          "model_module": "@jupyter-widgets/controls",
          "model_name": "HTMLModel",
          "model_module_version": "1.5.0",
          "state": {
            "_dom_classes": [],
            "_model_module": "@jupyter-widgets/controls",
            "_model_module_version": "1.5.0",
            "_model_name": "HTMLModel",
            "_view_count": null,
            "_view_module": "@jupyter-widgets/controls",
            "_view_module_version": "1.5.0",
            "_view_name": "HTMLView",
            "description": "",
            "description_tooltip": null,
            "layout": "IPY_MODEL_f10294e85c634d0c9abf6cbc4667f674",
            "placeholder": "​",
            "style": "IPY_MODEL_b7d42da9d2b845d58251a561507974c7",
            "value": "100%"
          }
        },
        "eb2b13de26ea4150a9c81e43b686eb2a": {
          "model_module": "@jupyter-widgets/controls",
          "model_name": "FloatProgressModel",
          "model_module_version": "1.5.0",
          "state": {
            "_dom_classes": [],
            "_model_module": "@jupyter-widgets/controls",
            "_model_module_version": "1.5.0",
            "_model_name": "FloatProgressModel",
            "_view_count": null,
            "_view_module": "@jupyter-widgets/controls",
            "_view_module_version": "1.5.0",
            "_view_name": "ProgressView",
            "bar_style": "success",
            "description": "",
            "description_tooltip": null,
            "layout": "IPY_MODEL_83b6290acdbd4cfb95c34605a8865faf",
            "max": 3301,
            "min": 0,
            "orientation": "horizontal",
            "style": "IPY_MODEL_f372e8cf04a64684b76ee80767bce8f5",
            "value": 3301
          }
        },
        "180115709a2b49d0836cb02cf1d8d376": {
          "model_module": "@jupyter-widgets/controls",
          "model_name": "HTMLModel",
          "model_module_version": "1.5.0",
          "state": {
            "_dom_classes": [],
            "_model_module": "@jupyter-widgets/controls",
            "_model_module_version": "1.5.0",
            "_model_name": "HTMLModel",
            "_view_count": null,
            "_view_module": "@jupyter-widgets/controls",
            "_view_module_version": "1.5.0",
            "_view_name": "HTMLView",
            "description": "",
            "description_tooltip": null,
            "layout": "IPY_MODEL_b78b229a9d574fb4a4137c2ef2c5d976",
            "placeholder": "​",
            "style": "IPY_MODEL_2d752aed624a4d8ca796bab6aea41682",
            "value": " 3301/3301 [00:22&lt;00:00, 146.49ba/s]"
          }
        },
        "2e208b73f1c343998d828f6804ca2c3b": {
          "model_module": "@jupyter-widgets/base",
          "model_name": "LayoutModel",
          "model_module_version": "1.2.0",
          "state": {
            "_model_module": "@jupyter-widgets/base",
            "_model_module_version": "1.2.0",
            "_model_name": "LayoutModel",
            "_view_count": null,
            "_view_module": "@jupyter-widgets/base",
            "_view_module_version": "1.2.0",
            "_view_name": "LayoutView",
            "align_content": null,
            "align_items": null,
            "align_self": null,
            "border": null,
            "bottom": null,
            "display": null,
            "flex": null,
            "flex_flow": null,
            "grid_area": null,
            "grid_auto_columns": null,
            "grid_auto_flow": null,
            "grid_auto_rows": null,
            "grid_column": null,
            "grid_gap": null,
            "grid_row": null,
            "grid_template_areas": null,
            "grid_template_columns": null,
            "grid_template_rows": null,
            "height": null,
            "justify_content": null,
            "justify_items": null,
            "left": null,
            "margin": null,
            "max_height": null,
            "max_width": null,
            "min_height": null,
            "min_width": null,
            "object_fit": null,
            "object_position": null,
            "order": null,
            "overflow": null,
            "overflow_x": null,
            "overflow_y": null,
            "padding": null,
            "right": null,
            "top": null,
            "visibility": null,
            "width": null
          }
        },
        "f10294e85c634d0c9abf6cbc4667f674": {
          "model_module": "@jupyter-widgets/base",
          "model_name": "LayoutModel",
          "model_module_version": "1.2.0",
          "state": {
            "_model_module": "@jupyter-widgets/base",
            "_model_module_version": "1.2.0",
            "_model_name": "LayoutModel",
            "_view_count": null,
            "_view_module": "@jupyter-widgets/base",
            "_view_module_version": "1.2.0",
            "_view_name": "LayoutView",
            "align_content": null,
            "align_items": null,
            "align_self": null,
            "border": null,
            "bottom": null,
            "display": null,
            "flex": null,
            "flex_flow": null,
            "grid_area": null,
            "grid_auto_columns": null,
            "grid_auto_flow": null,
            "grid_auto_rows": null,
            "grid_column": null,
            "grid_gap": null,
            "grid_row": null,
            "grid_template_areas": null,
            "grid_template_columns": null,
            "grid_template_rows": null,
            "height": null,
            "justify_content": null,
            "justify_items": null,
            "left": null,
            "margin": null,
            "max_height": null,
            "max_width": null,
            "min_height": null,
            "min_width": null,
            "object_fit": null,
            "object_position": null,
            "order": null,
            "overflow": null,
            "overflow_x": null,
            "overflow_y": null,
            "padding": null,
            "right": null,
            "top": null,
            "visibility": null,
            "width": null
          }
        },
        "b7d42da9d2b845d58251a561507974c7": {
          "model_module": "@jupyter-widgets/controls",
          "model_name": "DescriptionStyleModel",
          "model_module_version": "1.5.0",
          "state": {
            "_model_module": "@jupyter-widgets/controls",
            "_model_module_version": "1.5.0",
            "_model_name": "DescriptionStyleModel",
            "_view_count": null,
            "_view_module": "@jupyter-widgets/base",
            "_view_module_version": "1.2.0",
            "_view_name": "StyleView",
            "description_width": ""
          }
        },
        "83b6290acdbd4cfb95c34605a8865faf": {
          "model_module": "@jupyter-widgets/base",
          "model_name": "LayoutModel",
          "model_module_version": "1.2.0",
          "state": {
            "_model_module": "@jupyter-widgets/base",
            "_model_module_version": "1.2.0",
            "_model_name": "LayoutModel",
            "_view_count": null,
            "_view_module": "@jupyter-widgets/base",
            "_view_module_version": "1.2.0",
            "_view_name": "LayoutView",
            "align_content": null,
            "align_items": null,
            "align_self": null,
            "border": null,
            "bottom": null,
            "display": null,
            "flex": null,
            "flex_flow": null,
            "grid_area": null,
            "grid_auto_columns": null,
            "grid_auto_flow": null,
            "grid_auto_rows": null,
            "grid_column": null,
            "grid_gap": null,
            "grid_row": null,
            "grid_template_areas": null,
            "grid_template_columns": null,
            "grid_template_rows": null,
            "height": null,
            "justify_content": null,
            "justify_items": null,
            "left": null,
            "margin": null,
            "max_height": null,
            "max_width": null,
            "min_height": null,
            "min_width": null,
            "object_fit": null,
            "object_position": null,
            "order": null,
            "overflow": null,
            "overflow_x": null,
            "overflow_y": null,
            "padding": null,
            "right": null,
            "top": null,
            "visibility": null,
            "width": null
          }
        },
        "f372e8cf04a64684b76ee80767bce8f5": {
          "model_module": "@jupyter-widgets/controls",
          "model_name": "ProgressStyleModel",
          "model_module_version": "1.5.0",
          "state": {
            "_model_module": "@jupyter-widgets/controls",
            "_model_module_version": "1.5.0",
            "_model_name": "ProgressStyleModel",
            "_view_count": null,
            "_view_module": "@jupyter-widgets/base",
            "_view_module_version": "1.2.0",
            "_view_name": "StyleView",
            "bar_color": null,
            "description_width": ""
          }
        },
        "b78b229a9d574fb4a4137c2ef2c5d976": {
          "model_module": "@jupyter-widgets/base",
          "model_name": "LayoutModel",
          "model_module_version": "1.2.0",
          "state": {
            "_model_module": "@jupyter-widgets/base",
            "_model_module_version": "1.2.0",
            "_model_name": "LayoutModel",
            "_view_count": null,
            "_view_module": "@jupyter-widgets/base",
            "_view_module_version": "1.2.0",
            "_view_name": "LayoutView",
            "align_content": null,
            "align_items": null,
            "align_self": null,
            "border": null,
            "bottom": null,
            "display": null,
            "flex": null,
            "flex_flow": null,
            "grid_area": null,
            "grid_auto_columns": null,
            "grid_auto_flow": null,
            "grid_auto_rows": null,
            "grid_column": null,
            "grid_gap": null,
            "grid_row": null,
            "grid_template_areas": null,
            "grid_template_columns": null,
            "grid_template_rows": null,
            "height": null,
            "justify_content": null,
            "justify_items": null,
            "left": null,
            "margin": null,
            "max_height": null,
            "max_width": null,
            "min_height": null,
            "min_width": null,
            "object_fit": null,
            "object_position": null,
            "order": null,
            "overflow": null,
            "overflow_x": null,
            "overflow_y": null,
            "padding": null,
            "right": null,
            "top": null,
            "visibility": null,
            "width": null
          }
        },
        "2d752aed624a4d8ca796bab6aea41682": {
          "model_module": "@jupyter-widgets/controls",
          "model_name": "DescriptionStyleModel",
          "model_module_version": "1.5.0",
          "state": {
            "_model_module": "@jupyter-widgets/controls",
            "_model_module_version": "1.5.0",
            "_model_name": "DescriptionStyleModel",
            "_view_count": null,
            "_view_module": "@jupyter-widgets/base",
            "_view_module_version": "1.2.0",
            "_view_name": "StyleView",
            "description_width": ""
          }
        }
      }
    }
  },
  "cells": [
    {
      "cell_type": "code",
      "source": [
        "!pip install pysentimiento"
      ],
      "metadata": {
        "colab": {
          "base_uri": "https://localhost:8080/"
        },
        "id": "LtEnSXC4F0Ev",
        "outputId": "85a5cd2b-e7cd-49ba-8f1d-876dc64a2ce0"
      },
      "execution_count": null,
      "outputs": [
        {
          "output_type": "stream",
          "name": "stdout",
          "text": [
            "Looking in indexes: https://pypi.org/simple, https://us-python.pkg.dev/colab-wheels/public/simple/\n",
            "Requirement already satisfied: pysentimiento in /usr/local/lib/python3.7/dist-packages (0.4.0)\n",
            "Requirement already satisfied: transformers==4.13 in /usr/local/lib/python3.7/dist-packages (from pysentimiento) (4.13.0)\n",
            "Requirement already satisfied: emoji<2.0.0,>=1.6.1 in /usr/local/lib/python3.7/dist-packages (from pysentimiento) (1.7.0)\n",
            "Requirement already satisfied: torch<2.0.0,>=1.9.0 in /usr/local/lib/python3.7/dist-packages (from pysentimiento) (1.12.0+cu113)\n",
            "Requirement already satisfied: sklearn<0.1,>=0.0 in /usr/local/lib/python3.7/dist-packages (from pysentimiento) (0.0)\n",
            "Requirement already satisfied: datasets<2.0.0,>=1.13.3 in /usr/local/lib/python3.7/dist-packages (from pysentimiento) (1.18.4)\n",
            "Requirement already satisfied: huggingface-hub<1.0,>=0.1.0 in /usr/local/lib/python3.7/dist-packages (from transformers==4.13->pysentimiento) (0.8.1)\n",
            "Requirement already satisfied: sacremoses in /usr/local/lib/python3.7/dist-packages (from transformers==4.13->pysentimiento) (0.0.53)\n",
            "Requirement already satisfied: requests in /usr/local/lib/python3.7/dist-packages (from transformers==4.13->pysentimiento) (2.23.0)\n",
            "Requirement already satisfied: pyyaml>=5.1 in /usr/local/lib/python3.7/dist-packages (from transformers==4.13->pysentimiento) (6.0)\n",
            "Requirement already satisfied: packaging>=20.0 in /usr/local/lib/python3.7/dist-packages (from transformers==4.13->pysentimiento) (21.3)\n",
            "Requirement already satisfied: filelock in /usr/local/lib/python3.7/dist-packages (from transformers==4.13->pysentimiento) (3.7.1)\n",
            "Requirement already satisfied: numpy>=1.17 in /usr/local/lib/python3.7/dist-packages (from transformers==4.13->pysentimiento) (1.21.6)\n",
            "Requirement already satisfied: regex!=2019.12.17 in /usr/local/lib/python3.7/dist-packages (from transformers==4.13->pysentimiento) (2022.6.2)\n",
            "Requirement already satisfied: tokenizers<0.11,>=0.10.1 in /usr/local/lib/python3.7/dist-packages (from transformers==4.13->pysentimiento) (0.10.3)\n",
            "Requirement already satisfied: importlib-metadata in /usr/local/lib/python3.7/dist-packages (from transformers==4.13->pysentimiento) (4.12.0)\n",
            "Requirement already satisfied: tqdm>=4.27 in /usr/local/lib/python3.7/dist-packages (from transformers==4.13->pysentimiento) (4.64.0)\n",
            "Requirement already satisfied: pyarrow!=4.0.0,>=3.0.0 in /usr/local/lib/python3.7/dist-packages (from datasets<2.0.0,>=1.13.3->pysentimiento) (6.0.1)\n",
            "Requirement already satisfied: multiprocess in /usr/local/lib/python3.7/dist-packages (from datasets<2.0.0,>=1.13.3->pysentimiento) (0.70.13)\n",
            "Requirement already satisfied: xxhash in /usr/local/lib/python3.7/dist-packages (from datasets<2.0.0,>=1.13.3->pysentimiento) (3.0.0)\n",
            "Requirement already satisfied: pandas in /usr/local/lib/python3.7/dist-packages (from datasets<2.0.0,>=1.13.3->pysentimiento) (1.3.5)\n",
            "Requirement already satisfied: aiohttp in /usr/local/lib/python3.7/dist-packages (from datasets<2.0.0,>=1.13.3->pysentimiento) (3.8.1)\n",
            "Requirement already satisfied: dill in /usr/local/lib/python3.7/dist-packages (from datasets<2.0.0,>=1.13.3->pysentimiento) (0.3.5.1)\n",
            "Requirement already satisfied: responses<0.19 in /usr/local/lib/python3.7/dist-packages (from datasets<2.0.0,>=1.13.3->pysentimiento) (0.18.0)\n",
            "Requirement already satisfied: fsspec[http]>=2021.05.0 in /usr/local/lib/python3.7/dist-packages (from datasets<2.0.0,>=1.13.3->pysentimiento) (2022.5.0)\n",
            "Requirement already satisfied: typing-extensions>=3.7.4.3 in /usr/local/lib/python3.7/dist-packages (from huggingface-hub<1.0,>=0.1.0->transformers==4.13->pysentimiento) (4.1.1)\n",
            "Requirement already satisfied: pyparsing!=3.0.5,>=2.0.2 in /usr/local/lib/python3.7/dist-packages (from packaging>=20.0->transformers==4.13->pysentimiento) (3.0.9)\n",
            "Requirement already satisfied: chardet<4,>=3.0.2 in /usr/local/lib/python3.7/dist-packages (from requests->transformers==4.13->pysentimiento) (3.0.4)\n",
            "Requirement already satisfied: idna<3,>=2.5 in /usr/local/lib/python3.7/dist-packages (from requests->transformers==4.13->pysentimiento) (2.10)\n",
            "Requirement already satisfied: urllib3!=1.25.0,!=1.25.1,<1.26,>=1.21.1 in /usr/local/lib/python3.7/dist-packages (from requests->transformers==4.13->pysentimiento) (1.25.11)\n",
            "Requirement already satisfied: certifi>=2017.4.17 in /usr/local/lib/python3.7/dist-packages (from requests->transformers==4.13->pysentimiento) (2022.6.15)\n",
            "Requirement already satisfied: scikit-learn in /usr/local/lib/python3.7/dist-packages (from sklearn<0.1,>=0.0->pysentimiento) (1.0.2)\n",
            "Requirement already satisfied: charset-normalizer<3.0,>=2.0 in /usr/local/lib/python3.7/dist-packages (from aiohttp->datasets<2.0.0,>=1.13.3->pysentimiento) (2.1.0)\n",
            "Requirement already satisfied: async-timeout<5.0,>=4.0.0a3 in /usr/local/lib/python3.7/dist-packages (from aiohttp->datasets<2.0.0,>=1.13.3->pysentimiento) (4.0.2)\n",
            "Requirement already satisfied: asynctest==0.13.0 in /usr/local/lib/python3.7/dist-packages (from aiohttp->datasets<2.0.0,>=1.13.3->pysentimiento) (0.13.0)\n",
            "Requirement already satisfied: multidict<7.0,>=4.5 in /usr/local/lib/python3.7/dist-packages (from aiohttp->datasets<2.0.0,>=1.13.3->pysentimiento) (6.0.2)\n",
            "Requirement already satisfied: attrs>=17.3.0 in /usr/local/lib/python3.7/dist-packages (from aiohttp->datasets<2.0.0,>=1.13.3->pysentimiento) (21.4.0)\n",
            "Requirement already satisfied: yarl<2.0,>=1.0 in /usr/local/lib/python3.7/dist-packages (from aiohttp->datasets<2.0.0,>=1.13.3->pysentimiento) (1.7.2)\n",
            "Requirement already satisfied: aiosignal>=1.1.2 in /usr/local/lib/python3.7/dist-packages (from aiohttp->datasets<2.0.0,>=1.13.3->pysentimiento) (1.2.0)\n",
            "Requirement already satisfied: frozenlist>=1.1.1 in /usr/local/lib/python3.7/dist-packages (from aiohttp->datasets<2.0.0,>=1.13.3->pysentimiento) (1.3.0)\n",
            "Requirement already satisfied: zipp>=0.5 in /usr/local/lib/python3.7/dist-packages (from importlib-metadata->transformers==4.13->pysentimiento) (3.8.1)\n",
            "Requirement already satisfied: python-dateutil>=2.7.3 in /usr/local/lib/python3.7/dist-packages (from pandas->datasets<2.0.0,>=1.13.3->pysentimiento) (2.8.2)\n",
            "Requirement already satisfied: pytz>=2017.3 in /usr/local/lib/python3.7/dist-packages (from pandas->datasets<2.0.0,>=1.13.3->pysentimiento) (2022.1)\n",
            "Requirement already satisfied: six>=1.5 in /usr/local/lib/python3.7/dist-packages (from python-dateutil>=2.7.3->pandas->datasets<2.0.0,>=1.13.3->pysentimiento) (1.15.0)\n",
            "Requirement already satisfied: click in /usr/local/lib/python3.7/dist-packages (from sacremoses->transformers==4.13->pysentimiento) (7.1.2)\n",
            "Requirement already satisfied: joblib in /usr/local/lib/python3.7/dist-packages (from sacremoses->transformers==4.13->pysentimiento) (1.1.0)\n",
            "Requirement already satisfied: threadpoolctl>=2.0.0 in /usr/local/lib/python3.7/dist-packages (from scikit-learn->sklearn<0.1,>=0.0->pysentimiento) (3.1.0)\n",
            "Requirement already satisfied: scipy>=1.1.0 in /usr/local/lib/python3.7/dist-packages (from scikit-learn->sklearn<0.1,>=0.0->pysentimiento) (1.7.3)\n"
          ]
        }
      ]
    },
    {
      "cell_type": "code",
      "execution_count": null,
      "metadata": {
        "id": "TZyYfoq2LPzm"
      },
      "outputs": [],
      "source": [
        "import json\n",
        "import pandas as pd\n",
        "import numpy as np\n",
        "from sklearn.model_selection import train_test_split\n",
        "from sklearn.ensemble import RandomForestRegressor"
      ]
    },
    {
      "cell_type": "code",
      "source": [
        "def json_to_df(json_file):\n",
        "  with open(json_file) as f:\n",
        "    data = json.load(f)\n",
        "  text_col = []\n",
        "  source_col = []\n",
        "  following_col = []\n",
        "  followers_col = []\n",
        "  share_col = []\n",
        "  like_col = []\n",
        "  reply_col = []\n",
        "  country_col = []\n",
        "  gender_col = []\n",
        "  for document in data:\n",
        "    text = document[\"body\"]\n",
        "    try:\n",
        "      source = document[\"source_device\"]\n",
        "    except:\n",
        "      source = 'unknown'\n",
        "    try:\n",
        "      gender = document[\"gender\"]\n",
        "    except:\n",
        "      country = gender = 'unknown'\n",
        "    try:\n",
        "      country = document[\"geocoding_country\"][\"display_name\"]\n",
        "    except:\n",
        "      country = 'unknown'\n",
        "    try:\n",
        "      num_following = document[\"followers_count_num\"]\n",
        "    except:\n",
        "      num_following = 0\n",
        "    try:\n",
        "      num_followers = document[\"followers_count_num\"]\n",
        "    except:\n",
        "      num_following = 0\n",
        "    try:\n",
        "      num_like = document[\"like_action_count\"]\n",
        "    except:\n",
        "      num_like = 0\n",
        "    try:\n",
        "      num_share = document[\"share_action_count\"]\n",
        "    except:\n",
        "      num_share = 0\n",
        "    try:\n",
        "      num_reply = document[\"reply_action_count\"]\n",
        "    except:\n",
        "      num_reply = 0\n",
        "    text_col.append(text)\n",
        "    source_col.append(source)\n",
        "    gender_col.append(gender)\n",
        "    country_col.append(country)\n",
        "    following_col.append(num_following)\n",
        "    followers_col.append(num_followers)\n",
        "    like_col.append(num_like)\n",
        "    share_col.append(num_share)\n",
        "    reply_col.append(num_reply)\n",
        "  return pd.DataFrame({'text': text_col, 'source': source_col, 'gender': gender_col,\n",
        "                       'country': country_col, 'following': following_col, 'followers': followers_col,\n",
        "                       'like': like_col, 'share': share_col, 'reply': reply_col})"
      ],
      "metadata": {
        "id": "pce6f4puLgnb"
      },
      "execution_count": null,
      "outputs": []
    },
    {
      "cell_type": "code",
      "source": [
        "from google.colab import drive\n",
        "drive.mount('/content/drive')\n",
        "\n",
        "FIGUERES_PATH = '/content/drive/My Drive/Naveler/03.TECH/Anàlisis de sentiment/Dumps marques/query_555_2021-06-30_2022-06-30.json'\n",
        "CHAVES_PATH = '/content/drive/My Drive/Naveler/03.TECH/Anàlisis de sentiment/Dumps marques/query_609_2021-06-30_2022-06-30.json'\n",
        "\n",
        "figueres_df = json_to_df(FIGUERES_PATH)\n",
        "chaves_df = json_to_df(CHAVES_PATH)"
      ],
      "metadata": {
        "colab": {
          "base_uri": "https://localhost:8080/"
        },
        "id": "kn9l2FBoLhZL",
        "outputId": "6dd70014-860b-4576-cf69-74a4b377617f"
      },
      "execution_count": null,
      "outputs": [
        {
          "output_type": "stream",
          "name": "stdout",
          "text": [
            "Drive already mounted at /content/drive; to attempt to forcibly remount, call drive.mount(\"/content/drive\", force_remount=True).\n"
          ]
        }
      ]
    },
    {
      "cell_type": "markdown",
      "source": [
        "Figueres"
      ],
      "metadata": {
        "id": "-R0s17krPqjH"
      }
    },
    {
      "cell_type": "code",
      "source": [
        "figueres_df.head()"
      ],
      "metadata": {
        "colab": {
          "base_uri": "https://localhost:8080/",
          "height": 206
        },
        "id": "T7MUjSF3w1gE",
        "outputId": "2a99e49f-b755-44d1-c435-9c73c5149027"
      },
      "execution_count": null,
      "outputs": [
        {
          "output_type": "execute_result",
          "data": {
            "text/plain": [
              "                                                text               source  \\\n",
              "0  Carta Abierta a la señora Vanessa Hernández Sá...  Twitter for Android   \n",
              "1  @crhoycom Y de dónde pensará @figuerescr sacar...   Twitter for iPhone   \n",
              "2                  @crhoycom Vaya mierda @figuerescr  Twitter for Android   \n",
              "3  @FelipeGR2020 @crhoycom \"Sin embargo, agregó q...  Twitter for Android   \n",
              "4  @FelipeGR2020 @crhoycom @figuerescr Ahh claro!...   Twitter for iPhone   \n",
              "\n",
              "    gender   country  following  followers  like  share  reply  \n",
              "0  unknown  Colombia        876        876    30     15      0  \n",
              "1     male   unknown        111        111    14      2      0  \n",
              "2  unknown   unknown        265        265     4      1      0  \n",
              "3     male   unknown         93         93     0      0      0  \n",
              "4     male   unknown        111        111     0      0      0  "
            ],
            "text/html": [
              "\n",
              "  <div id=\"df-fd600640-91b3-4db6-9d58-81d8e6b85ac8\">\n",
              "    <div class=\"colab-df-container\">\n",
              "      <div>\n",
              "<style scoped>\n",
              "    .dataframe tbody tr th:only-of-type {\n",
              "        vertical-align: middle;\n",
              "    }\n",
              "\n",
              "    .dataframe tbody tr th {\n",
              "        vertical-align: top;\n",
              "    }\n",
              "\n",
              "    .dataframe thead th {\n",
              "        text-align: right;\n",
              "    }\n",
              "</style>\n",
              "<table border=\"1\" class=\"dataframe\">\n",
              "  <thead>\n",
              "    <tr style=\"text-align: right;\">\n",
              "      <th></th>\n",
              "      <th>text</th>\n",
              "      <th>source</th>\n",
              "      <th>gender</th>\n",
              "      <th>country</th>\n",
              "      <th>following</th>\n",
              "      <th>followers</th>\n",
              "      <th>like</th>\n",
              "      <th>share</th>\n",
              "      <th>reply</th>\n",
              "    </tr>\n",
              "  </thead>\n",
              "  <tbody>\n",
              "    <tr>\n",
              "      <th>0</th>\n",
              "      <td>Carta Abierta a la señora Vanessa Hernández Sá...</td>\n",
              "      <td>Twitter for Android</td>\n",
              "      <td>unknown</td>\n",
              "      <td>Colombia</td>\n",
              "      <td>876</td>\n",
              "      <td>876</td>\n",
              "      <td>30</td>\n",
              "      <td>15</td>\n",
              "      <td>0</td>\n",
              "    </tr>\n",
              "    <tr>\n",
              "      <th>1</th>\n",
              "      <td>@crhoycom Y de dónde pensará @figuerescr sacar...</td>\n",
              "      <td>Twitter for iPhone</td>\n",
              "      <td>male</td>\n",
              "      <td>unknown</td>\n",
              "      <td>111</td>\n",
              "      <td>111</td>\n",
              "      <td>14</td>\n",
              "      <td>2</td>\n",
              "      <td>0</td>\n",
              "    </tr>\n",
              "    <tr>\n",
              "      <th>2</th>\n",
              "      <td>@crhoycom Vaya mierda @figuerescr</td>\n",
              "      <td>Twitter for Android</td>\n",
              "      <td>unknown</td>\n",
              "      <td>unknown</td>\n",
              "      <td>265</td>\n",
              "      <td>265</td>\n",
              "      <td>4</td>\n",
              "      <td>1</td>\n",
              "      <td>0</td>\n",
              "    </tr>\n",
              "    <tr>\n",
              "      <th>3</th>\n",
              "      <td>@FelipeGR2020 @crhoycom \"Sin embargo, agregó q...</td>\n",
              "      <td>Twitter for Android</td>\n",
              "      <td>male</td>\n",
              "      <td>unknown</td>\n",
              "      <td>93</td>\n",
              "      <td>93</td>\n",
              "      <td>0</td>\n",
              "      <td>0</td>\n",
              "      <td>0</td>\n",
              "    </tr>\n",
              "    <tr>\n",
              "      <th>4</th>\n",
              "      <td>@FelipeGR2020 @crhoycom @figuerescr Ahh claro!...</td>\n",
              "      <td>Twitter for iPhone</td>\n",
              "      <td>male</td>\n",
              "      <td>unknown</td>\n",
              "      <td>111</td>\n",
              "      <td>111</td>\n",
              "      <td>0</td>\n",
              "      <td>0</td>\n",
              "      <td>0</td>\n",
              "    </tr>\n",
              "  </tbody>\n",
              "</table>\n",
              "</div>\n",
              "      <button class=\"colab-df-convert\" onclick=\"convertToInteractive('df-fd600640-91b3-4db6-9d58-81d8e6b85ac8')\"\n",
              "              title=\"Convert this dataframe to an interactive table.\"\n",
              "              style=\"display:none;\">\n",
              "        \n",
              "  <svg xmlns=\"http://www.w3.org/2000/svg\" height=\"24px\"viewBox=\"0 0 24 24\"\n",
              "       width=\"24px\">\n",
              "    <path d=\"M0 0h24v24H0V0z\" fill=\"none\"/>\n",
              "    <path d=\"M18.56 5.44l.94 2.06.94-2.06 2.06-.94-2.06-.94-.94-2.06-.94 2.06-2.06.94zm-11 1L8.5 8.5l.94-2.06 2.06-.94-2.06-.94L8.5 2.5l-.94 2.06-2.06.94zm10 10l.94 2.06.94-2.06 2.06-.94-2.06-.94-.94-2.06-.94 2.06-2.06.94z\"/><path d=\"M17.41 7.96l-1.37-1.37c-.4-.4-.92-.59-1.43-.59-.52 0-1.04.2-1.43.59L10.3 9.45l-7.72 7.72c-.78.78-.78 2.05 0 2.83L4 21.41c.39.39.9.59 1.41.59.51 0 1.02-.2 1.41-.59l7.78-7.78 2.81-2.81c.8-.78.8-2.07 0-2.86zM5.41 20L4 18.59l7.72-7.72 1.47 1.35L5.41 20z\"/>\n",
              "  </svg>\n",
              "      </button>\n",
              "      \n",
              "  <style>\n",
              "    .colab-df-container {\n",
              "      display:flex;\n",
              "      flex-wrap:wrap;\n",
              "      gap: 12px;\n",
              "    }\n",
              "\n",
              "    .colab-df-convert {\n",
              "      background-color: #E8F0FE;\n",
              "      border: none;\n",
              "      border-radius: 50%;\n",
              "      cursor: pointer;\n",
              "      display: none;\n",
              "      fill: #1967D2;\n",
              "      height: 32px;\n",
              "      padding: 0 0 0 0;\n",
              "      width: 32px;\n",
              "    }\n",
              "\n",
              "    .colab-df-convert:hover {\n",
              "      background-color: #E2EBFA;\n",
              "      box-shadow: 0px 1px 2px rgba(60, 64, 67, 0.3), 0px 1px 3px 1px rgba(60, 64, 67, 0.15);\n",
              "      fill: #174EA6;\n",
              "    }\n",
              "\n",
              "    [theme=dark] .colab-df-convert {\n",
              "      background-color: #3B4455;\n",
              "      fill: #D2E3FC;\n",
              "    }\n",
              "\n",
              "    [theme=dark] .colab-df-convert:hover {\n",
              "      background-color: #434B5C;\n",
              "      box-shadow: 0px 1px 3px 1px rgba(0, 0, 0, 0.15);\n",
              "      filter: drop-shadow(0px 1px 2px rgba(0, 0, 0, 0.3));\n",
              "      fill: #FFFFFF;\n",
              "    }\n",
              "  </style>\n",
              "\n",
              "      <script>\n",
              "        const buttonEl =\n",
              "          document.querySelector('#df-fd600640-91b3-4db6-9d58-81d8e6b85ac8 button.colab-df-convert');\n",
              "        buttonEl.style.display =\n",
              "          google.colab.kernel.accessAllowed ? 'block' : 'none';\n",
              "\n",
              "        async function convertToInteractive(key) {\n",
              "          const element = document.querySelector('#df-fd600640-91b3-4db6-9d58-81d8e6b85ac8');\n",
              "          const dataTable =\n",
              "            await google.colab.kernel.invokeFunction('convertToInteractive',\n",
              "                                                     [key], {});\n",
              "          if (!dataTable) return;\n",
              "\n",
              "          const docLinkHtml = 'Like what you see? Visit the ' +\n",
              "            '<a target=\"_blank\" href=https://colab.research.google.com/notebooks/data_table.ipynb>data table notebook</a>'\n",
              "            + ' to learn more about interactive tables.';\n",
              "          element.innerHTML = '';\n",
              "          dataTable['output_type'] = 'display_data';\n",
              "          await google.colab.output.renderOutput(dataTable, element);\n",
              "          const docLink = document.createElement('div');\n",
              "          docLink.innerHTML = docLinkHtml;\n",
              "          element.appendChild(docLink);\n",
              "        }\n",
              "      </script>\n",
              "    </div>\n",
              "  </div>\n",
              "  "
            ]
          },
          "metadata": {},
          "execution_count": 5
        }
      ]
    },
    {
      "cell_type": "code",
      "source": [
        "figueres_df[\"source\"].value_counts()"
      ],
      "metadata": {
        "colab": {
          "base_uri": "https://localhost:8080/"
        },
        "id": "o7Xak1f0oCG1",
        "outputId": "dfcafb33-7731-4c2c-a25b-356dc6e3ea27"
      },
      "execution_count": null,
      "outputs": [
        {
          "output_type": "execute_result",
          "data": {
            "text/plain": [
              "Twitter for Android      31507\n",
              "Twitter for iPhone       20690\n",
              "Twitter Web App          11329\n",
              "unknown                   1166\n",
              "TweetDeck                  672\n",
              "                         ...  \n",
              "Zendesk                      1\n",
              "INoticiasCL_APP_WRI_2        1\n",
              "JustoGuerrero                1\n",
              "Teleradio Americas           1\n",
              "Diario Neuquino Auto         1\n",
              "Name: source, Length: 100, dtype: int64"
            ]
          },
          "metadata": {},
          "execution_count": 6
        }
      ]
    },
    {
      "cell_type": "code",
      "source": [
        "unique_sources = figueres_df.source.unique()\n",
        "coded_sources = {}\n",
        "for i, source in enumerate(unique_sources):\n",
        "  coded_sources[source] = i\n",
        "figueres_df[\"source\"] = figueres_df.source.replace(coded_sources)"
      ],
      "metadata": {
        "id": "xCm7TOw1IXeb"
      },
      "execution_count": null,
      "outputs": []
    },
    {
      "cell_type": "code",
      "source": [
        "figueres_df[\"gender\"].value_counts()"
      ],
      "metadata": {
        "colab": {
          "base_uri": "https://localhost:8080/"
        },
        "id": "mp0gC9FRoJmt",
        "outputId": "14d0a697-bc66-4665-d9b7-3bcae92ba714"
      },
      "execution_count": null,
      "outputs": [
        {
          "output_type": "execute_result",
          "data": {
            "text/plain": [
              "male       31617\n",
              "unknown    28246\n",
              "female      7468\n",
              "Name: gender, dtype: int64"
            ]
          },
          "metadata": {},
          "execution_count": 8
        }
      ]
    },
    {
      "cell_type": "code",
      "source": [
        "unique_genders = figueres_df.gender.unique()\n",
        "coded_genders = {}\n",
        "for i, gender in enumerate(unique_genders):\n",
        "  coded_genders[gender] = i\n",
        "figueres_df[\"gender\"] = figueres_df.gender.replace(coded_genders)"
      ],
      "metadata": {
        "id": "8a_NVjIiI1wf"
      },
      "execution_count": null,
      "outputs": []
    },
    {
      "cell_type": "code",
      "source": [
        "figueres_df[\"country\"].value_counts()"
      ],
      "metadata": {
        "colab": {
          "base_uri": "https://localhost:8080/"
        },
        "id": "ZLo-cYoaomdu",
        "outputId": "5478795d-488d-4a29-b9a6-2e2966e7a0b0"
      },
      "execution_count": null,
      "outputs": [
        {
          "output_type": "execute_result",
          "data": {
            "text/plain": [
              "Costa Rica                                                                             33068\n",
              "unknown                                                                                30096\n",
              "Mexico                                                                                   847\n",
              "Colombia                                                                                 688\n",
              "Spain                                                                                    636\n",
              "Nicaragua                                                                                334\n",
              "Chile                                                                                    289\n",
              "Panama                                                                                   220\n",
              "Cuba                                                                                     166\n",
              "Calle América, Colectora, Santurce, San Juan, Puerto Rico, United States of America      163\n",
              "Ecuador                                                                                  155\n",
              "Guatemala Department, Guatemala                                                          127\n",
              "Honduras                                                                                 115\n",
              "Dominican Republic                                                                       113\n",
              "La Argentina, Occidente, Huila, Región Andina, Colombia                                   79\n",
              "El Salvador                                                                               67\n",
              "Paraguay                                                                                  40\n",
              "El Peru, Santa Ana, Sonora, Mexico                                                        32\n",
              "Belize                                                                                    30\n",
              "Cayman Islands                                                                            13\n",
              "Bank of America, Paulin Avenue, Calexico, United States of America                        10\n",
              "Jamaica                                                                                   10\n",
              "Venezuela, Ciego de Avila, Cuba                                                            7\n",
              "Barbados                                                                                   6\n",
              "Saint Martin (France), France                                                              5\n",
              "Netherlands                                                                                5\n",
              "Haiti                                                                                      3\n",
              "Brazil, Couva-Tabaquite-Talparo, Trinidad and Tobago                                       3\n",
              "Saint Vincent and the Grenadines                                                           2\n",
              "Saint Lucia                                                                                1\n",
              "Angola                                                                                     1\n",
              "Name: country, dtype: int64"
            ]
          },
          "metadata": {},
          "execution_count": 10
        }
      ]
    },
    {
      "cell_type": "code",
      "source": [
        "costa_rica = []\n",
        "for country in figueres_df[\"country\"]:\n",
        "  if country == 'Costa Rica':\n",
        "    costa_rica.append(1)\n",
        "  else:\n",
        "    costa_rica.append(0)\n",
        "figueres_df[\"Costa Rica\"] = pd.DataFrame(costa_rica)"
      ],
      "metadata": {
        "id": "6w2lvaH7WwSR"
      },
      "execution_count": null,
      "outputs": []
    },
    {
      "cell_type": "code",
      "source": [
        "unique_countries = figueres_df.country.unique()\n",
        "coded_countries = {}\n",
        "for i, location in enumerate(unique_countries):\n",
        "  coded_countries[location] = i\n",
        "figueres_df[\"country\"] = figueres_df.country.replace(coded_countries)"
      ],
      "metadata": {
        "id": "j-19iYqKI_09"
      },
      "execution_count": null,
      "outputs": []
    },
    {
      "cell_type": "code",
      "source": [
        "from pysentimiento import create_analyzer\n",
        "sentiment_analyzer = create_analyzer(task=\"sentiment\", lang=\"es\")"
      ],
      "metadata": {
        "id": "9tEd9ltOFwzW"
      },
      "execution_count": null,
      "outputs": []
    },
    {
      "cell_type": "code",
      "source": [
        "figueres_prob_pos = []\n",
        "figueres_prob_neu = []\n",
        "figueres_prob_neg = []\n",
        "outputs = sentiment_analyzer.predict(figueres_df[\"text\"].to_list())\n",
        "for output in outputs:\n",
        "  figueres_prob_pos.append(output.probas[\"POS\"])\n",
        "  figueres_prob_neu.append(output.probas[\"NEU\"])\n",
        "  figueres_prob_neg.append(output.probas[\"NEG\"])"
      ],
      "metadata": {
        "colab": {
          "base_uri": "https://localhost:8080/",
          "height": 176,
          "referenced_widgets": [
            "7ec7021e54c846edb7eb7df163bcb1eb",
            "2f455e6513c242fdb99670c8c87ecfb1",
            "b3f4aa4b019347c291792961648a586e",
            "f0bcb4214c694398b6a78eda9ab761f7",
            "40dc10736bd545f0b7aab27210278264",
            "ab423089d2984e7f8d27eeb1949e6ffd",
            "dd567648a728455a8538169fd2dd3eed",
            "8873e580b8e1443fbe8cca4c7baa1286",
            "e7bf5c85ee6545c0ba188ec9284563d2",
            "9210223a3f7941a2bf0e64040f4f111b",
            "0597c81274064b5984a35ac6d6fc1414"
          ]
        },
        "id": "bvDYZIfWGJRt",
        "outputId": "2a8912c4-321f-4b92-d240-677bcb08dcc3"
      },
      "execution_count": null,
      "outputs": [
        {
          "output_type": "stream",
          "name": "stderr",
          "text": [
            "Parameter 'function'=<function BaseAnalyzer._tokenize at 0x7f23bc125830> of the transform datasets.arrow_dataset.Dataset._map_single couldn't be hashed properly, a random hash was used instead. Make sure your transforms and parameters are serializable with pickle or dill for the dataset fingerprinting and caching to work. If you reuse this transform, the caching mechanism will consider it to be different from the previous calls and recompute everything. This warning is only showed once. Subsequent hashing failures won't be showed.\n"
          ]
        },
        {
          "output_type": "display_data",
          "data": {
            "text/plain": [
              "  0%|          | 0/2105 [00:00<?, ?ba/s]"
            ],
            "application/vnd.jupyter.widget-view+json": {
              "version_major": 2,
              "version_minor": 0,
              "model_id": "7ec7021e54c846edb7eb7df163bcb1eb"
            }
          },
          "metadata": {}
        },
        {
          "output_type": "stream",
          "name": "stderr",
          "text": [
            "The following columns in the test set  don't have a corresponding argument in `RobertaForSequenceClassification.forward` and have been ignored: text.\n",
            "***** Running Prediction *****\n",
            "  Num examples = 67331\n",
            "  Batch size = 32\n"
          ]
        },
        {
          "output_type": "display_data",
          "data": {
            "text/plain": [
              "<IPython.core.display.HTML object>"
            ],
            "text/html": [
              "\n",
              "    <div>\n",
              "      \n",
              "      <progress value='2105' max='2105' style='width:300px; height:20px; vertical-align: middle;'></progress>\n",
              "      [2105/2105 03:05]\n",
              "    </div>\n",
              "    "
            ]
          },
          "metadata": {}
        }
      ]
    },
    {
      "cell_type": "code",
      "source": [
        "figueres_scores = np.array(figueres_prob_pos) + 0.5*np.array(figueres_prob_neu) #score = 1*prob_pos + 0.5*prob_neu + 0*prob_neg\n",
        "figueres_df[\"score\"] = figueres_scores"
      ],
      "metadata": {
        "id": "9gd9rVIdhLKS"
      },
      "execution_count": null,
      "outputs": []
    },
    {
      "cell_type": "code",
      "source": [
        "figueres_df.head()"
      ],
      "metadata": {
        "colab": {
          "base_uri": "https://localhost:8080/",
          "height": 206
        },
        "id": "_b-YUBtxQzQy",
        "outputId": "d76f423c-db06-43bb-8de3-893941c1d024"
      },
      "execution_count": null,
      "outputs": [
        {
          "output_type": "execute_result",
          "data": {
            "text/plain": [
              "                                                text  source  gender  country  \\\n",
              "0  Carta Abierta a la señora Vanessa Hernández Sá...       0       0        0   \n",
              "1  @crhoycom Y de dónde pensará @figuerescr sacar...       1       1        1   \n",
              "2                  @crhoycom Vaya mierda @figuerescr       0       0        1   \n",
              "3  @FelipeGR2020 @crhoycom \"Sin embargo, agregó q...       0       1        1   \n",
              "4  @FelipeGR2020 @crhoycom @figuerescr Ahh claro!...       1       1        1   \n",
              "\n",
              "   following  followers  like  share  reply  Costa Rica     score  \n",
              "0        876        876    30     15      0           0  0.429630  \n",
              "1        111        111    14      2      0           0  0.002254  \n",
              "2        265        265     4      1      0           0  0.001656  \n",
              "3         93         93     0      0      0           0  0.589855  \n",
              "4        111        111     0      0      0           0  0.108665  "
            ],
            "text/html": [
              "\n",
              "  <div id=\"df-63fa373f-007a-46e5-8938-6356657195d2\">\n",
              "    <div class=\"colab-df-container\">\n",
              "      <div>\n",
              "<style scoped>\n",
              "    .dataframe tbody tr th:only-of-type {\n",
              "        vertical-align: middle;\n",
              "    }\n",
              "\n",
              "    .dataframe tbody tr th {\n",
              "        vertical-align: top;\n",
              "    }\n",
              "\n",
              "    .dataframe thead th {\n",
              "        text-align: right;\n",
              "    }\n",
              "</style>\n",
              "<table border=\"1\" class=\"dataframe\">\n",
              "  <thead>\n",
              "    <tr style=\"text-align: right;\">\n",
              "      <th></th>\n",
              "      <th>text</th>\n",
              "      <th>source</th>\n",
              "      <th>gender</th>\n",
              "      <th>country</th>\n",
              "      <th>following</th>\n",
              "      <th>followers</th>\n",
              "      <th>like</th>\n",
              "      <th>share</th>\n",
              "      <th>reply</th>\n",
              "      <th>Costa Rica</th>\n",
              "      <th>score</th>\n",
              "    </tr>\n",
              "  </thead>\n",
              "  <tbody>\n",
              "    <tr>\n",
              "      <th>0</th>\n",
              "      <td>Carta Abierta a la señora Vanessa Hernández Sá...</td>\n",
              "      <td>0</td>\n",
              "      <td>0</td>\n",
              "      <td>0</td>\n",
              "      <td>876</td>\n",
              "      <td>876</td>\n",
              "      <td>30</td>\n",
              "      <td>15</td>\n",
              "      <td>0</td>\n",
              "      <td>0</td>\n",
              "      <td>0.429630</td>\n",
              "    </tr>\n",
              "    <tr>\n",
              "      <th>1</th>\n",
              "      <td>@crhoycom Y de dónde pensará @figuerescr sacar...</td>\n",
              "      <td>1</td>\n",
              "      <td>1</td>\n",
              "      <td>1</td>\n",
              "      <td>111</td>\n",
              "      <td>111</td>\n",
              "      <td>14</td>\n",
              "      <td>2</td>\n",
              "      <td>0</td>\n",
              "      <td>0</td>\n",
              "      <td>0.002254</td>\n",
              "    </tr>\n",
              "    <tr>\n",
              "      <th>2</th>\n",
              "      <td>@crhoycom Vaya mierda @figuerescr</td>\n",
              "      <td>0</td>\n",
              "      <td>0</td>\n",
              "      <td>1</td>\n",
              "      <td>265</td>\n",
              "      <td>265</td>\n",
              "      <td>4</td>\n",
              "      <td>1</td>\n",
              "      <td>0</td>\n",
              "      <td>0</td>\n",
              "      <td>0.001656</td>\n",
              "    </tr>\n",
              "    <tr>\n",
              "      <th>3</th>\n",
              "      <td>@FelipeGR2020 @crhoycom \"Sin embargo, agregó q...</td>\n",
              "      <td>0</td>\n",
              "      <td>1</td>\n",
              "      <td>1</td>\n",
              "      <td>93</td>\n",
              "      <td>93</td>\n",
              "      <td>0</td>\n",
              "      <td>0</td>\n",
              "      <td>0</td>\n",
              "      <td>0</td>\n",
              "      <td>0.589855</td>\n",
              "    </tr>\n",
              "    <tr>\n",
              "      <th>4</th>\n",
              "      <td>@FelipeGR2020 @crhoycom @figuerescr Ahh claro!...</td>\n",
              "      <td>1</td>\n",
              "      <td>1</td>\n",
              "      <td>1</td>\n",
              "      <td>111</td>\n",
              "      <td>111</td>\n",
              "      <td>0</td>\n",
              "      <td>0</td>\n",
              "      <td>0</td>\n",
              "      <td>0</td>\n",
              "      <td>0.108665</td>\n",
              "    </tr>\n",
              "  </tbody>\n",
              "</table>\n",
              "</div>\n",
              "      <button class=\"colab-df-convert\" onclick=\"convertToInteractive('df-63fa373f-007a-46e5-8938-6356657195d2')\"\n",
              "              title=\"Convert this dataframe to an interactive table.\"\n",
              "              style=\"display:none;\">\n",
              "        \n",
              "  <svg xmlns=\"http://www.w3.org/2000/svg\" height=\"24px\"viewBox=\"0 0 24 24\"\n",
              "       width=\"24px\">\n",
              "    <path d=\"M0 0h24v24H0V0z\" fill=\"none\"/>\n",
              "    <path d=\"M18.56 5.44l.94 2.06.94-2.06 2.06-.94-2.06-.94-.94-2.06-.94 2.06-2.06.94zm-11 1L8.5 8.5l.94-2.06 2.06-.94-2.06-.94L8.5 2.5l-.94 2.06-2.06.94zm10 10l.94 2.06.94-2.06 2.06-.94-2.06-.94-.94-2.06-.94 2.06-2.06.94z\"/><path d=\"M17.41 7.96l-1.37-1.37c-.4-.4-.92-.59-1.43-.59-.52 0-1.04.2-1.43.59L10.3 9.45l-7.72 7.72c-.78.78-.78 2.05 0 2.83L4 21.41c.39.39.9.59 1.41.59.51 0 1.02-.2 1.41-.59l7.78-7.78 2.81-2.81c.8-.78.8-2.07 0-2.86zM5.41 20L4 18.59l7.72-7.72 1.47 1.35L5.41 20z\"/>\n",
              "  </svg>\n",
              "      </button>\n",
              "      \n",
              "  <style>\n",
              "    .colab-df-container {\n",
              "      display:flex;\n",
              "      flex-wrap:wrap;\n",
              "      gap: 12px;\n",
              "    }\n",
              "\n",
              "    .colab-df-convert {\n",
              "      background-color: #E8F0FE;\n",
              "      border: none;\n",
              "      border-radius: 50%;\n",
              "      cursor: pointer;\n",
              "      display: none;\n",
              "      fill: #1967D2;\n",
              "      height: 32px;\n",
              "      padding: 0 0 0 0;\n",
              "      width: 32px;\n",
              "    }\n",
              "\n",
              "    .colab-df-convert:hover {\n",
              "      background-color: #E2EBFA;\n",
              "      box-shadow: 0px 1px 2px rgba(60, 64, 67, 0.3), 0px 1px 3px 1px rgba(60, 64, 67, 0.15);\n",
              "      fill: #174EA6;\n",
              "    }\n",
              "\n",
              "    [theme=dark] .colab-df-convert {\n",
              "      background-color: #3B4455;\n",
              "      fill: #D2E3FC;\n",
              "    }\n",
              "\n",
              "    [theme=dark] .colab-df-convert:hover {\n",
              "      background-color: #434B5C;\n",
              "      box-shadow: 0px 1px 3px 1px rgba(0, 0, 0, 0.15);\n",
              "      filter: drop-shadow(0px 1px 2px rgba(0, 0, 0, 0.3));\n",
              "      fill: #FFFFFF;\n",
              "    }\n",
              "  </style>\n",
              "\n",
              "      <script>\n",
              "        const buttonEl =\n",
              "          document.querySelector('#df-63fa373f-007a-46e5-8938-6356657195d2 button.colab-df-convert');\n",
              "        buttonEl.style.display =\n",
              "          google.colab.kernel.accessAllowed ? 'block' : 'none';\n",
              "\n",
              "        async function convertToInteractive(key) {\n",
              "          const element = document.querySelector('#df-63fa373f-007a-46e5-8938-6356657195d2');\n",
              "          const dataTable =\n",
              "            await google.colab.kernel.invokeFunction('convertToInteractive',\n",
              "                                                     [key], {});\n",
              "          if (!dataTable) return;\n",
              "\n",
              "          const docLinkHtml = 'Like what you see? Visit the ' +\n",
              "            '<a target=\"_blank\" href=https://colab.research.google.com/notebooks/data_table.ipynb>data table notebook</a>'\n",
              "            + ' to learn more about interactive tables.';\n",
              "          element.innerHTML = '';\n",
              "          dataTable['output_type'] = 'display_data';\n",
              "          await google.colab.output.renderOutput(dataTable, element);\n",
              "          const docLink = document.createElement('div');\n",
              "          docLink.innerHTML = docLinkHtml;\n",
              "          element.appendChild(docLink);\n",
              "        }\n",
              "      </script>\n",
              "    </div>\n",
              "  </div>\n",
              "  "
            ]
          },
          "metadata": {},
          "execution_count": 16
        }
      ]
    },
    {
      "cell_type": "code",
      "source": [
        "X_train, X_test, y_train, y_test = train_test_split(figueres_df[[\"source\", \"gender\", \"country\", \"following\", \"followers\", \"like\", \"share\", \"reply\", \"Costa Rica\"]], figueres_df[\"score\"],test_size=0.2)"
      ],
      "metadata": {
        "id": "upJuNMMuNBEM"
      },
      "execution_count": null,
      "outputs": []
    },
    {
      "cell_type": "code",
      "source": [
        "figueres_model = RandomForestRegressor()\n",
        "figueres_model.fit(X_train, y_train)"
      ],
      "metadata": {
        "id": "GwsM21vVLSgR",
        "colab": {
          "base_uri": "https://localhost:8080/"
        },
        "outputId": "060e62c8-4fc4-4db0-c3a7-1b41fa82927b"
      },
      "execution_count": null,
      "outputs": [
        {
          "output_type": "execute_result",
          "data": {
            "text/plain": [
              "RandomForestRegressor()"
            ]
          },
          "metadata": {},
          "execution_count": 18
        }
      ]
    },
    {
      "cell_type": "code",
      "source": [
        "# Evaluate on training data\n",
        "train_RMSE = np.sqrt(np.mean(figueres_model.predict(X_train)-y_train)**2)\n",
        "print(f'Train RMSE:\\t{train_RMSE:4f}')\n",
        "\n",
        "# Evaluate on test data\n",
        "test_RMSE = np.sqrt(np.mean(figueres_model.predict(X_test)-y_test)**2)\n",
        "print(f'Test RMSE:\\t{test_RMSE:.4f}')"
      ],
      "metadata": {
        "id": "Um4o3rxcbISa",
        "colab": {
          "base_uri": "https://localhost:8080/"
        },
        "outputId": "c57df9f3-cc04-4e2b-f49e-019697e5bf72"
      },
      "execution_count": null,
      "outputs": [
        {
          "output_type": "stream",
          "name": "stdout",
          "text": [
            "Train RMSE:\t0.000551\n",
            "Test RMSE:\t0.0067\n"
          ]
        }
      ]
    },
    {
      "cell_type": "code",
      "source": [
        "source  = 'Twitter for Android'\n",
        "gender = 'male'\n",
        "country = 'Costa Rica'\n",
        "following = 50\n",
        "followers = 0\n",
        "like = 25\n",
        "share = 10\n",
        "reply = 3\n",
        "if country == 'Costa Rica':\n",
        "  costa_rica = 1\n",
        "else:\n",
        "  costa_rica = 0\n",
        "\n",
        "sample = np.array([coded_sources[source], coded_genders[gender], coded_countries[country], following, followers, like, share, reply, costa_rica]).reshape(1, -1)\n",
        "figueres_model.predict(sample)"
      ],
      "metadata": {
        "id": "aAf69cQWUhdv",
        "colab": {
          "base_uri": "https://localhost:8080/"
        },
        "outputId": "a7756663-2c0d-4d8d-c984-c20f2054cc72"
      },
      "execution_count": null,
      "outputs": [
        {
          "output_type": "stream",
          "name": "stderr",
          "text": [
            "/usr/local/lib/python3.7/dist-packages/sklearn/base.py:451: UserWarning: X does not have valid feature names, but RandomForestRegressor was fitted with feature names\n",
            "  \"X does not have valid feature names, but\"\n"
          ]
        },
        {
          "output_type": "execute_result",
          "data": {
            "text/plain": [
              "array([0.3232339])"
            ]
          },
          "metadata": {},
          "execution_count": 20
        }
      ]
    },
    {
      "cell_type": "markdown",
      "source": [
        "Chaves"
      ],
      "metadata": {
        "id": "a2G9BoledIjv"
      }
    },
    {
      "cell_type": "code",
      "source": [
        "chaves_df[\"source\"].value_counts()"
      ],
      "metadata": {
        "colab": {
          "base_uri": "https://localhost:8080/"
        },
        "id": "5Q0rlmagF4vA",
        "outputId": "b6864829-1acd-48cb-9b08-81e989f2bab8"
      },
      "execution_count": null,
      "outputs": [
        {
          "output_type": "execute_result",
          "data": {
            "text/plain": [
              "Twitter for Android    46985\n",
              "Twitter for iPhone     31843\n",
              "Twitter Web App        20549\n",
              "TweetDeck               1721\n",
              "Echobox                  923\n",
              "                       ...  \n",
              "Fogos.pt                   1\n",
              "radiosantafe               1\n",
              "Tweepsmap                  1\n",
              "williamsv76                1\n",
              "El Markovian               1\n",
              "Name: source, Length: 199, dtype: int64"
            ]
          },
          "metadata": {},
          "execution_count": 21
        }
      ]
    },
    {
      "cell_type": "code",
      "source": [
        "unique_sources = chaves_df.source.unique()\n",
        "coded_sources = {}\n",
        "for i, source in enumerate(unique_sources):\n",
        "  coded_sources[source] = i\n",
        "chaves_df[\"source\"] = chaves_df.source.replace(coded_sources)"
      ],
      "metadata": {
        "id": "MOehGQShF5eR"
      },
      "execution_count": null,
      "outputs": []
    },
    {
      "cell_type": "code",
      "source": [
        "chaves_df[\"gender\"].value_counts()"
      ],
      "metadata": {
        "colab": {
          "base_uri": "https://localhost:8080/"
        },
        "id": "9iPy4Ae9F-0q",
        "outputId": "e6dae2ca-324b-457c-a8e5-58040e8ee607"
      },
      "execution_count": null,
      "outputs": [
        {
          "output_type": "execute_result",
          "data": {
            "text/plain": [
              "unknown    46073\n",
              "male       44145\n",
              "female     15405\n",
              "Name: gender, dtype: int64"
            ]
          },
          "metadata": {},
          "execution_count": 23
        }
      ]
    },
    {
      "cell_type": "code",
      "source": [
        "unique_genders = chaves_df.gender.unique()\n",
        "coded_genders = {}\n",
        "for i, gender in enumerate(unique_genders):\n",
        "  coded_genders[gender] = i\n",
        "chaves_df[\"gender\"] = chaves_df.gender.replace(coded_genders)"
      ],
      "metadata": {
        "id": "bZ1asZO3GGXO"
      },
      "execution_count": null,
      "outputs": []
    },
    {
      "cell_type": "code",
      "source": [
        "chaves_df[\"country\"].value_counts()"
      ],
      "metadata": {
        "colab": {
          "base_uri": "https://localhost:8080/"
        },
        "id": "zCAsfhXJGKBp",
        "outputId": "d4ba9768-0c45-41e2-b325-8a421e98e5eb"
      },
      "execution_count": null,
      "outputs": [
        {
          "output_type": "execute_result",
          "data": {
            "text/plain": [
              "Costa Rica                                                                                      50722\n",
              "unknown                                                                                         44925\n",
              "Colombia                                                                                         2181\n",
              "Mexico                                                                                           1572\n",
              "Spain                                                                                            1308\n",
              "Nicaragua                                                                                         632\n",
              "Panama                                                                                            597\n",
              "Ecuador                                                                                           559\n",
              "Cuba                                                                                              550\n",
              "Dominican Republic                                                                                500\n",
              "Calle América, Colectora, Santurce, San Juan, Puerto Rico, United States of America               357\n",
              "Chile                                                                                             294\n",
              "Honduras                                                                                          273\n",
              "La Argentina, Occidente, Huila, Región Andina, Colombia                                           252\n",
              "El Salvador                                                                                       226\n",
              "Guatemala Department, Guatemala                                                                   200\n",
              "Paraguay                                                                                           99\n",
              "Cayman Islands                                                                                     74\n",
              "El Peru, Santa Ana, Sonora, Mexico                                                                 58\n",
              "Belize                                                                                             51\n",
              "Venezuela, Ciego de Avila, Cuba                                                                    47\n",
              "Saint Martin (France), France                                                                      33\n",
              "Netherlands                                                                                        26\n",
              "Jamaica                                                                                            25\n",
              "Barbados                                                                                           19\n",
              "Haiti                                                                                              11\n",
              "Angola                                                                                              8\n",
              "Brazil, Couva-Tabaquite-Talparo, Trinidad and Tobago                                                8\n",
              "Portugal                                                                                            5\n",
              "The Bahamas                                                                                         4\n",
              "Saint Lucia                                                                                         3\n",
              "Bank of America, Paulin Avenue, Calexico, United States of America                                  1\n",
              "BRAZIL GREEN, Atalaya Etapa 1, Cúcuta, Oriental, Norte de Santander, Región Andina, Colombia        1\n",
              "Saint Vincent and the Grenadines                                                                    1\n",
              "Trinidad and Tobago                                                                                 1\n",
              "Name: country, dtype: int64"
            ]
          },
          "metadata": {},
          "execution_count": 25
        }
      ]
    },
    {
      "cell_type": "code",
      "source": [
        "costa_rica = []\n",
        "for country in chaves_df[\"country\"]:\n",
        "  if country == 'Costa Rica':\n",
        "    costa_rica.append(1)\n",
        "  else:\n",
        "    costa_rica.append(0)\n",
        "chaves_df[\"Costa Rica\"] = pd.DataFrame(costa_rica)"
      ],
      "metadata": {
        "id": "dE37leLHGONH"
      },
      "execution_count": null,
      "outputs": []
    },
    {
      "cell_type": "code",
      "source": [
        "unique_countries = chaves_df.country.unique()\n",
        "coded_countries = {}\n",
        "for i, location in enumerate(unique_countries):\n",
        "  coded_countries[location] = i\n",
        "chaves_df[\"country\"] = chaves_df.country.replace(coded_countries)"
      ],
      "metadata": {
        "id": "1jM73LLoGSIY"
      },
      "execution_count": null,
      "outputs": []
    },
    {
      "cell_type": "code",
      "source": [
        "chaves_prob_pos = []\n",
        "chaves_prob_neu = []\n",
        "chaves_prob_neg = []\n",
        "outputs = sentiment_analyzer.predict(chaves_df[\"text\"].to_list())\n",
        "for output in outputs:\n",
        "  chaves_prob_pos.append(output.probas[\"POS\"])\n",
        "  chaves_prob_neu.append(output.probas[\"NEU\"])\n",
        "  chaves_prob_neg.append(output.probas[\"NEG\"])"
      ],
      "metadata": {
        "colab": {
          "base_uri": "https://localhost:8080/",
          "height": 138,
          "referenced_widgets": [
            "2d992bcaebf6420ebcf63a0ccb296f35",
            "005294c5c384487b95467e4c1bfc4873",
            "eb2b13de26ea4150a9c81e43b686eb2a",
            "180115709a2b49d0836cb02cf1d8d376",
            "2e208b73f1c343998d828f6804ca2c3b",
            "f10294e85c634d0c9abf6cbc4667f674",
            "b7d42da9d2b845d58251a561507974c7",
            "83b6290acdbd4cfb95c34605a8865faf",
            "f372e8cf04a64684b76ee80767bce8f5",
            "b78b229a9d574fb4a4137c2ef2c5d976",
            "2d752aed624a4d8ca796bab6aea41682"
          ]
        },
        "id": "FHydux-7GZst",
        "outputId": "c4fd0727-7a0f-49b4-b8b0-1210fed6dc78"
      },
      "execution_count": null,
      "outputs": [
        {
          "output_type": "display_data",
          "data": {
            "text/plain": [
              "  0%|          | 0/3301 [00:00<?, ?ba/s]"
            ],
            "application/vnd.jupyter.widget-view+json": {
              "version_major": 2,
              "version_minor": 0,
              "model_id": "2d992bcaebf6420ebcf63a0ccb296f35"
            }
          },
          "metadata": {}
        },
        {
          "output_type": "stream",
          "name": "stderr",
          "text": [
            "The following columns in the test set  don't have a corresponding argument in `RobertaForSequenceClassification.forward` and have been ignored: text.\n",
            "***** Running Prediction *****\n",
            "  Num examples = 105623\n",
            "  Batch size = 32\n"
          ]
        },
        {
          "output_type": "display_data",
          "data": {
            "text/plain": [
              "<IPython.core.display.HTML object>"
            ],
            "text/html": [
              "\n",
              "    <div>\n",
              "      \n",
              "      <progress value='5406' max='2105' style='width:300px; height:20px; vertical-align: middle;'></progress>\n",
              "      [2105/2105 09:01]\n",
              "    </div>\n",
              "    "
            ]
          },
          "metadata": {}
        }
      ]
    },
    {
      "cell_type": "code",
      "source": [
        "chaves_scores = np.array(chaves_prob_pos) + 0.5*np.array(chaves_prob_neu) #score = 1*prob_pos + 0.5*prob_neu + 0*prob_neg\n",
        "chaves_df[\"score\"] = chaves_scores"
      ],
      "metadata": {
        "id": "2SYj-72CGdNU"
      },
      "execution_count": null,
      "outputs": []
    },
    {
      "cell_type": "code",
      "source": [
        "X_train, X_test, y_train, y_test = train_test_split(chaves_df[[\"source\", \"gender\", \"country\", \"following\", \"followers\", \"like\", \"share\", \"reply\", \"Costa Rica\"]], chaves_df[\"score\"],test_size=0.2)"
      ],
      "metadata": {
        "id": "9JjPFZ5wGhki"
      },
      "execution_count": null,
      "outputs": []
    },
    {
      "cell_type": "code",
      "source": [
        "chaves_model = RandomForestRegressor()\n",
        "chaves_model.fit(X_train, y_train)"
      ],
      "metadata": {
        "colab": {
          "base_uri": "https://localhost:8080/"
        },
        "id": "pwHXNKCTGlIU",
        "outputId": "3dc2ee11-a6e9-403e-fdc2-8960f777c67e"
      },
      "execution_count": null,
      "outputs": [
        {
          "output_type": "execute_result",
          "data": {
            "text/plain": [
              "RandomForestRegressor()"
            ]
          },
          "metadata": {},
          "execution_count": 31
        }
      ]
    },
    {
      "cell_type": "code",
      "source": [
        "# Evaluate on training data\n",
        "train_RMSE = np.sqrt(np.mean(chaves_model.predict(X_train)-y_train)**2)\n",
        "print(f'Train RMSE:\\t{train_RMSE:4f}')\n",
        "\n",
        "# Evaluate on test data\n",
        "test_RMSE = np.sqrt(np.mean(chaves_model.predict(X_test)-y_test)**2)\n",
        "print(f'Test RMSE:\\t{test_RMSE:.4f}')"
      ],
      "metadata": {
        "colab": {
          "base_uri": "https://localhost:8080/"
        },
        "id": "nIUeVxX1Gsn5",
        "outputId": "40097960-7b4d-436b-81ec-a457927e7394"
      },
      "execution_count": null,
      "outputs": [
        {
          "output_type": "stream",
          "name": "stdout",
          "text": [
            "Train RMSE:\t0.001184\n",
            "Test RMSE:\t0.0077\n"
          ]
        }
      ]
    },
    {
      "cell_type": "code",
      "source": [
        "source  = 'Twitter for Android'\n",
        "gender = 'male'\n",
        "country = 'Costa Rica'\n",
        "following = 50\n",
        "followers = 0\n",
        "like = 25\n",
        "share = 10\n",
        "reply = 3\n",
        "if country == 'Costa Rica':\n",
        "  costa_rica = 1\n",
        "else:\n",
        "  costa_rica = 0\n",
        "\n",
        "sample = np.array([coded_sources[source], coded_genders[gender], coded_countries[country], following, followers, like, share, reply, costa_rica]).reshape(1, -1)\n",
        "chaves_model.predict(sample)"
      ],
      "metadata": {
        "colab": {
          "base_uri": "https://localhost:8080/"
        },
        "id": "1vLT1KRCGwbK",
        "outputId": "2fdda880-4251-4f11-957b-7394d35be628"
      },
      "execution_count": null,
      "outputs": [
        {
          "output_type": "stream",
          "name": "stderr",
          "text": [
            "/usr/local/lib/python3.7/dist-packages/sklearn/base.py:451: UserWarning: X does not have valid feature names, but RandomForestRegressor was fitted with feature names\n",
            "  \"X does not have valid feature names, but\"\n"
          ]
        },
        {
          "output_type": "execute_result",
          "data": {
            "text/plain": [
              "array([0.49286677])"
            ]
          },
          "metadata": {},
          "execution_count": 33
        }
      ]
    }
  ]
}