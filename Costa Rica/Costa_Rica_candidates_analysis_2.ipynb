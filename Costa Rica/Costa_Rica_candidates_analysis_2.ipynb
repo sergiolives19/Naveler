{
  "nbformat": 4,
  "nbformat_minor": 0,
  "metadata": {
    "colab": {
      "name": "Costa_Rica_candidates_analysis_2.ipynb",
      "provenance": [],
      "collapsed_sections": []
    },
    "kernelspec": {
      "name": "python3",
      "display_name": "Python 3"
    },
    "language_info": {
      "name": "python"
    },
    "accelerator": "GPU",
    "gpuClass": "standard",
    "widgets": {
      "application/vnd.jupyter.widget-state+json": {
        "0d7297b3a81a41b5ae6a4a02b9fc0d26": {
          "model_module": "@jupyter-widgets/controls",
          "model_name": "HBoxModel",
          "model_module_version": "1.5.0",
          "state": {
            "_dom_classes": [],
            "_model_module": "@jupyter-widgets/controls",
            "_model_module_version": "1.5.0",
            "_model_name": "HBoxModel",
            "_view_count": null,
            "_view_module": "@jupyter-widgets/controls",
            "_view_module_version": "1.5.0",
            "_view_name": "HBoxView",
            "box_style": "",
            "children": [
              "IPY_MODEL_ad519747d7504d91997ce5a9828f1b33",
              "IPY_MODEL_eab27525205645e3a31c0979e16662c5",
              "IPY_MODEL_c60201fc52014ecf8be6bf9b7190fa31"
            ],
            "layout": "IPY_MODEL_ce7fa7b289434783b9597da64da5141b"
          }
        },
        "ad519747d7504d91997ce5a9828f1b33": {
          "model_module": "@jupyter-widgets/controls",
          "model_name": "HTMLModel",
          "model_module_version": "1.5.0",
          "state": {
            "_dom_classes": [],
            "_model_module": "@jupyter-widgets/controls",
            "_model_module_version": "1.5.0",
            "_model_name": "HTMLModel",
            "_view_count": null,
            "_view_module": "@jupyter-widgets/controls",
            "_view_module_version": "1.5.0",
            "_view_name": "HTMLView",
            "description": "",
            "description_tooltip": null,
            "layout": "IPY_MODEL_bb8125e6c2a64a8fb7315e287836a9a2",
            "placeholder": "​",
            "style": "IPY_MODEL_f057a3059df349ab80546e4773db390e",
            "value": "100%"
          }
        },
        "eab27525205645e3a31c0979e16662c5": {
          "model_module": "@jupyter-widgets/controls",
          "model_name": "FloatProgressModel",
          "model_module_version": "1.5.0",
          "state": {
            "_dom_classes": [],
            "_model_module": "@jupyter-widgets/controls",
            "_model_module_version": "1.5.0",
            "_model_name": "FloatProgressModel",
            "_view_count": null,
            "_view_module": "@jupyter-widgets/controls",
            "_view_module_version": "1.5.0",
            "_view_name": "ProgressView",
            "bar_style": "success",
            "description": "",
            "description_tooltip": null,
            "layout": "IPY_MODEL_79d8364a286549dc94d2cbffe5a87ae5",
            "max": 2105,
            "min": 0,
            "orientation": "horizontal",
            "style": "IPY_MODEL_c8b5dd00e6454364b9c0d38ca82e5903",
            "value": 2105
          }
        },
        "c60201fc52014ecf8be6bf9b7190fa31": {
          "model_module": "@jupyter-widgets/controls",
          "model_name": "HTMLModel",
          "model_module_version": "1.5.0",
          "state": {
            "_dom_classes": [],
            "_model_module": "@jupyter-widgets/controls",
            "_model_module_version": "1.5.0",
            "_model_name": "HTMLModel",
            "_view_count": null,
            "_view_module": "@jupyter-widgets/controls",
            "_view_module_version": "1.5.0",
            "_view_name": "HTMLView",
            "description": "",
            "description_tooltip": null,
            "layout": "IPY_MODEL_15b4978ee7cf47e9b70735782f0e5990",
            "placeholder": "​",
            "style": "IPY_MODEL_85ad990cfaf94499add7deef3488593b",
            "value": " 2105/2105 [00:11&lt;00:00, 175.83ba/s]"
          }
        },
        "ce7fa7b289434783b9597da64da5141b": {
          "model_module": "@jupyter-widgets/base",
          "model_name": "LayoutModel",
          "model_module_version": "1.2.0",
          "state": {
            "_model_module": "@jupyter-widgets/base",
            "_model_module_version": "1.2.0",
            "_model_name": "LayoutModel",
            "_view_count": null,
            "_view_module": "@jupyter-widgets/base",
            "_view_module_version": "1.2.0",
            "_view_name": "LayoutView",
            "align_content": null,
            "align_items": null,
            "align_self": null,
            "border": null,
            "bottom": null,
            "display": null,
            "flex": null,
            "flex_flow": null,
            "grid_area": null,
            "grid_auto_columns": null,
            "grid_auto_flow": null,
            "grid_auto_rows": null,
            "grid_column": null,
            "grid_gap": null,
            "grid_row": null,
            "grid_template_areas": null,
            "grid_template_columns": null,
            "grid_template_rows": null,
            "height": null,
            "justify_content": null,
            "justify_items": null,
            "left": null,
            "margin": null,
            "max_height": null,
            "max_width": null,
            "min_height": null,
            "min_width": null,
            "object_fit": null,
            "object_position": null,
            "order": null,
            "overflow": null,
            "overflow_x": null,
            "overflow_y": null,
            "padding": null,
            "right": null,
            "top": null,
            "visibility": null,
            "width": null
          }
        },
        "bb8125e6c2a64a8fb7315e287836a9a2": {
          "model_module": "@jupyter-widgets/base",
          "model_name": "LayoutModel",
          "model_module_version": "1.2.0",
          "state": {
            "_model_module": "@jupyter-widgets/base",
            "_model_module_version": "1.2.0",
            "_model_name": "LayoutModel",
            "_view_count": null,
            "_view_module": "@jupyter-widgets/base",
            "_view_module_version": "1.2.0",
            "_view_name": "LayoutView",
            "align_content": null,
            "align_items": null,
            "align_self": null,
            "border": null,
            "bottom": null,
            "display": null,
            "flex": null,
            "flex_flow": null,
            "grid_area": null,
            "grid_auto_columns": null,
            "grid_auto_flow": null,
            "grid_auto_rows": null,
            "grid_column": null,
            "grid_gap": null,
            "grid_row": null,
            "grid_template_areas": null,
            "grid_template_columns": null,
            "grid_template_rows": null,
            "height": null,
            "justify_content": null,
            "justify_items": null,
            "left": null,
            "margin": null,
            "max_height": null,
            "max_width": null,
            "min_height": null,
            "min_width": null,
            "object_fit": null,
            "object_position": null,
            "order": null,
            "overflow": null,
            "overflow_x": null,
            "overflow_y": null,
            "padding": null,
            "right": null,
            "top": null,
            "visibility": null,
            "width": null
          }
        },
        "f057a3059df349ab80546e4773db390e": {
          "model_module": "@jupyter-widgets/controls",
          "model_name": "DescriptionStyleModel",
          "model_module_version": "1.5.0",
          "state": {
            "_model_module": "@jupyter-widgets/controls",
            "_model_module_version": "1.5.0",
            "_model_name": "DescriptionStyleModel",
            "_view_count": null,
            "_view_module": "@jupyter-widgets/base",
            "_view_module_version": "1.2.0",
            "_view_name": "StyleView",
            "description_width": ""
          }
        },
        "79d8364a286549dc94d2cbffe5a87ae5": {
          "model_module": "@jupyter-widgets/base",
          "model_name": "LayoutModel",
          "model_module_version": "1.2.0",
          "state": {
            "_model_module": "@jupyter-widgets/base",
            "_model_module_version": "1.2.0",
            "_model_name": "LayoutModel",
            "_view_count": null,
            "_view_module": "@jupyter-widgets/base",
            "_view_module_version": "1.2.0",
            "_view_name": "LayoutView",
            "align_content": null,
            "align_items": null,
            "align_self": null,
            "border": null,
            "bottom": null,
            "display": null,
            "flex": null,
            "flex_flow": null,
            "grid_area": null,
            "grid_auto_columns": null,
            "grid_auto_flow": null,
            "grid_auto_rows": null,
            "grid_column": null,
            "grid_gap": null,
            "grid_row": null,
            "grid_template_areas": null,
            "grid_template_columns": null,
            "grid_template_rows": null,
            "height": null,
            "justify_content": null,
            "justify_items": null,
            "left": null,
            "margin": null,
            "max_height": null,
            "max_width": null,
            "min_height": null,
            "min_width": null,
            "object_fit": null,
            "object_position": null,
            "order": null,
            "overflow": null,
            "overflow_x": null,
            "overflow_y": null,
            "padding": null,
            "right": null,
            "top": null,
            "visibility": null,
            "width": null
          }
        },
        "c8b5dd00e6454364b9c0d38ca82e5903": {
          "model_module": "@jupyter-widgets/controls",
          "model_name": "ProgressStyleModel",
          "model_module_version": "1.5.0",
          "state": {
            "_model_module": "@jupyter-widgets/controls",
            "_model_module_version": "1.5.0",
            "_model_name": "ProgressStyleModel",
            "_view_count": null,
            "_view_module": "@jupyter-widgets/base",
            "_view_module_version": "1.2.0",
            "_view_name": "StyleView",
            "bar_color": null,
            "description_width": ""
          }
        },
        "15b4978ee7cf47e9b70735782f0e5990": {
          "model_module": "@jupyter-widgets/base",
          "model_name": "LayoutModel",
          "model_module_version": "1.2.0",
          "state": {
            "_model_module": "@jupyter-widgets/base",
            "_model_module_version": "1.2.0",
            "_model_name": "LayoutModel",
            "_view_count": null,
            "_view_module": "@jupyter-widgets/base",
            "_view_module_version": "1.2.0",
            "_view_name": "LayoutView",
            "align_content": null,
            "align_items": null,
            "align_self": null,
            "border": null,
            "bottom": null,
            "display": null,
            "flex": null,
            "flex_flow": null,
            "grid_area": null,
            "grid_auto_columns": null,
            "grid_auto_flow": null,
            "grid_auto_rows": null,
            "grid_column": null,
            "grid_gap": null,
            "grid_row": null,
            "grid_template_areas": null,
            "grid_template_columns": null,
            "grid_template_rows": null,
            "height": null,
            "justify_content": null,
            "justify_items": null,
            "left": null,
            "margin": null,
            "max_height": null,
            "max_width": null,
            "min_height": null,
            "min_width": null,
            "object_fit": null,
            "object_position": null,
            "order": null,
            "overflow": null,
            "overflow_x": null,
            "overflow_y": null,
            "padding": null,
            "right": null,
            "top": null,
            "visibility": null,
            "width": null
          }
        },
        "85ad990cfaf94499add7deef3488593b": {
          "model_module": "@jupyter-widgets/controls",
          "model_name": "DescriptionStyleModel",
          "model_module_version": "1.5.0",
          "state": {
            "_model_module": "@jupyter-widgets/controls",
            "_model_module_version": "1.5.0",
            "_model_name": "DescriptionStyleModel",
            "_view_count": null,
            "_view_module": "@jupyter-widgets/base",
            "_view_module_version": "1.2.0",
            "_view_name": "StyleView",
            "description_width": ""
          }
        },
        "9bcc565aa44e4bbca84aad5a1b7cd0bd": {
          "model_module": "@jupyter-widgets/controls",
          "model_name": "HBoxModel",
          "model_module_version": "1.5.0",
          "state": {
            "_dom_classes": [],
            "_model_module": "@jupyter-widgets/controls",
            "_model_module_version": "1.5.0",
            "_model_name": "HBoxModel",
            "_view_count": null,
            "_view_module": "@jupyter-widgets/controls",
            "_view_module_version": "1.5.0",
            "_view_name": "HBoxView",
            "box_style": "",
            "children": [
              "IPY_MODEL_35c2d9ccdb3140479bdc20170be7ad96",
              "IPY_MODEL_d0aaad41e9a04fccb3959768b87b62a5",
              "IPY_MODEL_5793356f280b41a28250d2ee34ac786b"
            ],
            "layout": "IPY_MODEL_63a0aa40d5224c28a5caf0f0cfe88de3"
          }
        },
        "35c2d9ccdb3140479bdc20170be7ad96": {
          "model_module": "@jupyter-widgets/controls",
          "model_name": "HTMLModel",
          "model_module_version": "1.5.0",
          "state": {
            "_dom_classes": [],
            "_model_module": "@jupyter-widgets/controls",
            "_model_module_version": "1.5.0",
            "_model_name": "HTMLModel",
            "_view_count": null,
            "_view_module": "@jupyter-widgets/controls",
            "_view_module_version": "1.5.0",
            "_view_name": "HTMLView",
            "description": "",
            "description_tooltip": null,
            "layout": "IPY_MODEL_1d51d6ea444b44398c0f99ccf2a78a0f",
            "placeholder": "​",
            "style": "IPY_MODEL_fd4b3973074e4b3f843acaef68e8acb9",
            "value": "100%"
          }
        },
        "d0aaad41e9a04fccb3959768b87b62a5": {
          "model_module": "@jupyter-widgets/controls",
          "model_name": "FloatProgressModel",
          "model_module_version": "1.5.0",
          "state": {
            "_dom_classes": [],
            "_model_module": "@jupyter-widgets/controls",
            "_model_module_version": "1.5.0",
            "_model_name": "FloatProgressModel",
            "_view_count": null,
            "_view_module": "@jupyter-widgets/controls",
            "_view_module_version": "1.5.0",
            "_view_name": "ProgressView",
            "bar_style": "success",
            "description": "",
            "description_tooltip": null,
            "layout": "IPY_MODEL_3c48c183b7114b0ca837c09a0676c057",
            "max": 3301,
            "min": 0,
            "orientation": "horizontal",
            "style": "IPY_MODEL_8d3aa92e4790492c98469e20385d87cf",
            "value": 3301
          }
        },
        "5793356f280b41a28250d2ee34ac786b": {
          "model_module": "@jupyter-widgets/controls",
          "model_name": "HTMLModel",
          "model_module_version": "1.5.0",
          "state": {
            "_dom_classes": [],
            "_model_module": "@jupyter-widgets/controls",
            "_model_module_version": "1.5.0",
            "_model_name": "HTMLModel",
            "_view_count": null,
            "_view_module": "@jupyter-widgets/controls",
            "_view_module_version": "1.5.0",
            "_view_name": "HTMLView",
            "description": "",
            "description_tooltip": null,
            "layout": "IPY_MODEL_40be6832dd374f3692e37fdc2acc557f",
            "placeholder": "​",
            "style": "IPY_MODEL_a89182897ab2488da0a5e0e811e4437f",
            "value": " 3301/3301 [00:18&lt;00:00, 179.84ba/s]"
          }
        },
        "63a0aa40d5224c28a5caf0f0cfe88de3": {
          "model_module": "@jupyter-widgets/base",
          "model_name": "LayoutModel",
          "model_module_version": "1.2.0",
          "state": {
            "_model_module": "@jupyter-widgets/base",
            "_model_module_version": "1.2.0",
            "_model_name": "LayoutModel",
            "_view_count": null,
            "_view_module": "@jupyter-widgets/base",
            "_view_module_version": "1.2.0",
            "_view_name": "LayoutView",
            "align_content": null,
            "align_items": null,
            "align_self": null,
            "border": null,
            "bottom": null,
            "display": null,
            "flex": null,
            "flex_flow": null,
            "grid_area": null,
            "grid_auto_columns": null,
            "grid_auto_flow": null,
            "grid_auto_rows": null,
            "grid_column": null,
            "grid_gap": null,
            "grid_row": null,
            "grid_template_areas": null,
            "grid_template_columns": null,
            "grid_template_rows": null,
            "height": null,
            "justify_content": null,
            "justify_items": null,
            "left": null,
            "margin": null,
            "max_height": null,
            "max_width": null,
            "min_height": null,
            "min_width": null,
            "object_fit": null,
            "object_position": null,
            "order": null,
            "overflow": null,
            "overflow_x": null,
            "overflow_y": null,
            "padding": null,
            "right": null,
            "top": null,
            "visibility": null,
            "width": null
          }
        },
        "1d51d6ea444b44398c0f99ccf2a78a0f": {
          "model_module": "@jupyter-widgets/base",
          "model_name": "LayoutModel",
          "model_module_version": "1.2.0",
          "state": {
            "_model_module": "@jupyter-widgets/base",
            "_model_module_version": "1.2.0",
            "_model_name": "LayoutModel",
            "_view_count": null,
            "_view_module": "@jupyter-widgets/base",
            "_view_module_version": "1.2.0",
            "_view_name": "LayoutView",
            "align_content": null,
            "align_items": null,
            "align_self": null,
            "border": null,
            "bottom": null,
            "display": null,
            "flex": null,
            "flex_flow": null,
            "grid_area": null,
            "grid_auto_columns": null,
            "grid_auto_flow": null,
            "grid_auto_rows": null,
            "grid_column": null,
            "grid_gap": null,
            "grid_row": null,
            "grid_template_areas": null,
            "grid_template_columns": null,
            "grid_template_rows": null,
            "height": null,
            "justify_content": null,
            "justify_items": null,
            "left": null,
            "margin": null,
            "max_height": null,
            "max_width": null,
            "min_height": null,
            "min_width": null,
            "object_fit": null,
            "object_position": null,
            "order": null,
            "overflow": null,
            "overflow_x": null,
            "overflow_y": null,
            "padding": null,
            "right": null,
            "top": null,
            "visibility": null,
            "width": null
          }
        },
        "fd4b3973074e4b3f843acaef68e8acb9": {
          "model_module": "@jupyter-widgets/controls",
          "model_name": "DescriptionStyleModel",
          "model_module_version": "1.5.0",
          "state": {
            "_model_module": "@jupyter-widgets/controls",
            "_model_module_version": "1.5.0",
            "_model_name": "DescriptionStyleModel",
            "_view_count": null,
            "_view_module": "@jupyter-widgets/base",
            "_view_module_version": "1.2.0",
            "_view_name": "StyleView",
            "description_width": ""
          }
        },
        "3c48c183b7114b0ca837c09a0676c057": {
          "model_module": "@jupyter-widgets/base",
          "model_name": "LayoutModel",
          "model_module_version": "1.2.0",
          "state": {
            "_model_module": "@jupyter-widgets/base",
            "_model_module_version": "1.2.0",
            "_model_name": "LayoutModel",
            "_view_count": null,
            "_view_module": "@jupyter-widgets/base",
            "_view_module_version": "1.2.0",
            "_view_name": "LayoutView",
            "align_content": null,
            "align_items": null,
            "align_self": null,
            "border": null,
            "bottom": null,
            "display": null,
            "flex": null,
            "flex_flow": null,
            "grid_area": null,
            "grid_auto_columns": null,
            "grid_auto_flow": null,
            "grid_auto_rows": null,
            "grid_column": null,
            "grid_gap": null,
            "grid_row": null,
            "grid_template_areas": null,
            "grid_template_columns": null,
            "grid_template_rows": null,
            "height": null,
            "justify_content": null,
            "justify_items": null,
            "left": null,
            "margin": null,
            "max_height": null,
            "max_width": null,
            "min_height": null,
            "min_width": null,
            "object_fit": null,
            "object_position": null,
            "order": null,
            "overflow": null,
            "overflow_x": null,
            "overflow_y": null,
            "padding": null,
            "right": null,
            "top": null,
            "visibility": null,
            "width": null
          }
        },
        "8d3aa92e4790492c98469e20385d87cf": {
          "model_module": "@jupyter-widgets/controls",
          "model_name": "ProgressStyleModel",
          "model_module_version": "1.5.0",
          "state": {
            "_model_module": "@jupyter-widgets/controls",
            "_model_module_version": "1.5.0",
            "_model_name": "ProgressStyleModel",
            "_view_count": null,
            "_view_module": "@jupyter-widgets/base",
            "_view_module_version": "1.2.0",
            "_view_name": "StyleView",
            "bar_color": null,
            "description_width": ""
          }
        },
        "40be6832dd374f3692e37fdc2acc557f": {
          "model_module": "@jupyter-widgets/base",
          "model_name": "LayoutModel",
          "model_module_version": "1.2.0",
          "state": {
            "_model_module": "@jupyter-widgets/base",
            "_model_module_version": "1.2.0",
            "_model_name": "LayoutModel",
            "_view_count": null,
            "_view_module": "@jupyter-widgets/base",
            "_view_module_version": "1.2.0",
            "_view_name": "LayoutView",
            "align_content": null,
            "align_items": null,
            "align_self": null,
            "border": null,
            "bottom": null,
            "display": null,
            "flex": null,
            "flex_flow": null,
            "grid_area": null,
            "grid_auto_columns": null,
            "grid_auto_flow": null,
            "grid_auto_rows": null,
            "grid_column": null,
            "grid_gap": null,
            "grid_row": null,
            "grid_template_areas": null,
            "grid_template_columns": null,
            "grid_template_rows": null,
            "height": null,
            "justify_content": null,
            "justify_items": null,
            "left": null,
            "margin": null,
            "max_height": null,
            "max_width": null,
            "min_height": null,
            "min_width": null,
            "object_fit": null,
            "object_position": null,
            "order": null,
            "overflow": null,
            "overflow_x": null,
            "overflow_y": null,
            "padding": null,
            "right": null,
            "top": null,
            "visibility": null,
            "width": null
          }
        },
        "a89182897ab2488da0a5e0e811e4437f": {
          "model_module": "@jupyter-widgets/controls",
          "model_name": "DescriptionStyleModel",
          "model_module_version": "1.5.0",
          "state": {
            "_model_module": "@jupyter-widgets/controls",
            "_model_module_version": "1.5.0",
            "_model_name": "DescriptionStyleModel",
            "_view_count": null,
            "_view_module": "@jupyter-widgets/base",
            "_view_module_version": "1.2.0",
            "_view_name": "StyleView",
            "description_width": ""
          }
        }
      }
    }
  },
  "cells": [
    {
      "cell_type": "code",
      "source": [
        "!pip install pysentimiento"
      ],
      "metadata": {
        "colab": {
          "base_uri": "https://localhost:8080/"
        },
        "id": "LtEnSXC4F0Ev",
        "outputId": "9825bd43-2bb8-4206-f02b-5bd32f363428"
      },
      "execution_count": null,
      "outputs": [
        {
          "output_type": "stream",
          "name": "stdout",
          "text": [
            "Looking in indexes: https://pypi.org/simple, https://us-python.pkg.dev/colab-wheels/public/simple/\n",
            "Requirement already satisfied: pysentimiento in /usr/local/lib/python3.7/dist-packages (0.4.0)\n",
            "Requirement already satisfied: emoji<2.0.0,>=1.6.1 in /usr/local/lib/python3.7/dist-packages (from pysentimiento) (1.7.0)\n",
            "Requirement already satisfied: torch<2.0.0,>=1.9.0 in /usr/local/lib/python3.7/dist-packages (from pysentimiento) (1.12.0+cu113)\n",
            "Requirement already satisfied: transformers==4.13 in /usr/local/lib/python3.7/dist-packages (from pysentimiento) (4.13.0)\n",
            "Requirement already satisfied: sklearn<0.1,>=0.0 in /usr/local/lib/python3.7/dist-packages (from pysentimiento) (0.0)\n",
            "Requirement already satisfied: datasets<2.0.0,>=1.13.3 in /usr/local/lib/python3.7/dist-packages (from pysentimiento) (1.18.4)\n",
            "Requirement already satisfied: tokenizers<0.11,>=0.10.1 in /usr/local/lib/python3.7/dist-packages (from transformers==4.13->pysentimiento) (0.10.3)\n",
            "Requirement already satisfied: huggingface-hub<1.0,>=0.1.0 in /usr/local/lib/python3.7/dist-packages (from transformers==4.13->pysentimiento) (0.8.1)\n",
            "Requirement already satisfied: importlib-metadata in /usr/local/lib/python3.7/dist-packages (from transformers==4.13->pysentimiento) (4.12.0)\n",
            "Requirement already satisfied: numpy>=1.17 in /usr/local/lib/python3.7/dist-packages (from transformers==4.13->pysentimiento) (1.21.6)\n",
            "Requirement already satisfied: packaging>=20.0 in /usr/local/lib/python3.7/dist-packages (from transformers==4.13->pysentimiento) (21.3)\n",
            "Requirement already satisfied: filelock in /usr/local/lib/python3.7/dist-packages (from transformers==4.13->pysentimiento) (3.7.1)\n",
            "Requirement already satisfied: regex!=2019.12.17 in /usr/local/lib/python3.7/dist-packages (from transformers==4.13->pysentimiento) (2022.6.2)\n",
            "Requirement already satisfied: tqdm>=4.27 in /usr/local/lib/python3.7/dist-packages (from transformers==4.13->pysentimiento) (4.64.0)\n",
            "Requirement already satisfied: pyyaml>=5.1 in /usr/local/lib/python3.7/dist-packages (from transformers==4.13->pysentimiento) (6.0)\n",
            "Requirement already satisfied: sacremoses in /usr/local/lib/python3.7/dist-packages (from transformers==4.13->pysentimiento) (0.0.53)\n",
            "Requirement already satisfied: requests in /usr/local/lib/python3.7/dist-packages (from transformers==4.13->pysentimiento) (2.23.0)\n",
            "Requirement already satisfied: fsspec[http]>=2021.05.0 in /usr/local/lib/python3.7/dist-packages (from datasets<2.0.0,>=1.13.3->pysentimiento) (2022.7.0)\n",
            "Requirement already satisfied: multiprocess in /usr/local/lib/python3.7/dist-packages (from datasets<2.0.0,>=1.13.3->pysentimiento) (0.70.13)\n",
            "Requirement already satisfied: responses<0.19 in /usr/local/lib/python3.7/dist-packages (from datasets<2.0.0,>=1.13.3->pysentimiento) (0.18.0)\n",
            "Requirement already satisfied: pyarrow!=4.0.0,>=3.0.0 in /usr/local/lib/python3.7/dist-packages (from datasets<2.0.0,>=1.13.3->pysentimiento) (6.0.1)\n",
            "Requirement already satisfied: pandas in /usr/local/lib/python3.7/dist-packages (from datasets<2.0.0,>=1.13.3->pysentimiento) (1.3.5)\n",
            "Requirement already satisfied: dill in /usr/local/lib/python3.7/dist-packages (from datasets<2.0.0,>=1.13.3->pysentimiento) (0.3.5.1)\n",
            "Requirement already satisfied: aiohttp in /usr/local/lib/python3.7/dist-packages (from datasets<2.0.0,>=1.13.3->pysentimiento) (3.8.1)\n",
            "Requirement already satisfied: xxhash in /usr/local/lib/python3.7/dist-packages (from datasets<2.0.0,>=1.13.3->pysentimiento) (3.0.0)\n",
            "Requirement already satisfied: typing-extensions>=3.7.4.3 in /usr/local/lib/python3.7/dist-packages (from huggingface-hub<1.0,>=0.1.0->transformers==4.13->pysentimiento) (4.1.1)\n",
            "Requirement already satisfied: pyparsing!=3.0.5,>=2.0.2 in /usr/local/lib/python3.7/dist-packages (from packaging>=20.0->transformers==4.13->pysentimiento) (3.0.9)\n",
            "Requirement already satisfied: idna<3,>=2.5 in /usr/local/lib/python3.7/dist-packages (from requests->transformers==4.13->pysentimiento) (2.10)\n",
            "Requirement already satisfied: urllib3!=1.25.0,!=1.25.1,<1.26,>=1.21.1 in /usr/local/lib/python3.7/dist-packages (from requests->transformers==4.13->pysentimiento) (1.25.11)\n",
            "Requirement already satisfied: certifi>=2017.4.17 in /usr/local/lib/python3.7/dist-packages (from requests->transformers==4.13->pysentimiento) (2022.6.15)\n",
            "Requirement already satisfied: chardet<4,>=3.0.2 in /usr/local/lib/python3.7/dist-packages (from requests->transformers==4.13->pysentimiento) (3.0.4)\n",
            "Requirement already satisfied: scikit-learn in /usr/local/lib/python3.7/dist-packages (from sklearn<0.1,>=0.0->pysentimiento) (1.0.2)\n",
            "Requirement already satisfied: yarl<2.0,>=1.0 in /usr/local/lib/python3.7/dist-packages (from aiohttp->datasets<2.0.0,>=1.13.3->pysentimiento) (1.7.2)\n",
            "Requirement already satisfied: multidict<7.0,>=4.5 in /usr/local/lib/python3.7/dist-packages (from aiohttp->datasets<2.0.0,>=1.13.3->pysentimiento) (6.0.2)\n",
            "Requirement already satisfied: charset-normalizer<3.0,>=2.0 in /usr/local/lib/python3.7/dist-packages (from aiohttp->datasets<2.0.0,>=1.13.3->pysentimiento) (2.1.0)\n",
            "Requirement already satisfied: aiosignal>=1.1.2 in /usr/local/lib/python3.7/dist-packages (from aiohttp->datasets<2.0.0,>=1.13.3->pysentimiento) (1.2.0)\n",
            "Requirement already satisfied: attrs>=17.3.0 in /usr/local/lib/python3.7/dist-packages (from aiohttp->datasets<2.0.0,>=1.13.3->pysentimiento) (21.4.0)\n",
            "Requirement already satisfied: asynctest==0.13.0 in /usr/local/lib/python3.7/dist-packages (from aiohttp->datasets<2.0.0,>=1.13.3->pysentimiento) (0.13.0)\n",
            "Requirement already satisfied: async-timeout<5.0,>=4.0.0a3 in /usr/local/lib/python3.7/dist-packages (from aiohttp->datasets<2.0.0,>=1.13.3->pysentimiento) (4.0.2)\n",
            "Requirement already satisfied: frozenlist>=1.1.1 in /usr/local/lib/python3.7/dist-packages (from aiohttp->datasets<2.0.0,>=1.13.3->pysentimiento) (1.3.0)\n",
            "Requirement already satisfied: zipp>=0.5 in /usr/local/lib/python3.7/dist-packages (from importlib-metadata->transformers==4.13->pysentimiento) (3.8.1)\n",
            "Requirement already satisfied: pytz>=2017.3 in /usr/local/lib/python3.7/dist-packages (from pandas->datasets<2.0.0,>=1.13.3->pysentimiento) (2022.1)\n",
            "Requirement already satisfied: python-dateutil>=2.7.3 in /usr/local/lib/python3.7/dist-packages (from pandas->datasets<2.0.0,>=1.13.3->pysentimiento) (2.8.2)\n",
            "Requirement already satisfied: six>=1.5 in /usr/local/lib/python3.7/dist-packages (from python-dateutil>=2.7.3->pandas->datasets<2.0.0,>=1.13.3->pysentimiento) (1.15.0)\n",
            "Requirement already satisfied: click in /usr/local/lib/python3.7/dist-packages (from sacremoses->transformers==4.13->pysentimiento) (7.1.2)\n",
            "Requirement already satisfied: joblib in /usr/local/lib/python3.7/dist-packages (from sacremoses->transformers==4.13->pysentimiento) (1.1.0)\n",
            "Requirement already satisfied: scipy>=1.1.0 in /usr/local/lib/python3.7/dist-packages (from scikit-learn->sklearn<0.1,>=0.0->pysentimiento) (1.7.3)\n",
            "Requirement already satisfied: threadpoolctl>=2.0.0 in /usr/local/lib/python3.7/dist-packages (from scikit-learn->sklearn<0.1,>=0.0->pysentimiento) (3.1.0)\n"
          ]
        }
      ]
    },
    {
      "cell_type": "code",
      "execution_count": null,
      "metadata": {
        "id": "TZyYfoq2LPzm"
      },
      "outputs": [],
      "source": [
        "import json\n",
        "import datetime\n",
        "import numpy as np\n",
        "import matplotlib.pyplot as plt"
      ]
    },
    {
      "cell_type": "code",
      "source": [
        "def json_to_list(json_file):\n",
        "  with open(json_file) as f:\n",
        "    data = json.load(f)\n",
        "  documents =  []\n",
        "  for document in data:\n",
        "    date, time = document[\"time\"].split(\"T\")\n",
        "    year, month, day = date.split(\"-\")\n",
        "    try:\n",
        "      time = time.split(\".\")[0]\n",
        "      hour, min, sec = time.split(\":\")\n",
        "    except:\n",
        "      time = time.split(\"+\")[0]\n",
        "      hor, min, sec = time.split(\":\")\n",
        "    date = datetime.datetime(int(year), int(month), int(day), int(hour), int(min))\n",
        "    documents.append((date, document[\"body\"], document[\"relevance\"]))\n",
        "  return sorted(documents)"
      ],
      "metadata": {
        "id": "pce6f4puLgnb"
      },
      "execution_count": null,
      "outputs": []
    },
    {
      "cell_type": "code",
      "source": [
        "from google.colab import drive\n",
        "drive.mount('/content/drive')\n",
        "\n",
        "FIGUERES_PATH = '/content/drive/My Drive/Naveler/03.TECH/Anàlisis de sentiment/Dumps marques/query_555_2021-06-30_2022-06-30.json'\n",
        "CHAVES_PATH = '/content/drive/My Drive/Naveler/03.TECH/Anàlisis de sentiment/Dumps marques/query_609_2021-06-30_2022-06-30.json'\n",
        "\n",
        "figueres_documents = json_to_list(FIGUERES_PATH)\n",
        "chaves_documents = json_to_list(CHAVES_PATH)"
      ],
      "metadata": {
        "colab": {
          "base_uri": "https://localhost:8080/"
        },
        "id": "kn9l2FBoLhZL",
        "outputId": "19ea85f3-01cc-4dd9-855f-6298c4d4be68"
      },
      "execution_count": null,
      "outputs": [
        {
          "output_type": "stream",
          "name": "stdout",
          "text": [
            "Drive already mounted at /content/drive; to attempt to forcibly remount, call drive.mount(\"/content/drive\", force_remount=True).\n"
          ]
        }
      ]
    },
    {
      "cell_type": "code",
      "source": [
        "print(f'Figueres: {len(figueres_documents)}')\n",
        "print(f'Chaves: {len(chaves_documents)}')"
      ],
      "metadata": {
        "colab": {
          "base_uri": "https://localhost:8080/"
        },
        "id": "4Scjq22nYq7p",
        "outputId": "9b8d0940-1ab6-4aaf-9606-5bcb7146e99c"
      },
      "execution_count": null,
      "outputs": [
        {
          "output_type": "stream",
          "name": "stdout",
          "text": [
            "Figueres: 67331\n",
            "Chaves: 105623\n"
          ]
        }
      ]
    },
    {
      "cell_type": "code",
      "source": [
        "from pysentimiento import create_analyzer\n",
        "sentiment_analyzer = create_analyzer(task=\"sentiment\", lang=\"es\")"
      ],
      "metadata": {
        "id": "9tEd9ltOFwzW"
      },
      "execution_count": null,
      "outputs": []
    },
    {
      "cell_type": "code",
      "source": [
        "delta_t = 7"
      ],
      "metadata": {
        "id": "jW9RASsBlqZB"
      },
      "execution_count": null,
      "outputs": []
    },
    {
      "cell_type": "markdown",
      "source": [
        "Figueres"
      ],
      "metadata": {
        "id": "-R0s17krPqjH"
      }
    },
    {
      "cell_type": "code",
      "source": [
        "figueres_dates = []\n",
        "figueres_texts = []\n",
        "figueres_relevance = []\n",
        "for date, tweet, relevance in figueres_documents:\n",
        "  figueres_dates.append(date)\n",
        "  figueres_texts.append(tweet)\n",
        "  figueres_relevance.append(relevance)"
      ],
      "metadata": {
        "id": "gKvnN3g836IB"
      },
      "execution_count": null,
      "outputs": []
    },
    {
      "cell_type": "code",
      "source": [
        "figueres_prob_pos = []\n",
        "figueres_prob_neu = []\n",
        "figueres_prob_neg = []\n",
        "outputs = sentiment_analyzer.predict(figueres_texts)\n",
        "for output in outputs:\n",
        "  figueres_prob_pos.append(output.probas[\"POS\"])\n",
        "  figueres_prob_neu.append(output.probas[\"NEU\"])\n",
        "  figueres_prob_neg.append(output.probas[\"NEG\"])"
      ],
      "metadata": {
        "colab": {
          "base_uri": "https://localhost:8080/",
          "height": 176,
          "referenced_widgets": [
            "0d7297b3a81a41b5ae6a4a02b9fc0d26",
            "ad519747d7504d91997ce5a9828f1b33",
            "eab27525205645e3a31c0979e16662c5",
            "c60201fc52014ecf8be6bf9b7190fa31",
            "ce7fa7b289434783b9597da64da5141b",
            "bb8125e6c2a64a8fb7315e287836a9a2",
            "f057a3059df349ab80546e4773db390e",
            "79d8364a286549dc94d2cbffe5a87ae5",
            "c8b5dd00e6454364b9c0d38ca82e5903",
            "15b4978ee7cf47e9b70735782f0e5990",
            "85ad990cfaf94499add7deef3488593b"
          ]
        },
        "id": "bvDYZIfWGJRt",
        "outputId": "66d49bfd-db82-460e-f576-d31296b2ba7b"
      },
      "execution_count": null,
      "outputs": [
        {
          "output_type": "stream",
          "name": "stderr",
          "text": [
            "Parameter 'function'=<function BaseAnalyzer._tokenize at 0x7fd4bea46200> of the transform datasets.arrow_dataset.Dataset._map_single couldn't be hashed properly, a random hash was used instead. Make sure your transforms and parameters are serializable with pickle or dill for the dataset fingerprinting and caching to work. If you reuse this transform, the caching mechanism will consider it to be different from the previous calls and recompute everything. This warning is only showed once. Subsequent hashing failures won't be showed.\n"
          ]
        },
        {
          "output_type": "display_data",
          "data": {
            "text/plain": [
              "  0%|          | 0/2105 [00:00<?, ?ba/s]"
            ],
            "application/vnd.jupyter.widget-view+json": {
              "version_major": 2,
              "version_minor": 0,
              "model_id": "0d7297b3a81a41b5ae6a4a02b9fc0d26"
            }
          },
          "metadata": {}
        },
        {
          "output_type": "stream",
          "name": "stderr",
          "text": [
            "The following columns in the test set  don't have a corresponding argument in `RobertaForSequenceClassification.forward` and have been ignored: text.\n",
            "***** Running Prediction *****\n",
            "  Num examples = 67331\n",
            "  Batch size = 32\n"
          ]
        },
        {
          "output_type": "display_data",
          "data": {
            "text/plain": [
              "<IPython.core.display.HTML object>"
            ],
            "text/html": [
              "\n",
              "    <div>\n",
              "      \n",
              "      <progress value='2105' max='2105' style='width:300px; height:20px; vertical-align: middle;'></progress>\n",
              "      [2105/2105 03:03]\n",
              "    </div>\n",
              "    "
            ]
          },
          "metadata": {}
        }
      ]
    },
    {
      "cell_type": "code",
      "source": [
        "figueres_scores = list(np.array(figueres_prob_pos) + 0.5*np.array(figueres_prob_neu)) #score = 1*prob_pos + 0.5*prob_neu + 0*prob_neg\n",
        "figueres_ponderated_scores = list(np.array(figueres_scores) + np.array(figueres_relevance)*np.array(figueres_scores)) #ponderated_score = score*(1+relevance)"
      ],
      "metadata": {
        "id": "9gd9rVIdhLKS"
      },
      "execution_count": null,
      "outputs": []
    },
    {
      "cell_type": "code",
      "source": [
        "figueres_reduced_dates = []\n",
        "figueres_reduced_scores = []\n",
        "figueres_reduced_ponderated_scores = []\n",
        "figueres_volumes = []\n",
        "year0 = figueres_dates[0].year\n",
        "month0 = figueres_dates[0].month\n",
        "day0 = figueres_dates[0].day\n",
        "date0 = datetime.datetime(year0, month0, day0)\n",
        "score_ = 0\n",
        "ponderated_score_ = 0\n",
        "count_ = 0\n",
        "for i, date in enumerate(figueres_dates):\n",
        "  dif = date - date0\n",
        "  if dif.days < delta_t:\n",
        "    score_ += figueres_scores[i]\n",
        "    ponderated_score_ += figueres_ponderated_scores[i]\n",
        "    count_ += 1\n",
        "  else:\n",
        "    #add values\n",
        "    figueres_reduced_dates.append(date0)\n",
        "    figueres_reduced_scores.append(score_/count_)\n",
        "    figueres_reduced_ponderated_scores.append(ponderated_score_/count_)\n",
        "    figueres_volumes.append(count_)\n",
        "    #reset parameters\n",
        "    date0 = datetime.datetime(date.year, date.month, date.day)\n",
        "    score_ = figueres_scores[i]\n",
        "    ponderated_score_ = figueres_ponderated_scores[i]\n",
        "    count_ = 1\n",
        "#final addition\n",
        "figueres_reduced_dates.append(date0)\n",
        "figueres_reduced_scores.append(score_/count_)\n",
        "figueres_reduced_ponderated_scores.append(ponderated_score_/count_)\n",
        "figueres_volumes.append(count_)"
      ],
      "metadata": {
        "id": "1ncdu_NfV_Az"
      },
      "execution_count": null,
      "outputs": []
    },
    {
      "cell_type": "markdown",
      "source": [
        "Chaves"
      ],
      "metadata": {
        "id": "a2G9BoledIjv"
      }
    },
    {
      "cell_type": "code",
      "source": [
        "chaves_dates = []\n",
        "chaves_texts = []\n",
        "chaves_relevance = []\n",
        "for date, tweet, relevance in chaves_documents:\n",
        "  chaves_dates.append(date)\n",
        "  chaves_texts.append(tweet)\n",
        "  chaves_relevance.append(relevance)"
      ],
      "metadata": {
        "id": "K-ESIhZIXHii"
      },
      "execution_count": null,
      "outputs": []
    },
    {
      "cell_type": "code",
      "source": [
        "chaves_prob_pos = []\n",
        "chaves_prob_neu = []\n",
        "chaves_prob_neg = []\n",
        "outputs = sentiment_analyzer.predict(chaves_texts)\n",
        "for output in outputs:\n",
        "  chaves_prob_pos.append(output.probas[\"POS\"])\n",
        "  chaves_prob_neu.append(output.probas[\"NEU\"])\n",
        "  chaves_prob_neg.append(output.probas[\"NEG\"])"
      ],
      "metadata": {
        "id": "gmndxHgm6fi8",
        "colab": {
          "base_uri": "https://localhost:8080/",
          "height": 138,
          "referenced_widgets": [
            "9bcc565aa44e4bbca84aad5a1b7cd0bd",
            "35c2d9ccdb3140479bdc20170be7ad96",
            "d0aaad41e9a04fccb3959768b87b62a5",
            "5793356f280b41a28250d2ee34ac786b",
            "63a0aa40d5224c28a5caf0f0cfe88de3",
            "1d51d6ea444b44398c0f99ccf2a78a0f",
            "fd4b3973074e4b3f843acaef68e8acb9",
            "3c48c183b7114b0ca837c09a0676c057",
            "8d3aa92e4790492c98469e20385d87cf",
            "40be6832dd374f3692e37fdc2acc557f",
            "a89182897ab2488da0a5e0e811e4437f"
          ]
        },
        "outputId": "1d05bc08-f098-4af8-8d27-f2eb945d226b"
      },
      "execution_count": null,
      "outputs": [
        {
          "output_type": "display_data",
          "data": {
            "text/plain": [
              "  0%|          | 0/3301 [00:00<?, ?ba/s]"
            ],
            "application/vnd.jupyter.widget-view+json": {
              "version_major": 2,
              "version_minor": 0,
              "model_id": "9bcc565aa44e4bbca84aad5a1b7cd0bd"
            }
          },
          "metadata": {}
        },
        {
          "output_type": "stream",
          "name": "stderr",
          "text": [
            "The following columns in the test set  don't have a corresponding argument in `RobertaForSequenceClassification.forward` and have been ignored: text.\n",
            "***** Running Prediction *****\n",
            "  Num examples = 105623\n",
            "  Batch size = 32\n"
          ]
        },
        {
          "output_type": "display_data",
          "data": {
            "text/plain": [
              "<IPython.core.display.HTML object>"
            ],
            "text/html": [
              "\n",
              "    <div>\n",
              "      \n",
              "      <progress value='5406' max='2105' style='width:300px; height:20px; vertical-align: middle;'></progress>\n",
              "      [2105/2105 08:25]\n",
              "    </div>\n",
              "    "
            ]
          },
          "metadata": {}
        }
      ]
    },
    {
      "cell_type": "code",
      "source": [
        "chaves_scores = list(np.array(chaves_prob_pos) + 0.5*np.array(chaves_prob_neu)) #score = 1*prob_pos + 0.5*prob_neu + 0*prob_neg\n",
        "chaves_ponderated_scores = list(np.array(chaves_scores) + np.array(chaves_relevance)*np.array(chaves_scores)) #ponderated_score = score*(1+relevance)"
      ],
      "metadata": {
        "id": "daIaivDYpL75"
      },
      "execution_count": null,
      "outputs": []
    },
    {
      "cell_type": "code",
      "source": [
        "chaves_reduced_dates = []\n",
        "chaves_reduced_scores = []\n",
        "chaves_reduced_ponderated_scores = []\n",
        "chaves_volumes = []\n",
        "year0 = chaves_dates[0].year\n",
        "month0 = chaves_dates[0].month\n",
        "day0 = chaves_dates[0].day\n",
        "date0 = datetime.datetime(year0, month0, day0)\n",
        "score_ = 0\n",
        "ponderated_score_ = 0\n",
        "count_ = 0\n",
        "for i, date in enumerate(chaves_dates):\n",
        "  dif = date - date0\n",
        "  if dif.days < delta_t:\n",
        "    score_ += chaves_scores[i]\n",
        "    ponderated_score_ += chaves_ponderated_scores[i]\n",
        "    count_ += 1\n",
        "  else:\n",
        "    #add values\n",
        "    chaves_reduced_dates.append(date0)\n",
        "    chaves_reduced_scores.append(score_/count_)\n",
        "    chaves_reduced_ponderated_scores.append(ponderated_score_/count_)\n",
        "    chaves_volumes.append(count_)\n",
        "    #reset parameters\n",
        "    date0 = datetime.datetime(date.year, date.month, date.day)\n",
        "    score_ = chaves_scores[i]\n",
        "    ponderated_score_ = chaves_ponderated_scores[i]\n",
        "    count_ = 1\n",
        "#final addition\n",
        "chaves_reduced_dates.append(date0)\n",
        "chaves_reduced_scores.append(score_/count_)\n",
        "chaves_reduced_ponderated_scores.append(ponderated_score_/count_)\n",
        "chaves_volumes.append(count_)"
      ],
      "metadata": {
        "id": "0pQlqpkXe_1h"
      },
      "execution_count": null,
      "outputs": []
    },
    {
      "cell_type": "markdown",
      "source": [
        "Comparison"
      ],
      "metadata": {
        "id": "hIf5HmbHqoOc"
      }
    },
    {
      "cell_type": "code",
      "source": [
        "def filter(dates, y_parameter, start_date, end_date):\n",
        "  filtered_dates = []\n",
        "  filtered_y = []\n",
        "  for i, date in enumerate(dates):\n",
        "    if date >= start_date and date <= end_date:\n",
        "      filtered_dates.append(date)\n",
        "      filtered_y.append(y_parameter[i])\n",
        "  return filtered_dates, filtered_y"
      ],
      "metadata": {
        "id": "VAvMa-yC50mR"
      },
      "execution_count": null,
      "outputs": []
    },
    {
      "cell_type": "code",
      "source": [
        "plt.plot(figueres_reduced_dates, figueres_reduced_scores, chaves_reduced_dates, chaves_reduced_scores)\n",
        "plt.title(\"Scores comparison\")\n",
        "plt.xlabel(\"date\")\n",
        "plt.ylabel(\"score\")\n",
        "plt.legend([\"Figueres\", \"Chaves\"])\n",
        "plt.show()"
      ],
      "metadata": {
        "id": "8wdUwMH_tfg0",
        "colab": {
          "base_uri": "https://localhost:8080/",
          "height": 295
        },
        "outputId": "3cc4ab80-c5be-4e30-86bf-53674eacb0f4"
      },
      "execution_count": null,
      "outputs": [
        {
          "output_type": "display_data",
          "data": {
            "text/plain": [
              "<Figure size 432x288 with 1 Axes>"
            ],
            "image/png": "[encoded data removed]"
          },
          "metadata": {
            "needs_background": "light"
          }
        }
      ]
    },
    {
      "cell_type": "code",
      "source": [
        "plt.plot(figueres_reduced_dates, figueres_reduced_ponderated_scores, chaves_reduced_dates, chaves_reduced_ponderated_scores)\n",
        "plt.title(\"Ponderated scores comparison\")\n",
        "plt.xlabel(\"date\")\n",
        "plt.ylabel(\"ponderated score\")\n",
        "plt.legend([\"Figueres\", \"Chaves\"])\n",
        "plt.show()"
      ],
      "metadata": {
        "colab": {
          "base_uri": "https://localhost:8080/"
        },
        "id": "EMHGHytAs8PR",
        "outputId": "059173b7-e592-49d4-c367-04447bcb5c0d"
      },
      "execution_count": null,
      "outputs": [
        {
          "output_type": "display_data",
          "data": {
            "text/plain": [
              "<Figure size 432x288 with 1 Axes>"
            ],
            "image/png": "[encoded data removed]"
          },
          "metadata": {
            "needs_background": "light"
          }
        }
      ]
    },
    {
      "cell_type": "code",
      "source": [
        "plt.plot(figueres_reduced_dates, figueres_volumes, chaves_reduced_dates, chaves_volumes)\n",
        "plt.title(\"Volume comparison\")\n",
        "plt.xlabel(\"date\")\n",
        "plt.ylabel(\"volume\")\n",
        "plt.legend([\"Figueres\", \"Chaves\"])\n",
        "plt.show()"
      ],
      "metadata": {
        "id": "IAEFVo9_-GuZ",
        "colab": {
          "base_uri": "https://localhost:8080/"
        },
        "outputId": "16cc0b1e-acfb-414e-f1a5-c636752be011"
      },
      "execution_count": null,
      "outputs": [
        {
          "output_type": "display_data",
          "data": {
            "text/plain": [
              "<Figure size 432x288 with 1 Axes>"
            ],
            "image/png": "[encoded data removed]"
          },
          "metadata": {
            "needs_background": "light"
          }
        }
      ]
    },
    {
      "cell_type": "code",
      "source": [
        "start_date = datetime.datetime(2022, 1, 1)\n",
        "end_date = datetime.datetime(2022, 5, 1)\n",
        "figueres_filtered_dates, figueres_filtered_scores = filter(figueres_reduced_dates, figueres_reduced_scores, start_date, end_date)\n",
        "chaves_filtered_dates, chaves_filtered_scores = filter(chaves_reduced_dates, chaves_reduced_scores, start_date, end_date)\n",
        "plt.plot(figueres_filtered_dates, figueres_filtered_scores, chaves_filtered_dates, chaves_filtered_scores)\n",
        "plt.title(\"Scores comparison\")\n",
        "plt.xlabel(\"date\")\n",
        "plt.ylabel(\"score\")\n",
        "plt.legend([\"Figueres\", \"Chaves\"])\n",
        "plt.show()"
      ],
      "metadata": {
        "id": "CVzTT3w87Urp",
        "colab": {
          "base_uri": "https://localhost:8080/"
        },
        "outputId": "8dd3971f-89ec-461d-f1bf-d358f9beb877"
      },
      "execution_count": null,
      "outputs": [
        {
          "output_type": "display_data",
          "data": {
            "text/plain": [
              "<Figure size 432x288 with 1 Axes>"
            ],
            "image/png": "[encoded data removed]"
          },
          "metadata": {
            "needs_background": "light"
          }
        }
      ]
    },
    {
      "cell_type": "markdown",
      "source": [
        "1st round: 6/02/2022\n",
        "\n",
        "2nd round: 3/04/2022\n",
        "\n",
        "Since mids of March, Chaves receives more positive comments than Figueres. This could be related with the fact that Figueres had more votes in the first round, but Chaves won in the second one.\n",
        "\n",
        "Since ends of January/beginnings of February, Chaves has a higher volum of mentions than Figueres. There are three important peaks in Chaves' volume, the first one takes place in the first round and the second one in the second round. This makes sense because Chaves results were surprising in both rounds."
      ],
      "metadata": {
        "id": "fKfdZkm8-m8T"
      }
    }
  ]
}