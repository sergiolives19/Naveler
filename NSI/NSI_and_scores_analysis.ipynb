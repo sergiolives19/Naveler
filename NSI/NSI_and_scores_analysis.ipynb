{
  "nbformat": 4,
  "nbformat_minor": 0,
  "metadata": {
    "colab": {
      "name": "NSI_and_scores_analysis.ipynb",
      "provenance": [],
      "collapsed_sections": []
    },
    "kernelspec": {
      "name": "python3",
      "display_name": "Python 3"
    },
    "language_info": {
      "name": "python"
    }
  },
  "cells": [
    {
      "cell_type": "code",
      "source": [
        "import json\n",
        "import matplotlib.pyplot as plt\n",
        "import numpy as np"
      ],
      "metadata": {
        "id": "7De3KGgU1B0g"
      },
      "execution_count": null,
      "outputs": []
    },
    {
      "cell_type": "code",
      "source": [
        "def json_to_list(json_file):\n",
        "  with open(json_file) as f:\n",
        "    data = json.load(f)\n",
        "  nsi_list = []\n",
        "  for document in data[0][\"data\"]:\n",
        "    nsi_list.append(document[\"nsi\"])\n",
        "  return nsi_list"
      ],
      "metadata": {
        "id": "M7yihz8Iyypz"
      },
      "execution_count": null,
      "outputs": []
    },
    {
      "cell_type": "code",
      "source": [
        "def json_to_2_lists(json_file):\n",
        "  with open(json_file) as f:\n",
        "    data = json.load(f)\n",
        "  neg_scores = []\n",
        "  pos_scores = []\n",
        "  for document in data:\n",
        "    neg_scores.append(document[\"average_negative_score\"][\"value\"])\n",
        "    pos_scores.append(document[\"average_positive_score\"][\"value\"])\n",
        "  return neg_scores, pos_scores"
      ],
      "metadata": {
        "id": "gOrxs9aT8ud0"
      },
      "execution_count": null,
      "outputs": []
    },
    {
      "cell_type": "code",
      "execution_count": null,
      "metadata": {
        "colab": {
          "base_uri": "https://localhost:8080/"
        },
        "id": "X3Zswew_yL6_",
        "outputId": "0a7cb8b5-a366-4538-a553-1f5a3f9fbec2"
      },
      "outputs": [
        {
          "output_type": "stream",
          "name": "stdout",
          "text": [
            "Drive already mounted at /content/drive; to attempt to forcibly remount, call drive.mount(\"/content/drive\", force_remount=True).\n",
            "682 682 682\n"
          ]
        }
      ],
      "source": [
        "from google.colab import drive\n",
        "drive.mount('/content/drive')\n",
        "\n",
        "NSI_DATASET_PATH = '/content/drive/My Drive/Naveler/03.TECH/data_discovery/datasets/0101_0630.json'\n",
        "SCORES_DATASET_PATH = '/content/drive/My Drive/Naveler/03.TECH/data_discovery/datasets/0101_0630_splitted.json'\n",
        "\n",
        "nsi_list = json_to_list(NSI_DATASET_PATH)\n",
        "negative_scores, positive_scores = json_to_2_lists(SCORES_DATASET_PATH)\n",
        "print(len(nsi_list), len(negative_scores), len(positive_scores))"
      ]
    },
    {
      "cell_type": "code",
      "source": [
        "plt.hist(nsi_list, bins=50)\n",
        "plt.title('Histogram for NSI')\n",
        "plt.xlabel(\"NSI\")\n",
        "plt.ylabel(\"frequency\")\n",
        "plt.show()\n",
        "median = np.median(nsi_list)\n",
        "print(f'Median: {round(median, 2)}')\n",
        "percentiles = np.percentile(nsi_list, [1.5, 98.5])\n",
        "print(f'97% confidence interval: [{round(percentiles[0], 2)}, {round(percentiles[1], 2)}]')"
      ],
      "metadata": {
        "colab": {
          "base_uri": "https://localhost:8080/",
          "height": 330
        },
        "id": "Wt3HYPzO3aM1",
        "outputId": "5f92a194-5150-419b-9ad8-8e529a383e81"
      },
      "execution_count": null,
      "outputs": [
        {
          "output_type": "display_data",
          "data": {
            "text/plain": [
              "<Figure size 432x288 with 1 Axes>"
            ],
            "image/png": "[encoded data removed]"
          },
          "metadata": {
            "needs_background": "light"
          }
        },
        {
          "output_type": "stream",
          "name": "stdout",
          "text": [
            "Median: 51.01\n",
            "97% confidence interval: [47.88, 54.78]\n"
          ]
        }
      ]
    },
    {
      "cell_type": "code",
      "source": [
        "plt.hist(negative_scores, bins=50)\n",
        "plt.title('Histogram for negative scores')\n",
        "plt.xlabel(\"negative score\")\n",
        "plt.ylabel(\"frequency\")\n",
        "plt.show()\n",
        "median = np.median(negative_scores)\n",
        "print(f'Median: {round(median, 2)}')\n",
        "percentiles = np.percentile(negative_scores, [1.5, 98.5])\n",
        "print(f'97% confidence interval: [{round(percentiles[0], 2)}, {round(percentiles[1], 2)}]')"
      ],
      "metadata": {
        "colab": {
          "base_uri": "https://localhost:8080/",
          "height": 330
        },
        "id": "Y7mBweE7-0ZK",
        "outputId": "d1871320-a975-468c-fd20-2d816b8deb42"
      },
      "execution_count": null,
      "outputs": [
        {
          "output_type": "display_data",
          "data": {
            "text/plain": [
              "<Figure size 432x288 with 1 Axes>"
            ],
            "image/png": "[encoded data removed]"
          },
          "metadata": {
            "needs_background": "light"
          }
        },
        {
          "output_type": "stream",
          "name": "stdout",
          "text": [
            "Median: 0.43\n",
            "97% confidence interval: [0.35, 0.55]\n"
          ]
        }
      ]
    },
    {
      "cell_type": "code",
      "source": [
        "plt.hist(positive_scores, bins=50)\n",
        "plt.title('Histogram for positive scores')\n",
        "plt.xlabel(\"positive score\")\n",
        "plt.ylabel(\"frequency\")\n",
        "plt.show()\n",
        "median = np.median(positive_scores)\n",
        "print(f'Median: {round(median, 2)}')\n",
        "percentiles = np.percentile(positive_scores, [1.5, 98.5])\n",
        "print(f'97% confidence interval: [{round(percentiles[0], 2)}, {round(percentiles[1], 2)}]')"
      ],
      "metadata": {
        "colab": {
          "base_uri": "https://localhost:8080/",
          "height": 330
        },
        "id": "5a08vi5x_ELD",
        "outputId": "4fbeb20a-ba54-4e5c-b23e-ce987edb00cd"
      },
      "execution_count": null,
      "outputs": [
        {
          "output_type": "display_data",
          "data": {
            "text/plain": [
              "<Figure size 432x288 with 1 Axes>"
            ],
            "image/png": "[encoded data removed]"
          },
          "metadata": {
            "needs_background": "light"
          }
        },
        {
          "output_type": "stream",
          "name": "stdout",
          "text": [
            "Median: 0.41\n",
            "97% confidence interval: [0.34, 0.53]\n"
          ]
        }
      ]
    },
    {
      "cell_type": "code",
      "source": [
        "scores = np.array(positive_scores) - np.array(negative_scores)\n",
        "plt.hist(scores, bins=50)\n",
        "plt.title('Histogram for scores')\n",
        "plt.xlabel(\"score\")\n",
        "plt.ylabel(\"frequency\")\n",
        "plt.show()\n",
        "median = np.median(scores)\n",
        "print(f'Median: {round(median, 2)}')\n",
        "percentiles = np.percentile(scores, [1.5, 98.5])\n",
        "print(f'97% confidence interval: [{round(percentiles[0], 2)}, {round(percentiles[1], 2)}]')"
      ],
      "metadata": {
        "colab": {
          "base_uri": "https://localhost:8080/",
          "height": 330
        },
        "id": "4Jl75mar0-PB",
        "outputId": "644b4302-dd4d-4912-96d7-2dc1fb4a7ff0"
      },
      "execution_count": null,
      "outputs": [
        {
          "output_type": "display_data",
          "data": {
            "text/plain": [
              "<Figure size 432x288 with 1 Axes>"
            ],
            "image/png": "[encoded data removed]"
          },
          "metadata": {
            "needs_background": "light"
          }
        },
        {
          "output_type": "stream",
          "name": "stdout",
          "text": [
            "Median: -0.02\n",
            "97% confidence interval: [-0.1, 0.07]\n"
          ]
        }
      ]
    },
    {
      "cell_type": "code",
      "source": [
        "plt.plot(scores, nsi_list, 'ro')\n",
        "#plt.xlim([-1, 1])\n",
        "#plt.ylim([0, 100])\n",
        "plt.xlabel(\"score\")\n",
        "plt.ylabel(\"NSI\")\n",
        "plt.show()"
      ],
      "metadata": {
        "colab": {
          "base_uri": "https://localhost:8080/",
          "height": 279
        },
        "id": "fEDhQgMNRJ4g",
        "outputId": "375b4b90-0282-4686-c6ac-e28be2a1ba34"
      },
      "execution_count": null,
      "outputs": [
        {
          "output_type": "display_data",
          "data": {
            "text/plain": [
              "<Figure size 432x288 with 1 Axes>"
            ],
            "image/png": "[encoded data removed]"
          },
          "metadata": {
            "needs_background": "light"
          }
        }
      ]
    },
    {
      "cell_type": "markdown",
      "source": [
        "Reference points:\n",
        "\n",
        "score = -1 -> NSI = 0\n",
        "\n",
        "score = -0,1 -> NSI = 20\n",
        "\n",
        "score = -0.02 -> NSI = 50\n",
        "\n",
        "score = 0.07 -> NSI = 90\n",
        "\n",
        "score = 1 -> NSI = 100"
      ],
      "metadata": {
        "id": "D4cd0PF4AmSw"
      }
    },
    {
      "cell_type": "code",
      "source": [
        "# Define points to fit\n",
        "score_points = [-1, -0.01, -0.02, 0.07, 1]\n",
        "NSI_points = [0, 20, 50, 90, 100]"
      ],
      "metadata": {
        "id": "xPLoZVNFIJrO"
      },
      "execution_count": null,
      "outputs": []
    },
    {
      "cell_type": "code",
      "source": [
        "# Curve fitting\n",
        "n = 3 # degree\n",
        "coefficients = np.polyfit(score_points, NSI_points, n)\n",
        "x_plot = np.linspace(-1, 1, 100)\n",
        "y_plot = np.polyval(coefficients, x_plot)\n",
        "plt.plot(score_points, NSI_points, 'b*')\n",
        "plt.plot(x_plot, y_plot, 'r--')\n",
        "plt.title(\"Polynomail curve fitting\")\n",
        "plt.xlabel(\"sentiment score\")\n",
        "plt.ylabel(\"NSI\")\n",
        "plt.show()"
      ],
      "metadata": {
        "colab": {
          "base_uri": "https://localhost:8080/",
          "height": 295
        },
        "id": "WFjhYjOUKhUU",
        "outputId": "cc716797-9458-41ad-f3ba-f02a823dcc7e"
      },
      "execution_count": null,
      "outputs": [
        {
          "output_type": "display_data",
          "data": {
            "text/plain": [
              "<Figure size 432x288 with 1 Axes>"
            ],
            "image/png": "[encoded data removed]"
          },
          "metadata": {
            "needs_background": "light"
          }
        }
      ]
    },
    {
      "cell_type": "code",
      "source": [
        "def sigmoid (x, A, h, slope, C):\n",
        "    return A/(1 + np.exp(-x*slope + h)) + C"
      ],
      "metadata": {
        "id": "nCxgil0DYzZf"
      },
      "execution_count": null,
      "outputs": []
    },
    {
      "cell_type": "code",
      "source": [
        "# Sigmoid parameters\n",
        "A = 100 # we want values from 0 to 100\n",
        "h = 0.2 # give more importance to negative scores\n",
        "slope = 20 # the higher the slope, the higher the variance around score 0\n",
        "C = 0 # we don't want a vertical offset"
      ],
      "metadata": {
        "id": "sOKAdy8QfymR"
      },
      "execution_count": null,
      "outputs": []
    },
    {
      "cell_type": "code",
      "source": [
        "x_plot = np.linspace(-1, 1, 100)\n",
        "f = np.vectorize(sigmoid)\n",
        "y_plot = f(x_plot, A, h, slope, C)\n",
        "plt.plot(score_points, NSI_points, 'b*')\n",
        "plt.plot(x_plot, y_plot)\n",
        "plt.grid()\n",
        "plt.show()\n",
        "print(sigmoid(-1, A, h, slope, C), sigmoid(0, A, h, slope, C), sigmoid(1, A, h, slope, C))"
      ],
      "metadata": {
        "colab": {
          "base_uri": "https://localhost:8080/",
          "height": 282
        },
        "id": "9HtZtE6pXEJs",
        "outputId": "5f71eeef-a22f-47dd-8ebf-9670e3708856"
      },
      "execution_count": null,
      "outputs": [
        {
          "output_type": "display_data",
          "data": {
            "text/plain": [
              "<Figure size 432x288 with 1 Axes>"
            ],
            "image/png": "[encoded data removed]"
          },
          "metadata": {
            "needs_background": "light"
          }
        },
        {
          "output_type": "stream",
          "name": "stdout",
          "text": [
            "1.687529854660775e-07 45.016600268752214 99.99999974825013\n"
          ]
        }
      ]
    },
    {
      "cell_type": "code",
      "source": [
        "new_NSI = f(scores, A, h, slope, C)\n",
        "plt.hist(new_NSI, bins=50)\n",
        "plt.title('Histogram for new NSI')\n",
        "plt.xlabel(\"NSI\")\n",
        "plt.ylabel(\"frequency\")\n",
        "plt.show()\n",
        "median = np.median(new_NSI)\n",
        "print(f'Median: {round(median, 2)}')\n",
        "percentiles = np.percentile(new_NSI, [1.5, 98.5])\n",
        "print(f'97% confidence interval: [{round(percentiles[0], 2)}, {round(percentiles[1], 2)}]')"
      ],
      "metadata": {
        "colab": {
          "base_uri": "https://localhost:8080/",
          "height": 330
        },
        "id": "pdI2tDvw0GNd",
        "outputId": "a5cfface-9252-480b-ab62-a7825aaee746"
      },
      "execution_count": null,
      "outputs": [
        {
          "output_type": "display_data",
          "data": {
            "text/plain": [
              "<Figure size 432x288 with 1 Axes>"
            ],
            "image/png": "[encoded data removed]"
          },
          "metadata": {
            "needs_background": "light"
          }
        },
        {
          "output_type": "stream",
          "name": "stdout",
          "text": [
            "Median: 35.44\n",
            "97% confidence interval: [9.67, 76.81]\n"
          ]
        }
      ]
    }
  ]
}