{
  "nbformat": 4,
  "nbformat_minor": 0,
  "metadata": {
    "colab": {
      "name": "NSI_and_scores_analysis.ipynb",
      "provenance": [],
      "collapsed_sections": []
    },
    "kernelspec": {
      "name": "python3",
      "display_name": "Python 3"
    },
    "language_info": {
      "name": "python"
    }
  },
  "cells": [
    {
      "cell_type": "code",
      "source": [
        "import json\n",
        "import matplotlib.pyplot as plt\n",
        "import numpy as np"
      ],
      "metadata": {
        "id": "7De3KGgU1B0g"
      },
      "execution_count": null,
      "outputs": []
    },
    {
      "cell_type": "code",
      "source": [
        "def json_to_list(json_file):\n",
        "  with open(json_file) as f:\n",
        "    data = json.load(f)\n",
        "  nsi_list = []\n",
        "  for document in data[0][\"data\"]:\n",
        "    nsi_list.append(document[\"nsi\"])\n",
        "  return nsi_list"
      ],
      "metadata": {
        "id": "M7yihz8Iyypz"
      },
      "execution_count": null,
      "outputs": []
    },
    {
      "cell_type": "code",
      "source": [
        "def json_to_2_lists(json_file):\n",
        "  with open(json_file) as f:\n",
        "    data = json.load(f)\n",
        "  neg_scores = []\n",
        "  pos_scores = []\n",
        "  for document in data:\n",
        "    neg_scores.append(document[\"average_negative_score\"][\"value\"])\n",
        "    pos_scores.append(document[\"average_positive_score\"][\"value\"])\n",
        "  return neg_scores, pos_scores"
      ],
      "metadata": {
        "id": "gOrxs9aT8ud0"
      },
      "execution_count": null,
      "outputs": []
    },
    {
      "cell_type": "code",
      "execution_count": null,
      "metadata": {
        "id": "X3Zswew_yL6_",
        "colab": {
          "base_uri": "https://localhost:8080/"
        },
        "outputId": "be48eaa4-1ff8-47bf-f9f1-2c4300b2e3d6"
      },
      "outputs": [
        {
          "output_type": "stream",
          "name": "stdout",
          "text": [
            "Mounted at /content/drive\n",
            "682 682 682\n"
          ]
        }
      ],
      "source": [
        "from google.colab import drive\n",
        "drive.mount('/content/drive')\n",
        "\n",
        "NSI_DATASET_PATH = '/content/drive/My Drive/Naveler/03.TECH/data_discovery/datasets/0101_0630.json'\n",
        "SCORES_DATASET_PATH = '/content/drive/My Drive/Naveler/03.TECH/data_discovery/datasets/0101_0630_splitted.json'\n",
        "\n",
        "nsi_list = json_to_list(NSI_DATASET_PATH)\n",
        "negative_scores, positive_scores = json_to_2_lists(SCORES_DATASET_PATH)\n",
        "print(len(nsi_list), len(negative_scores), len(positive_scores))"
      ]
    },
    {
      "cell_type": "code",
      "source": [
        "plt.hist(nsi_list, bins=50)\n",
        "plt.title('Histogram for NSI')\n",
        "plt.xlabel(\"NSI\")\n",
        "plt.ylabel(\"frequency\")\n",
        "plt.show()\n",
        "median = np.median(nsi_list)\n",
        "print(f'Median: {round(median, 2)}')\n",
        "percentiles = np.percentile(nsi_list, [1.5, 98.5])\n",
        "print(f'97% confidence interval: [{round(percentiles[0], 2)}, {round(percentiles[1], 2)}]')"
      ],
      "metadata": {
        "id": "Wt3HYPzO3aM1",
        "colab": {
          "base_uri": "https://localhost:8080/",
          "height": 330
        },
        "outputId": "2e21dcde-428d-40ba-a40f-8865c3703c61"
      },
      "execution_count": null,
      "outputs": [
        {
          "output_type": "display_data",
          "data": {
            "text/plain": [
              "<Figure size 432x288 with 1 Axes>"
            ],
            "image/png": "[encoded data removed]"
          },
          "metadata": {
            "needs_background": "light"
          }
        },
        {
          "output_type": "stream",
          "name": "stdout",
          "text": [
            "Median: 51.01\n",
            "97% confidence interval: [47.88, 54.78]\n"
          ]
        }
      ]
    },
    {
      "cell_type": "code",
      "source": [
        "plt.hist(negative_scores, bins=50)\n",
        "plt.title('Histogram for negative scores')\n",
        "plt.xlabel(\"negative score\")\n",
        "plt.ylabel(\"frequency\")\n",
        "plt.show()\n",
        "median = np.median(negative_scores)\n",
        "print(f'Median: {round(median, 2)}')\n",
        "percentiles = np.percentile(negative_scores, [1.5, 98.5])\n",
        "print(f'97% confidence interval: [{round(percentiles[0], 2)}, {round(percentiles[1], 2)}]')"
      ],
      "metadata": {
        "id": "Y7mBweE7-0ZK",
        "colab": {
          "base_uri": "https://localhost:8080/",
          "height": 330
        },
        "outputId": "d40a3368-45ce-4b68-dfd1-aef347f54358"
      },
      "execution_count": null,
      "outputs": [
        {
          "output_type": "display_data",
          "data": {
            "text/plain": [
              "<Figure size 432x288 with 1 Axes>"
            ],
            "image/png": "[encoded data removed]"
          },
          "metadata": {
            "needs_background": "light"
          }
        },
        {
          "output_type": "stream",
          "name": "stdout",
          "text": [
            "Median: 0.43\n",
            "97% confidence interval: [0.35, 0.55]\n"
          ]
        }
      ]
    },
    {
      "cell_type": "code",
      "source": [
        "plt.hist(positive_scores, bins=50)\n",
        "plt.title('Histogram for positive scores')\n",
        "plt.xlabel(\"positive score\")\n",
        "plt.ylabel(\"frequency\")\n",
        "plt.show()\n",
        "median = np.median(positive_scores)\n",
        "print(f'Median: {round(median, 2)}')\n",
        "percentiles = np.percentile(positive_scores, [1.5, 98.5])\n",
        "print(f'97% confidence interval: [{round(percentiles[0], 2)}, {round(percentiles[1], 2)}]')"
      ],
      "metadata": {
        "id": "5a08vi5x_ELD",
        "colab": {
          "base_uri": "https://localhost:8080/",
          "height": 330
        },
        "outputId": "0e6c4328-eac7-4463-e58e-87021607b383"
      },
      "execution_count": null,
      "outputs": [
        {
          "output_type": "display_data",
          "data": {
            "text/plain": [
              "<Figure size 432x288 with 1 Axes>"
            ],
            "image/png": "[encoded data removed]"
          },
          "metadata": {
            "needs_background": "light"
          }
        },
        {
          "output_type": "stream",
          "name": "stdout",
          "text": [
            "Median: 0.41\n",
            "97% confidence interval: [0.34, 0.53]\n"
          ]
        }
      ]
    },
    {
      "cell_type": "code",
      "source": [
        "scores = np.array(positive_scores) - np.array(negative_scores)\n",
        "plt.hist(scores, bins=50)\n",
        "plt.title('Histogram for scores')\n",
        "plt.xlabel(\"score\")\n",
        "plt.ylabel(\"frequency\")\n",
        "plt.show()\n",
        "median = np.median(scores)\n",
        "print(f'Median: {round(median, 2)}')\n",
        "percentiles = np.percentile(scores, [1.5, 98.5])\n",
        "print(f'97% confidence interval: [{round(percentiles[0], 2)}, {round(percentiles[1], 2)}]')"
      ],
      "metadata": {
        "id": "4Jl75mar0-PB",
        "colab": {
          "base_uri": "https://localhost:8080/",
          "height": 330
        },
        "outputId": "0cedac36-921b-4c34-cae4-67856a6e00c5"
      },
      "execution_count": null,
      "outputs": [
        {
          "output_type": "display_data",
          "data": {
            "text/plain": [
              "<Figure size 432x288 with 1 Axes>"
            ],
            "image/png": "[encoded data removed]"
          },
          "metadata": {
            "needs_background": "light"
          }
        },
        {
          "output_type": "stream",
          "name": "stdout",
          "text": [
            "Median: -0.02\n",
            "97% confidence interval: [-0.1, 0.07]\n"
          ]
        }
      ]
    },
    {
      "cell_type": "code",
      "source": [
        "plt.plot(scores, nsi_list, 'ro')\n",
        "#plt.xlim([-1, 1])\n",
        "#plt.ylim([0, 100])\n",
        "plt.xlabel(\"score\")\n",
        "plt.ylabel(\"NSI\")\n",
        "plt.show()"
      ],
      "metadata": {
        "id": "fEDhQgMNRJ4g",
        "colab": {
          "base_uri": "https://localhost:8080/",
          "height": 279
        },
        "outputId": "302e2b99-d0f9-424b-80ef-6bb839a9bfcb"
      },
      "execution_count": null,
      "outputs": [
        {
          "output_type": "display_data",
          "data": {
            "text/plain": [
              "<Figure size 432x288 with 1 Axes>"
            ],
            "image/png": "[encoded data removed]"
          },
          "metadata": {
            "needs_background": "light"
          }
        }
      ]
    },
    {
      "cell_type": "markdown",
      "source": [
        "Reference points:\n",
        "\n",
        "score = -1 -> NSI = 0\n",
        "\n",
        "score = -0,1 -> NSI = 20\n",
        "\n",
        "score = -0.02 -> NSI = 50\n",
        "\n",
        "score = 0.07 -> NSI = 90\n",
        "\n",
        "score = 1 -> NSI = 100"
      ],
      "metadata": {
        "id": "D4cd0PF4AmSw"
      }
    },
    {
      "cell_type": "code",
      "source": [
        "# Define points to fit\n",
        "score_points = [-1, -0.01, -0.02, 0.07, 1]\n",
        "NSI_points = [0, 20, 50, 90, 100]"
      ],
      "metadata": {
        "id": "xPLoZVNFIJrO"
      },
      "execution_count": null,
      "outputs": []
    },
    {
      "cell_type": "code",
      "source": [
        "# Curve fitting\n",
        "n = 3 # degree\n",
        "coefficients = np.polyfit(score_points, NSI_points, n)\n",
        "x_plot = np.linspace(-1, 1, 100)\n",
        "y_plot = np.polyval(coefficients, x_plot)\n",
        "plt.plot(score_points, NSI_points, 'b*')\n",
        "plt.plot(x_plot, y_plot, 'r--')\n",
        "plt.title(\"Polynomail curve fitting\")\n",
        "plt.xlabel(\"sentiment score\")\n",
        "plt.ylabel(\"NSI\")\n",
        "plt.show()"
      ],
      "metadata": {
        "id": "WFjhYjOUKhUU",
        "colab": {
          "base_uri": "https://localhost:8080/",
          "height": 295
        },
        "outputId": "5d88bc6a-a3d3-44a6-848c-371c253198bc"
      },
      "execution_count": null,
      "outputs": [
        {
          "output_type": "display_data",
          "data": {
            "text/plain": [
              "<Figure size 432x288 with 1 Axes>"
            ],
            "image/png": "[encoded data removed]"
          },
          "metadata": {
            "needs_background": "light"
          }
        }
      ]
    },
    {
      "cell_type": "code",
      "source": [
        "def sigmoid (x, A, h, slope, C):\n",
        "    return A/(1 + np.exp(-x*slope + h)) + C"
      ],
      "metadata": {
        "id": "nCxgil0DYzZf"
      },
      "execution_count": null,
      "outputs": []
    },
    {
      "cell_type": "code",
      "source": [
        "# Sigmoid parameters\n",
        "A = 100 # we want values from 0 to 100\n",
        "h = 0 # bring down the center of the curve (if score=0 -> NSI<50 if h>0)\n",
        "slope = 20 # the higher the slope, the higher the variance around score 0\n",
        "C = 0 # we don't want a vertical offset"
      ],
      "metadata": {
        "id": "sOKAdy8QfymR"
      },
      "execution_count": null,
      "outputs": []
    },
    {
      "cell_type": "code",
      "source": [
        "x_plot = np.linspace(-1, 1, 100)\n",
        "f = np.vectorize(sigmoid)\n",
        "y_plot = f(x_plot, A, h, slope, C)\n",
        "plt.plot(score_points, NSI_points, 'b*')\n",
        "plt.plot(x_plot, y_plot)\n",
        "plt.grid()\n",
        "plt.show()\n",
        "print(sigmoid(-1, A, h, slope, C), sigmoid(0, A, h, slope, C), sigmoid(1, A, h, slope, C))"
      ],
      "metadata": {
        "id": "9HtZtE6pXEJs",
        "colab": {
          "base_uri": "https://localhost:8080/",
          "height": 282
        },
        "outputId": "b9cbb607-e1f3-40cd-99f0-eb022105a54c"
      },
      "execution_count": null,
      "outputs": [
        {
          "output_type": "display_data",
          "data": {
            "text/plain": [
              "<Figure size 432x288 with 1 Axes>"
            ],
            "image/png": "[encoded data removed]"
          },
          "metadata": {
            "needs_background": "light"
          }
        },
        {
          "output_type": "stream",
          "name": "stdout",
          "text": [
            "2.0611536181902035e-07 50.0 99.99999979388463\n"
          ]
        }
      ]
    },
    {
      "cell_type": "code",
      "source": [
        "new_NSI = f(scores, A, h, slope, C)\n",
        "plt.hist(new_NSI, bins=50)\n",
        "plt.title('Histogram for new NSI')\n",
        "plt.xlabel(\"NSI\")\n",
        "plt.ylabel(\"frequency\")\n",
        "plt.show()\n",
        "median = np.median(new_NSI)\n",
        "print(f'Median: {round(median, 2)}')\n",
        "percentiles = np.percentile(new_NSI, [1.5, 98.5])\n",
        "print(f'97% confidence interval: [{round(percentiles[0], 2)}, {round(percentiles[1], 2)}]')"
      ],
      "metadata": {
        "id": "pdI2tDvw0GNd",
        "colab": {
          "base_uri": "https://localhost:8080/",
          "height": 330
        },
        "outputId": "2e3bc691-6741-41d0-97d2-0fb691344a52"
      },
      "execution_count": null,
      "outputs": [
        {
          "output_type": "display_data",
          "data": {
            "text/plain": [
              "<Figure size 432x288 with 1 Axes>"
            ],
            "image/png": "[encoded data removed]"
          },
          "metadata": {
            "needs_background": "light"
          }
        },
        {
          "output_type": "stream",
          "name": "stdout",
          "text": [
            "Median: 40.14\n",
            "97% confidence interval: [11.57, 80.18]\n"
          ]
        }
      ]
    }
  ]
}