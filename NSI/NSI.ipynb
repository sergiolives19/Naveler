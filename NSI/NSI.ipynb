{
  "nbformat": 4,
  "nbformat_minor": 0,
  "metadata": {
    "colab": {
      "name": "NSI.ipynb",
      "provenance": [],
      "collapsed_sections": []
    },
    "kernelspec": {
      "name": "python3",
      "display_name": "Python 3"
    },
    "language_info": {
      "name": "python"
    }
  },
  "cells": [
    {
      "cell_type": "code",
      "source": [
        "import json\n",
        "import matplotlib.pyplot as plt\n",
        "import numpy as np"
      ],
      "metadata": {
        "id": "7De3KGgU1B0g"
      },
      "execution_count": null,
      "outputs": []
    },
    {
      "cell_type": "code",
      "source": [
        "def json_to_2_lists(json_file):\n",
        "  with open(json_file) as f:\n",
        "    data = json.load(f)\n",
        "  neg_scores = []\n",
        "  pos_scores = []\n",
        "  for document in data:\n",
        "    neg_scores.append(document[\"average_negative_score\"][\"value\"])\n",
        "    pos_scores.append(document[\"average_positive_score\"][\"value\"])\n",
        "  return neg_scores, pos_scores"
      ],
      "metadata": {
        "id": "gOrxs9aT8ud0"
      },
      "execution_count": null,
      "outputs": []
    },
    {
      "cell_type": "code",
      "execution_count": null,
      "metadata": {
        "id": "X3Zswew_yL6_",
        "colab": {
          "base_uri": "https://localhost:8080/"
        },
        "outputId": "131ddb2a-2f32-4268-b5ca-ee02458c369a"
      },
      "outputs": [
        {
          "output_type": "stream",
          "name": "stdout",
          "text": [
            "Drive already mounted at /content/drive; to attempt to forcibly remount, call drive.mount(\"/content/drive\", force_remount=True).\n"
          ]
        }
      ],
      "source": [
        "from google.colab import drive\n",
        "drive.mount('/content/drive')\n",
        "\n",
        "PEDRO_SANCHEZ_PATH = '/content/drive/My Drive/Naveler/03.TECH/data_discovery/datasets/0101_0630_splitted.json'\n",
        "OBRADOR_PATH = '/content/drive/My Drive/Naveler/03.TECH/data_discovery/datasets/262.json'\n",
        "FIGUERES_PATH = '/content/drive/My Drive/Naveler/03.TECH/data_discovery/datasets/555.json'\n",
        "CHAVES_PATH = '/content/drive/My Drive/Naveler/03.TECH/data_discovery/datasets/609.json'\n",
        "MENORCA_PATH = '/content/drive/My Drive/Naveler/03.TECH/data_discovery/datasets/1803.json'\n",
        "\n",
        "sanchez_negative_scores, sanchez_positive_scores = json_to_2_lists(PEDRO_SANCHEZ_PATH)\n",
        "obrador_negative_scores, obrador_positive_scores = json_to_2_lists(OBRADOR_PATH)\n",
        "figueres_negative_scores, figueres_positive_scores = json_to_2_lists(FIGUERES_PATH)\n",
        "chaves_negative_scores, chaves_positive_scores = json_to_2_lists(CHAVES_PATH)\n",
        "menorca_negative_scores, menorca_positive_scores = json_to_2_lists(MENORCA_PATH)"
      ]
    },
    {
      "cell_type": "code",
      "source": [
        "sanchez_scores = np.array(sanchez_positive_scores) - np.array(sanchez_negative_scores)\n",
        "print(f'Pedro Sánchez: {len(sanchez_scores)}')\n",
        "\n",
        "obrador_scores = np.array(obrador_positive_scores) - np.array(obrador_negative_scores)\n",
        "print(f'Obrador: {len(obrador_scores)}')\n",
        "\n",
        "figueres_scores = np.array(figueres_positive_scores) - np.array(figueres_negative_scores)\n",
        "print(f'Figueres: {len(figueres_scores)}')\n",
        "\n",
        "chaves_scores = np.array(chaves_positive_scores) - np.array(chaves_negative_scores)\n",
        "print(f'Chaves: {len(chaves_scores)}')\n",
        "\n",
        "menorca_scores = np.array(menorca_positive_scores) - np.array(menorca_negative_scores)\n",
        "print(f'Menorca: {len(menorca_scores)}')"
      ],
      "metadata": {
        "colab": {
          "base_uri": "https://localhost:8080/"
        },
        "id": "9GPHSKXf0ID-",
        "outputId": "ce23859d-f054-4bfa-a27c-449af6e95818"
      },
      "execution_count": null,
      "outputs": [
        {
          "output_type": "stream",
          "name": "stdout",
          "text": [
            "Pedro Sánchez: 682\n",
            "Obrador: 1373\n",
            "Figueres: 1214\n",
            "Chaves: 1192\n",
            "Menorca: 284\n"
          ]
        }
      ]
    },
    {
      "cell_type": "code",
      "source": [
        "def min_max_normalization(value, max_value, min_value):\n",
        "    \"\"\"Normalize value between 0-1\n",
        "\n",
        "    :param value: int/float\n",
        "    :param max_value: int/float max value\n",
        "    :param min_value: int/float min value\n",
        "    :return: float\n",
        "    \"\"\"\n",
        "    # Remove negative values shifting the minimum value\n",
        "    value_shift = abs(min_value)\n",
        "    max_value += value_shift\n",
        "    min_value += value_shift\n",
        "    value += value_shift\n",
        "\n",
        "    divisor = max_value - min_value\n",
        "    if divisor == 0:\n",
        "        # Avoid division by zero, return the center\n",
        "        return 1 / 2\n",
        "\n",
        "    # Normalize value\n",
        "    normalized_value = (value - min_value) / divisor\n",
        "\n",
        "    return normalized_value"
      ],
      "metadata": {
        "id": "vtbVA1Z9jxFL"
      },
      "execution_count": null,
      "outputs": []
    },
    {
      "cell_type": "code",
      "source": [
        "def calculate_nsi(positive_score, negative_score, min_nsi=20, max_nsi=90, **kwargs):\n",
        "    \"\"\"Calculate NSI from normalized sentiment score\n",
        "\n",
        "    :param positive_score: float\n",
        "    :param negative_score: float\n",
        "    :param min_nsi: int/float minimum nsi value\n",
        "    :param max_nsi: int/float maximum nsi value\n",
        "    :param positive_factor: float positive factor\n",
        "    :param negative_factor: float negative factor\n",
        "    :return: float\n",
        "    \"\"\"\n",
        "    # Set default positive score\n",
        "    if not positive_score:\n",
        "        positive_score = 0\n",
        "\n",
        "    # Set default negative score\n",
        "    if not negative_score:\n",
        "        negative_score = 0\n",
        "\n",
        "    # Boost negative score\n",
        "    positive_factor = 1\n",
        "\n",
        "    negative_factor = 1.2\n",
        "\n",
        "    positive_score *= positive_factor\n",
        "    negative_score *= negative_factor\n",
        "\n",
        "    # Calculate nsi\n",
        "    sentiment_score = positive_score - negative_score\n",
        "    sentiment_score = min_max_normalization(sentiment_score, positive_score, -negative_score)\n",
        "\n",
        "    # Scale nsi from 0-1 to 0-100\n",
        "    return (sentiment_score * (max_nsi - min_nsi)) + min_nsi"
      ],
      "metadata": {
        "id": "CcRPriZFiMrW"
      },
      "execution_count": null,
      "outputs": []
    },
    {
      "cell_type": "code",
      "source": [
        "old_nsi = np.vectorize(calculate_nsi)"
      ],
      "metadata": {
        "id": "7P2W90wDivwR"
      },
      "execution_count": null,
      "outputs": []
    },
    {
      "cell_type": "code",
      "source": [
        "def sigmoid (x, A, h, slope, C):\n",
        "    return A/(1 + np.exp(-x*slope + h)) + C"
      ],
      "metadata": {
        "id": "nCxgil0DYzZf"
      },
      "execution_count": null,
      "outputs": []
    },
    {
      "cell_type": "code",
      "source": [
        "# Sigmoid parameters\n",
        "A = 100 # we want values from 0 to 100\n",
        "h = 0 # bring down the center of the curve (if score=0 -> NSI<50 if h>0)\n",
        "slope = 5 # the higher the slope, the higher the variance around score 0\n",
        "C = 0 # we don't want a vertical offset"
      ],
      "metadata": {
        "id": "sOKAdy8QfymR"
      },
      "execution_count": null,
      "outputs": []
    },
    {
      "cell_type": "code",
      "source": [
        "x_plot = np.linspace(-1.5, 1.5, 100)\n",
        "new_nsi = np.vectorize(sigmoid)\n",
        "y_plot = new_nsi(x_plot, A, h, slope, C)\n",
        "plt.plot(x_plot, y_plot)\n",
        "plt.grid()\n",
        "plt.show()\n",
        "print(sigmoid(-1, A, h, slope, C), sigmoid(0, A, h, slope, C), sigmoid(1, A, h, slope, C))"
      ],
      "metadata": {
        "id": "9HtZtE6pXEJs",
        "colab": {
          "base_uri": "https://localhost:8080/",
          "height": 282
        },
        "outputId": "fe2fa3da-ef96-4fa1-d37a-1576fa3056df"
      },
      "execution_count": null,
      "outputs": [
        {
          "output_type": "display_data",
          "data": {
            "text/plain": [
              "<Figure size 432x288 with 1 Axes>"
            ],
            "image/png": "[encoded data removed]"
          },
          "metadata": {
            "needs_background": "light"
          }
        },
        {
          "output_type": "stream",
          "name": "stdout",
          "text": [
            "0.6692850924284856 50.0 99.33071490757152\n"
          ]
        }
      ]
    },
    {
      "cell_type": "code",
      "source": [
        "sanchez_old_NSI = old_nsi(sanchez_positive_scores, sanchez_negative_scores)\n",
        "sanchez_new_NSI = new_nsi(sanchez_scores, A, h, slope, C)\n",
        "fig, (ax1, ax2, ax3) = plt.subplots(1, 3, sharey=True)\n",
        "ax1.hist(sanchez_scores, bins=50)\n",
        "ax2.hist(sanchez_old_NSI, bins=50)\n",
        "ax3.hist(sanchez_new_NSI, bins=50)\n",
        "fig.suptitle(\"Scores and NSI for Pedro Sánchez\")\n",
        "ax1.set_xlabel(\"score\")\n",
        "ax2.set_xlabel(\"old NSI\")\n",
        "ax3.set_xlabel(\"new NSI\")\n",
        "ax1.set_ylabel(\"frequency\")\n",
        "plt.show()\n",
        "\n",
        "print(f'Median score: {round(np.median(sanchez_scores), 2)}')\n",
        "print(f'95% confidence interval for scores: [{round(np.percentile(sanchez_scores, 2.5), 2)}, {round(np.percentile(sanchez_scores, 97.5), 2)}]')\n",
        "print(f'Median old NSI: {round(np.median(sanchez_old_NSI), 2)}')\n",
        "print(f'95% confidence interval for old NSI: [{round(np.percentile(sanchez_old_NSI, 2.5), 2)}, {round(np.percentile(sanchez_old_NSI, 97.5), 2)}]')\n",
        "print(f'Median new NSI: {round(np.median(sanchez_new_NSI), 2)}')\n",
        "print(f'95% confidence interval for new NSI: [{round(np.percentile(sanchez_new_NSI, 2.5), 2)}, {round(np.percentile(sanchez_new_NSI, 97.5), 2)}]')"
      ],
      "metadata": {
        "id": "pdI2tDvw0GNd",
        "colab": {
          "base_uri": "https://localhost:8080/",
          "height": 412
        },
        "outputId": "6c8947cc-957c-4883-e8a3-6264e11a0a10"
      },
      "execution_count": null,
      "outputs": [
        {
          "output_type": "display_data",
          "data": {
            "text/plain": [
              "<Figure size 432x288 with 3 Axes>"
            ],
            "image/png": "[encoded data removed]"
          },
          "metadata": {
            "needs_background": "light"
          }
        },
        {
          "output_type": "stream",
          "name": "stdout",
          "text": [
            "Median score: -0.02\n",
            "95% confidence interval for scores: [-0.09, 0.04]\n",
            "Median old NSI: 51.01\n",
            "95% confidence interval for old NSI: [48.37, 53.59]\n",
            "Median new NSI: 47.5\n",
            "95% confidence interval for new NSI: [39.06, 55.21]\n"
          ]
        }
      ]
    },
    {
      "cell_type": "code",
      "source": [
        "obrador_old_NSI = old_nsi(obrador_positive_scores, obrador_negative_scores)\n",
        "obrador_new_NSI = new_nsi(obrador_scores, A, h, slope, C)\n",
        "fig, (ax1, ax2, ax3) = plt.subplots(1, 3, sharey=True)\n",
        "ax1.hist(obrador_scores, bins=50)\n",
        "ax2.hist(obrador_old_NSI, bins=50)\n",
        "ax3.hist(obrador_new_NSI, bins=50)\n",
        "fig.suptitle(\"Scores and NSI for Obrador\")\n",
        "ax1.set_xlabel(\"score\")\n",
        "ax2.set_xlabel(\"old NSI\")\n",
        "ax3.set_xlabel(\"new NSI\")\n",
        "ax1.set_ylabel(\"frequency\")\n",
        "plt.show()\n",
        "\n",
        "print(f'Median score: {round(np.median(obrador_scores), 2)}')\n",
        "print(f'95% confidence interval for scores: [{round(np.percentile(obrador_scores, 2.5), 2)}, {round(np.percentile(obrador_scores, 97.5), 2)}]')\n",
        "print(f'Median old NSI: {round(np.median(obrador_old_NSI), 2)}')\n",
        "print(f'95% confidence interval for old NSI: [{round(np.percentile(obrador_old_NSI, 2.5), 2)}, {round(np.percentile(obrador_old_NSI, 97.5), 2)}]')\n",
        "print(f'Median new NSI: {round(np.median(obrador_new_NSI), 2)}')\n",
        "print(f'95% confidence interval for new NSI: [{round(np.percentile(obrador_new_NSI, 2.5), 2)}, {round(np.percentile(obrador_new_NSI, 97.5), 2)}]')"
      ],
      "metadata": {
        "colab": {
          "base_uri": "https://localhost:8080/",
          "height": 412
        },
        "id": "Nbcj368n-1uq",
        "outputId": "b332e9fd-034f-4c9a-d4be-7409cf3a1d5d"
      },
      "execution_count": null,
      "outputs": [
        {
          "output_type": "display_data",
          "data": {
            "text/plain": [
              "<Figure size 432x288 with 3 Axes>"
            ],
            "image/png": "[encoded data removed]"
          },
          "metadata": {
            "needs_background": "light"
          }
        },
        {
          "output_type": "stream",
          "name": "stdout",
          "text": [
            "Median score: -0.01\n",
            "95% confidence interval for scores: [-0.05, 0.05]\n",
            "Median old NSI: 51.39\n",
            "95% confidence interval for old NSI: [50.0, 53.53]\n",
            "Median new NSI: 48.54\n",
            "95% confidence interval for new NSI: [43.52, 55.84]\n"
          ]
        }
      ]
    },
    {
      "cell_type": "code",
      "source": [
        "figueres_old_NSI = old_nsi(figueres_positive_scores, figueres_negative_scores)\n",
        "figueres_new_NSI = new_nsi(figueres_scores, A, h, slope, C)\n",
        "fig, (ax1, ax2, ax3) = plt.subplots(1, 3, sharey=True)\n",
        "ax1.hist(figueres_scores, bins=50)\n",
        "ax2.hist(figueres_old_NSI, bins=50)\n",
        "ax3.hist(figueres_new_NSI, bins=50)\n",
        "fig.suptitle(\"Scores and NSI for Figueres\")\n",
        "ax1.set_xlabel(\"score\")\n",
        "ax2.set_xlabel(\"old NSI\")\n",
        "ax3.set_xlabel(\"new NSI\")\n",
        "ax1.set_ylabel(\"frequency\")\n",
        "plt.show()\n",
        "\n",
        "print(f'Median score: {round(np.median(figueres_scores), 2)}')\n",
        "print(f'95% confidence interval for scores: [{round(np.percentile(figueres_scores, 2.5), 2)}, {round(np.percentile(figueres_scores, 97.5), 2)}]')\n",
        "print(f'Median old NSI: {round(np.median(figueres_old_NSI), 2)}')\n",
        "print(f'95% confidence interval for old NSI: [{round(np.percentile(figueres_old_NSI, 2.5), 2)}, {round(np.percentile(figueres_old_NSI, 97.5), 2)}]')\n",
        "print(f'Median new NSI: {round(np.median(figueres_new_NSI), 2)}')\n",
        "print(f'95% confidence interval for new NSI: [{round(np.percentile(figueres_new_NSI, 2.5), 2)}, {round(np.percentile(figueres_new_NSI, 97.5), 2)}]')"
      ],
      "metadata": {
        "colab": {
          "base_uri": "https://localhost:8080/",
          "height": 412
        },
        "id": "Two6YYSv-o_E",
        "outputId": "c3c5b034-c9c8-4022-cb5d-23fea4273eba"
      },
      "execution_count": null,
      "outputs": [
        {
          "output_type": "display_data",
          "data": {
            "text/plain": [
              "<Figure size 432x288 with 3 Axes>"
            ],
            "image/png": "[encoded data removed]"
          },
          "metadata": {
            "needs_background": "light"
          }
        },
        {
          "output_type": "stream",
          "name": "stdout",
          "text": [
            "Median score: 0.02\n",
            "95% confidence interval for scores: [-0.5, 0.51]\n",
            "Median old NSI: 52.99\n",
            "95% confidence interval for old NSI: [28.62, 84.2]\n",
            "Median new NSI: 53.11\n",
            "95% confidence interval for new NSI: [7.59, 92.77]\n"
          ]
        }
      ]
    },
    {
      "cell_type": "code",
      "source": [
        "chaves_old_NSI = old_nsi(chaves_positive_scores, chaves_negative_scores)\n",
        "chaves_new_NSI = new_nsi(chaves_scores, A, h, slope, C)\n",
        "fig, (ax1, ax2, ax3) = plt.subplots(1, 3, sharey=True)\n",
        "ax1.hist(chaves_scores, bins=50)\n",
        "ax2.hist(chaves_old_NSI, bins=50)\n",
        "ax3.hist(chaves_new_NSI, bins=50)\n",
        "fig.suptitle(\"Scores and NSI for Chaves\")\n",
        "ax1.set_xlabel(\"score\")\n",
        "ax2.set_xlabel(\"old NSI\")\n",
        "ax3.set_xlabel(\"new NSI\")\n",
        "ax1.set_ylabel(\"frequency\")\n",
        "plt.show()\n",
        "\n",
        "print(f'Median score: {round(np.median(chaves_scores), 2)}')\n",
        "print(f'95% confidence interval for scores: [{round(np.percentile(chaves_scores, 2.5), 2)}, {round(np.percentile(chaves_scores, 97.5), 2)}]')\n",
        "print(f'Median old NSI: {round(np.median(chaves_old_NSI), 2)}')\n",
        "print(f'95% confidence interval for old NSI: [{round(np.percentile(chaves_old_NSI, 2.5), 2)}, {round(np.percentile(chaves_old_NSI, 97.5), 2)}]')\n",
        "print(f'Median new NSI: {round(np.median(chaves_new_NSI), 2)}')\n",
        "print(f'95% confidence interval for new NSI: [{round(np.percentile(chaves_new_NSI, 2.5), 2)}, {round(np.percentile(chaves_new_NSI, 97.5), 2)}]')"
      ],
      "metadata": {
        "colab": {
          "base_uri": "https://localhost:8080/",
          "height": 412
        },
        "id": "vG32wSp78iW6",
        "outputId": "34da11b6-b4ac-4995-d460-a13e536c90b5"
      },
      "execution_count": null,
      "outputs": [
        {
          "output_type": "display_data",
          "data": {
            "text/plain": [
              "<Figure size 432x288 with 3 Axes>"
            ],
            "image/png": "[encoded data removed]"
          },
          "metadata": {
            "needs_background": "light"
          }
        },
        {
          "output_type": "stream",
          "name": "stdout",
          "text": [
            "Median score: 0.02\n",
            "95% confidence interval for scores: [-0.5, 0.62]\n",
            "Median old NSI: 52.75\n",
            "95% confidence interval for old NSI: [29.88, 90.0]\n",
            "Median new NSI: 52.27\n",
            "95% confidence interval for new NSI: [7.59, 95.79]\n"
          ]
        }
      ]
    },
    {
      "cell_type": "code",
      "source": [
        "menorca_old_NSI = old_nsi(menorca_positive_scores, menorca_negative_scores)\n",
        "menorca_new_NSI = new_nsi(menorca_scores, A, h, slope, C)\n",
        "fig, (ax1, ax2, ax3) = plt.subplots(1, 3, sharey=True)\n",
        "ax1.hist(menorca_scores, bins=50)\n",
        "ax2.hist(menorca_old_NSI, bins=50)\n",
        "ax3.hist(menorca_new_NSI, bins=50)\n",
        "fig.suptitle(\"Scores and NSI for Menorca\")\n",
        "ax1.set_xlabel(\"score\")\n",
        "ax2.set_xlabel(\"old NSI\")\n",
        "ax3.set_xlabel(\"new NSI\")\n",
        "ax1.set_ylabel(\"frequency\")\n",
        "plt.show()\n",
        "\n",
        "print(f'Median score: {round(np.median(menorca_scores), 2)}')\n",
        "print(f'95% confidence interval for scores: [{round(np.percentile(menorca_scores, 2.5), 2)}, {round(np.percentile(menorca_scores, 97.5), 2)}]')\n",
        "print(f'Median old NSI: {round(np.median(menorca_old_NSI), 2)}')\n",
        "print(f'95% confidence interval for old NSI: [{round(np.percentile(menorca_old_NSI, 2.5), 2)}, {round(np.percentile(menorca_old_NSI, 97.5), 2)}]')\n",
        "print(f'Median new NSI: {round(np.median(menorca_new_NSI), 2)}')\n",
        "print(f'95% confidence interval for new NSI: [{round(np.percentile(menorca_new_NSI, 2.5), 2)}, {round(np.percentile(menorca_new_NSI, 97.5), 2)}]')"
      ],
      "metadata": {
        "id": "xdx9AvzP84M_",
        "outputId": "021929dc-6199-44ca-8cc7-641204eccbfc",
        "colab": {
          "base_uri": "https://localhost:8080/",
          "height": 412
        }
      },
      "execution_count": null,
      "outputs": [
        {
          "output_type": "display_data",
          "data": {
            "text/plain": [
              "<Figure size 432x288 with 3 Axes>"
            ],
            "image/png": "[encoded data removed]"
          },
          "metadata": {
            "needs_background": "light"
          }
        },
        {
          "output_type": "stream",
          "name": "stdout",
          "text": [
            "Median score: 0.11\n",
            "95% confidence interval for scores: [-0.09, 0.32]\n",
            "Median old NSI: 59.04\n",
            "95% confidence interval for old NSI: [46.26, 73.06]\n",
            "Median new NSI: 62.99\n",
            "95% confidence interval for new NSI: [39.39, 83.06]\n"
          ]
        }
      ]
    }
  ]
}