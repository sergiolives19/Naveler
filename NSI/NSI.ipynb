{
  "nbformat": 4,
  "nbformat_minor": 0,
  "metadata": {
    "colab": {
      "name": "NSI.ipynb",
      "provenance": [],
      "collapsed_sections": []
    },
    "kernelspec": {
      "name": "python3",
      "display_name": "Python 3"
    },
    "language_info": {
      "name": "python"
    }
  },
  "cells": [
    {
      "cell_type": "code",
      "source": [
        "import json\n",
        "import matplotlib.pyplot as plt\n",
        "import numpy as np"
      ],
      "metadata": {
        "id": "7De3KGgU1B0g"
      },
      "execution_count": null,
      "outputs": []
    },
    {
      "cell_type": "code",
      "source": [
        "def json_to_2_lists(json_file):\n",
        "  with open(json_file) as f:\n",
        "    data = json.load(f)\n",
        "  neg_scores = []\n",
        "  pos_scores = []\n",
        "  for document in data:\n",
        "    neg_scores.append(document[\"average_negative_score\"][\"value\"])\n",
        "    pos_scores.append(document[\"average_positive_score\"][\"value\"])\n",
        "  return neg_scores, pos_scores"
      ],
      "metadata": {
        "id": "gOrxs9aT8ud0"
      },
      "execution_count": null,
      "outputs": []
    },
    {
      "cell_type": "code",
      "execution_count": null,
      "metadata": {
        "id": "X3Zswew_yL6_",
        "colab": {
          "base_uri": "https://localhost:8080/"
        },
        "outputId": "c4848b27-4ec9-4aae-e2df-b203071dc6ee"
      },
      "outputs": [
        {
          "output_type": "stream",
          "name": "stdout",
          "text": [
            "Mounted at /content/drive\n"
          ]
        }
      ],
      "source": [
        "from google.colab import drive\n",
        "drive.mount('/content/drive')\n",
        "\n",
        "PEDRO_SANCHEZ_PATH = '/content/drive/My Drive/Naveler/03.TECH/data_discovery/datasets/0101_0630_splitted.json'\n",
        "OBRADOR_PATH = '/content/drive/My Drive/Naveler/03.TECH/data_discovery/datasets/262.json'\n",
        "FIGUERES_PATH = '/content/drive/My Drive/Naveler/03.TECH/data_discovery/datasets/555.json'\n",
        "CHAVES_PATH = '/content/drive/My Drive/Naveler/03.TECH/data_discovery/datasets/609.json'\n",
        "MENORCA_PATH = '/content/drive/My Drive/Naveler/03.TECH/data_discovery/datasets/1803.json'\n",
        "\n",
        "sanchez_negative_scores, sanchez_positive_scores = json_to_2_lists(PEDRO_SANCHEZ_PATH)\n",
        "obrador_negative_scores, obrador_positive_scores = json_to_2_lists(OBRADOR_PATH)\n",
        "figueres_negative_scores, figueres_positive_scores = json_to_2_lists(FIGUERES_PATH)\n",
        "chaves_negative_scores, chaves_positive_scores = json_to_2_lists(CHAVES_PATH)\n",
        "menorca_negative_scores, menorca_positive_scores = json_to_2_lists(MENORCA_PATH)"
      ]
    },
    {
      "cell_type": "code",
      "source": [
        "sanchez_scores = np.array(sanchez_positive_scores) - np.array(sanchez_negative_scores)\n",
        "print(f'Pedro Sánchez: {len(sanchez_scores)}')\n",
        "\n",
        "obrador_scores = np.array(obrador_positive_scores) - np.array(obrador_negative_scores)\n",
        "print(f'Obrador: {len(obrador_scores)}')\n",
        "\n",
        "figueres_scores = np.array(figueres_positive_scores) - np.array(figueres_negative_scores)\n",
        "print(f'Figueres: {len(figueres_scores)}')\n",
        "\n",
        "chaves_scores = np.array(chaves_positive_scores) - np.array(chaves_negative_scores)\n",
        "print(f'Chaves: {len(chaves_scores)}')\n",
        "\n",
        "menorca_scores = np.array(menorca_positive_scores) - np.array(menorca_negative_scores)\n",
        "print(f'Menorca: {len(menorca_scores)}')"
      ],
      "metadata": {
        "colab": {
          "base_uri": "https://localhost:8080/"
        },
        "id": "9GPHSKXf0ID-",
        "outputId": "6e54fe54-5f06-4d92-91c9-ce31ad93a013"
      },
      "execution_count": null,
      "outputs": [
        {
          "output_type": "stream",
          "name": "stdout",
          "text": [
            "Pedro Sánchez: 682\n",
            "Obrador: 1373\n",
            "Figueres: 1214\n",
            "Chaves: 1192\n",
            "Menorca: 284\n"
          ]
        }
      ]
    },
    {
      "cell_type": "code",
      "source": [
        "def sigmoid (x, A, h, slope, C):\n",
        "    return A/(1 + np.exp(-x*slope + h)) + C"
      ],
      "metadata": {
        "id": "nCxgil0DYzZf"
      },
      "execution_count": null,
      "outputs": []
    },
    {
      "cell_type": "code",
      "source": [
        "# Sigmoid parameters\n",
        "A = 100 # we want values from 0 to 100\n",
        "h = 0 # bring down the center of the curve (if score=0 -> NSI<50 if h>0)\n",
        "slope = 20 # the higher the slope, the higher the variance around score 0\n",
        "C = 0 # we don't want a vertical offset"
      ],
      "metadata": {
        "id": "sOKAdy8QfymR"
      },
      "execution_count": null,
      "outputs": []
    },
    {
      "cell_type": "code",
      "source": [
        "x_plot = np.linspace(-1, 1, 100)\n",
        "f = np.vectorize(sigmoid)\n",
        "y_plot = f(x_plot, A, h, slope, C)\n",
        "plt.plot(x_plot, y_plot)\n",
        "plt.grid()\n",
        "plt.show()\n",
        "#print(sigmoid(-1, A, h, slope, C), sigmoid(0, A, h, slope, C), sigmoid(1, A, h, slope, C))"
      ],
      "metadata": {
        "id": "9HtZtE6pXEJs",
        "colab": {
          "base_uri": "https://localhost:8080/",
          "height": 265
        },
        "outputId": "92947ee7-610b-491d-c144-b6bb04174802"
      },
      "execution_count": null,
      "outputs": [
        {
          "output_type": "display_data",
          "data": {
            "text/plain": [
              "<Figure size 432x288 with 1 Axes>"
            ],
            "image/png": "[encoded data removed]"
          },
          "metadata": {
            "needs_background": "light"
          }
        }
      ]
    },
    {
      "cell_type": "code",
      "source": [
        "sanchez_NSI = f(sanchez_scores, A, h, slope, C)\n",
        "fig, (ax1, ax2) = plt.subplots(1, 2, sharey=True)\n",
        "ax1.hist(sanchez_scores, bins=50)\n",
        "ax2.hist(sanchez_NSI, bins=50)\n",
        "fig.suptitle(\"Scores and NSI for Pedro Sánchez\")\n",
        "ax1.set_xlabel(\"score\")\n",
        "ax2.set_xlabel(\"NSI\")\n",
        "ax1.set_ylabel(\"frequency\")\n",
        "ax2.set_ylabel(\"frequency\")\n",
        "plt.show()\n",
        "print(f'Median score: {round(np.median(sanchez_scores), 2)}')\n",
        "print(f'97% confidence interval for the scores: [{round(np.percentile(sanchez_scores, 1.5), 2)}, {round(np.percentile(sanchez_scores, 98.5), 2)}]')\n",
        "print(f'Median NSI: {round(np.median(sanchez_NSI), 2)}')\n",
        "print(f'97% confidence interval for the NSI: [{round(np.percentile(sanchez_NSI, 1.5), 2)}, {round(np.percentile(sanchez_NSI, 98.5), 2)}]')"
      ],
      "metadata": {
        "id": "pdI2tDvw0GNd",
        "colab": {
          "base_uri": "https://localhost:8080/",
          "height": 377
        },
        "outputId": "8fd07271-7945-46ed-ec2b-e340e91eb8da"
      },
      "execution_count": null,
      "outputs": [
        {
          "output_type": "display_data",
          "data": {
            "text/plain": [
              "<Figure size 432x288 with 2 Axes>"
            ],
            "image/png": "[encoded data removed]"
          },
          "metadata": {
            "needs_background": "light"
          }
        },
        {
          "output_type": "stream",
          "name": "stdout",
          "text": [
            "Median score: -0.02\n",
            "97% confidence interval for the scores: [-0.1, 0.07]\n",
            "Median NSI: 40.14\n",
            "97% confidence interval for the NSI: [11.57, 80.18]\n"
          ]
        }
      ]
    },
    {
      "cell_type": "code",
      "source": [
        "obrador_NSI = f(obrador_scores, A, h, slope, C)\n",
        "fig, (ax1, ax2) = plt.subplots(1, 2, sharey=True)\n",
        "ax1.hist(obrador_scores, bins=50)\n",
        "ax2.hist(obrador_NSI, bins=50)\n",
        "fig.suptitle(\"Scores and NSI for Obrador\")\n",
        "ax1.set_xlabel(\"score\")\n",
        "ax2.set_xlabel(\"NSI\")\n",
        "ax1.set_ylabel(\"frequency\")\n",
        "ax2.set_ylabel(\"frequency\")\n",
        "plt.show()\n",
        "print(f'Median score: {round(np.median(obrador_scores), 2)}')\n",
        "print(f'97% confidence interval for the scores: [{round(np.percentile(obrador_scores, 1.5), 2)}, {round(np.percentile(obrador_scores, 98.5), 2)}]')\n",
        "print(f'Median NSI: {round(np.median(obrador_NSI), 2)}')\n",
        "print(f'97% confidence interval for the NSI: [{round(np.percentile(obrador_NSI, 1.5), 2)}, {round(np.percentile(obrador_NSI, 98.5), 2)}]')"
      ],
      "metadata": {
        "colab": {
          "base_uri": "https://localhost:8080/",
          "height": 377
        },
        "id": "Two6YYSv-o_E",
        "outputId": "eb0e1373-8b25-4e65-a2bf-943553158593"
      },
      "execution_count": null,
      "outputs": [
        {
          "output_type": "display_data",
          "data": {
            "text/plain": [
              "<Figure size 432x288 with 2 Axes>"
            ],
            "image/png": "[encoded data removed]"
          },
          "metadata": {
            "needs_background": "light"
          }
        },
        {
          "output_type": "stream",
          "name": "stdout",
          "text": [
            "Median score: -0.01\n",
            "97% confidence interval for the scores: [-0.06, 0.07]\n",
            "Median NSI: 44.17\n",
            "97% confidence interval for the NSI: [24.08, 78.8]\n"
          ]
        }
      ]
    },
    {
      "cell_type": "code",
      "source": [
        "figueres_NSI = f(figueres_scores, A, h, slope, C)\n",
        "fig, (ax1, ax2) = plt.subplots(1, 2, sharey=True)\n",
        "ax1.hist(figueres_scores, bins=50)\n",
        "ax2.hist(figueres_NSI, bins=50)\n",
        "fig.suptitle(\"Scores and NSI for Figueres\")\n",
        "ax1.set_xlabel(\"score\")\n",
        "ax2.set_xlabel(\"NSI\")\n",
        "ax1.set_ylabel(\"frequency\")\n",
        "ax2.set_ylabel(\"frequency\")\n",
        "plt.show()\n",
        "print(f'Median score: {round(np.median(figueres_scores), 2)}')\n",
        "print(f'97% confidence interval for the scores: [{round(np.percentile(figueres_scores, 1.5), 2)}, {round(np.percentile(figueres_scores, 98.5), 2)}]')\n",
        "print(f'Median NSI: {round(np.median(figueres_NSI), 2)}')\n",
        "print(f'97% confidence interval for the NSI: [{round(np.percentile(figueres_NSI, 1.5), 2)}, {round(np.percentile(figueres_NSI, 98.5), 2)}]')"
      ],
      "metadata": {
        "colab": {
          "base_uri": "https://localhost:8080/",
          "height": 377
        },
        "id": "Nbcj368n-1uq",
        "outputId": "374a416b-67c3-436e-a1da-74af42897f15"
      },
      "execution_count": null,
      "outputs": [
        {
          "output_type": "display_data",
          "data": {
            "text/plain": [
              "<Figure size 432x288 with 2 Axes>"
            ],
            "image/png": "[encoded data removed]"
          },
          "metadata": {
            "needs_background": "light"
          }
        },
        {
          "output_type": "stream",
          "name": "stdout",
          "text": [
            "Median score: 0.02\n",
            "97% confidence interval for the scores: [-0.61, 0.62]\n",
            "Median NSI: 62.21\n",
            "97% confidence interval for the NSI: [0.0, 100.0]\n"
          ]
        }
      ]
    },
    {
      "cell_type": "code",
      "source": [
        "chaves_NSI = f(chaves_scores, A, h, slope, C)\n",
        "fig, (ax1, ax2) = plt.subplots(1, 2, sharey=True)\n",
        "ax1.hist(chaves_scores, bins=50)\n",
        "ax2.hist(chaves_NSI, bins=50)\n",
        "fig.suptitle(\"Scores and NSI for Chaves\")\n",
        "ax1.set_xlabel(\"score\")\n",
        "ax2.set_xlabel(\"NSI\")\n",
        "ax1.set_ylabel(\"frequency\")\n",
        "ax2.set_ylabel(\"frequency\")\n",
        "plt.show()\n",
        "print(f'Median score: {round(np.median(chaves_scores), 2)}')\n",
        "print(f'97% confidence interval for the scores: [{round(np.percentile(chaves_scores, 1.5), 2)}, {round(np.percentile(chaves_scores, 98.5), 2)}]')\n",
        "print(f'Median NSI: {round(np.median(chaves_NSI), 2)}')\n",
        "print(f'97% confidence interval for the NSI: [{round(np.percentile(chaves_NSI, 1.5), 2)}, {round(np.percentile(chaves_NSI, 98.5), 2)}]')"
      ],
      "metadata": {
        "colab": {
          "base_uri": "https://localhost:8080/",
          "height": 377
        },
        "id": "vG32wSp78iW6",
        "outputId": "3f64f92a-36bf-4da5-d744-6e229e53e11a"
      },
      "execution_count": null,
      "outputs": [
        {
          "output_type": "display_data",
          "data": {
            "text/plain": [
              "<Figure size 432x288 with 2 Axes>"
            ],
            "image/png": "[encoded data removed]"
          },
          "metadata": {
            "needs_background": "light"
          }
        },
        {
          "output_type": "stream",
          "name": "stdout",
          "text": [
            "Median score: 0.02\n",
            "97% confidence interval for the scores: [-0.6, 0.75]\n",
            "Median NSI: 58.99\n",
            "97% confidence interval for the NSI: [0.0, 100.0]\n"
          ]
        }
      ]
    },
    {
      "cell_type": "code",
      "source": [
        "menorca_NSI = f(menorca_scores, A, h, slope, C)\n",
        "fig, (ax1, ax2) = plt.subplots(1, 2, sharey=True)\n",
        "ax1.hist(menorca_scores, bins=50)\n",
        "ax2.hist(menorca_NSI, bins=50)\n",
        "fig.suptitle(\"Scores and NSI for Menorca\")\n",
        "ax1.set_xlabel(\"score\")\n",
        "ax2.set_xlabel(\"NSI\")\n",
        "ax1.set_ylabel(\"frequency\")\n",
        "ax2.set_ylabel(\"frequency\")\n",
        "plt.show()\n",
        "print(f'Median score: {round(np.median(menorca_scores), 2)}')\n",
        "print(f'97% confidence interval for the scores: [{round(np.percentile(menorca_scores, 1.5), 2)}, {round(np.percentile(menorca_scores, 98.5), 2)}]')\n",
        "print(f'Median NSI: {round(np.median(menorca_NSI), 2)}')\n",
        "print(f'97% confidence interval for the NSI: [{round(np.percentile(menorca_NSI, 1.5), 2)}, {round(np.percentile(menorca_NSI, 98.5), 2)}]')"
      ],
      "metadata": {
        "id": "xdx9AvzP84M_",
        "outputId": "8098b91e-f8f9-4769-e3f6-51ee7e1fe2bf",
        "colab": {
          "base_uri": "https://localhost:8080/",
          "height": 377
        }
      },
      "execution_count": null,
      "outputs": [
        {
          "output_type": "display_data",
          "data": {
            "text/plain": [
              "<Figure size 432x288 with 2 Axes>"
            ],
            "image/png": "[encoded data removed]"
          },
          "metadata": {
            "needs_background": "light"
          }
        },
        {
          "output_type": "stream",
          "name": "stdout",
          "text": [
            "Median score: 0.11\n",
            "97% confidence interval for the scores: [-0.12, 0.35]\n",
            "Median NSI: 89.36\n",
            "97% confidence interval for the NSI: [8.41, 99.91]\n"
          ]
        }
      ]
    }
  ]
}