{
  "nbformat": 4,
  "nbformat_minor": 0,
  "metadata": {
    "colab": {
      "name": "LSTM_categories.ipynb",
      "provenance": [],
      "collapsed_sections": []
    },
    "kernelspec": {
      "name": "python3",
      "display_name": "Python 3"
    },
    "language_info": {
      "name": "python"
    },
    "gpuClass": "standard"
  },
  "cells": [
    {
      "cell_type": "code",
      "execution_count": null,
      "metadata": {
        "id": "SbB1NgQT4pdX"
      },
      "outputs": [],
      "source": [
        "import json\n",
        "import datetime\n",
        "import numpy as np\n",
        "import pandas as pd\n",
        "import matplotlib.pyplot as plt"
      ]
    },
    {
      "cell_type": "code",
      "source": [
        "def json_to_matrix(json_file):\n",
        "  with open(json_file) as f:\n",
        "    data = json.load(f)\n",
        "  dates = []\n",
        "  categories_id = []\n",
        "  categories = []\n",
        "  I = len(data)\n",
        "  i = 0\n",
        "  for element in data:\n",
        "    date, time = element[\"date\"].split(\"T\")\n",
        "    year, month, day = date.split(\"-\")\n",
        "    time = time.split(\".\")[0]\n",
        "    hour, min, sec = time.split(\":\")\n",
        "    date = datetime.datetime(int(year), int(month), int(day), int(hour), int(min))\n",
        "    dates.append(date)\n",
        "    for category in element[\"categories\"]:\n",
        "      if len(categories_id) == 0:\n",
        "        categories_id.append(category[\"category\"][\"id\"])\n",
        "        categories.append(category[\"category\"][\"name\"])\n",
        "        M = np.zeros((I, 1))\n",
        "        M[0, 0] = category[\"percentage\"]\n",
        "      else:\n",
        "        if category[\"category\"][\"id\"] in categories_id:\n",
        "          j = categories_id.index(category[\"category\"][\"id\"])\n",
        "          M[i, j] = category[\"percentage\"]\n",
        "        else:\n",
        "          categories_id.append(category[\"category\"][\"id\"])\n",
        "          categories.append(category[\"category\"][\"name\"])\n",
        "          j = len(categories_id)-1\n",
        "          column = np.zeros((I, 1))\n",
        "          M = np.concatenate([M, column], axis=1)\n",
        "          M[i, j] = category[\"percentage\"]\n",
        "    i += 1\n",
        "  return M, dates, categories_id, categories"
      ],
      "metadata": {
        "id": "500z9obj5ISR"
      },
      "execution_count": null,
      "outputs": []
    },
    {
      "cell_type": "code",
      "source": [
        "from google.colab import drive\n",
        "drive.mount('/content/drive')\n",
        "\n",
        "DATA_PATH = '/content/drive/My Drive/Naveler/03.TECH/data_discovery/datasets/data.json'\n",
        "M, dates, categories_id, categories = json_to_matrix(DATA_PATH)"
      ],
      "metadata": {
        "id": "EST18Iz85NQY",
        "colab": {
          "base_uri": "https://localhost:8080/"
        },
        "outputId": "2f8c8664-9731-418c-b254-c74d4ff4fdf2"
      },
      "execution_count": null,
      "outputs": [
        {
          "output_type": "stream",
          "name": "stdout",
          "text": [
            "Drive already mounted at /content/drive; to attempt to forcibly remount, call drive.mount(\"/content/drive\", force_remount=True).\n"
          ]
        }
      ]
    },
    {
      "cell_type": "code",
      "source": [
        "df = pd.DataFrame(M, index=dates, columns=categories)\n",
        "df.head()"
      ],
      "metadata": {
        "id": "qbzzJH0y5bUR",
        "colab": {
          "base_uri": "https://localhost:8080/",
          "height": 372
        },
        "outputId": "0e2d8d3b-86a3-4815-c62f-f4e0fd9e33c2"
      },
      "execution_count": null,
      "outputs": [
        {
          "output_type": "execute_result",
          "data": {
            "text/plain": [
              "            SECTOR Energía  Sector eléctrico  Consumo eléctrico  \\\n",
              "2022-01-03           100.0             71.43              42.86   \n",
              "2022-01-04           100.0              0.00               0.00   \n",
              "2022-01-09           100.0             40.00              40.00   \n",
              "2022-01-10           100.0              0.00               0.00   \n",
              "2022-01-11           100.0              0.00               0.00   \n",
              "\n",
              "            Impacto energético  Vulnerabilidad energética  Cambio climático  \\\n",
              "2022-01-03               28.57                      28.57             28.57   \n",
              "2022-01-04               91.67                       0.00             33.33   \n",
              "2022-01-09                0.00                       0.00              0.00   \n",
              "2022-01-10              100.00                       0.00             35.29   \n",
              "2022-01-11               92.86                       0.00             21.43   \n",
              "\n",
              "            Calidad aire  Innovación  Movilidad sostenible  Gestión del agua  \\\n",
              "2022-01-03          0.00        0.00                  0.00              0.00   \n",
              "2022-01-04         33.33       25.00                 25.00             25.00   \n",
              "2022-01-09          0.00       60.00                 60.00              0.00   \n",
              "2022-01-10         17.65        0.00                  0.00             47.06   \n",
              "2022-01-11          0.00        7.14                  7.14             71.43   \n",
              "\n",
              "            Redes eléctricas  Tarifas  / mediciones eléctricas  \\\n",
              "2022-01-03               0.0                               0.0   \n",
              "2022-01-04               0.0                               0.0   \n",
              "2022-01-09              20.0                               0.0   \n",
              "2022-01-10               0.0                               0.0   \n",
              "2022-01-11               0.0                               0.0   \n",
              "\n",
              "            Eficiencia energética  Smart Grids  GNL maritimo  \n",
              "2022-01-03                    0.0          0.0           0.0  \n",
              "2022-01-04                    0.0          0.0           0.0  \n",
              "2022-01-09                    0.0          0.0           0.0  \n",
              "2022-01-10                    0.0          0.0           0.0  \n",
              "2022-01-11                    0.0          0.0           0.0  "
            ],
            "text/html": [
              "\n",
              "  <div id=\"df-7df0ce2f-e493-4178-91a1-8f24955b5ae1\">\n",
              "    <div class=\"colab-df-container\">\n",
              "      <div>\n",
              "<style scoped>\n",
              "    .dataframe tbody tr th:only-of-type {\n",
              "        vertical-align: middle;\n",
              "    }\n",
              "\n",
              "    .dataframe tbody tr th {\n",
              "        vertical-align: top;\n",
              "    }\n",
              "\n",
              "    .dataframe thead th {\n",
              "        text-align: right;\n",
              "    }\n",
              "</style>\n",
              "<table border=\"1\" class=\"dataframe\">\n",
              "  <thead>\n",
              "    <tr style=\"text-align: right;\">\n",
              "      <th></th>\n",
              "      <th>SECTOR Energía</th>\n",
              "      <th>Sector eléctrico</th>\n",
              "      <th>Consumo eléctrico</th>\n",
              "      <th>Impacto energético</th>\n",
              "      <th>Vulnerabilidad energética</th>\n",
              "      <th>Cambio climático</th>\n",
              "      <th>Calidad aire</th>\n",
              "      <th>Innovación</th>\n",
              "      <th>Movilidad sostenible</th>\n",
              "      <th>Gestión del agua</th>\n",
              "      <th>Redes eléctricas</th>\n",
              "      <th>Tarifas  / mediciones eléctricas</th>\n",
              "      <th>Eficiencia energética</th>\n",
              "      <th>Smart Grids</th>\n",
              "      <th>GNL maritimo</th>\n",
              "    </tr>\n",
              "  </thead>\n",
              "  <tbody>\n",
              "    <tr>\n",
              "      <th>2022-01-03</th>\n",
              "      <td>100.0</td>\n",
              "      <td>71.43</td>\n",
              "      <td>42.86</td>\n",
              "      <td>28.57</td>\n",
              "      <td>28.57</td>\n",
              "      <td>28.57</td>\n",
              "      <td>0.00</td>\n",
              "      <td>0.00</td>\n",
              "      <td>0.00</td>\n",
              "      <td>0.00</td>\n",
              "      <td>0.0</td>\n",
              "      <td>0.0</td>\n",
              "      <td>0.0</td>\n",
              "      <td>0.0</td>\n",
              "      <td>0.0</td>\n",
              "    </tr>\n",
              "    <tr>\n",
              "      <th>2022-01-04</th>\n",
              "      <td>100.0</td>\n",
              "      <td>0.00</td>\n",
              "      <td>0.00</td>\n",
              "      <td>91.67</td>\n",
              "      <td>0.00</td>\n",
              "      <td>33.33</td>\n",
              "      <td>33.33</td>\n",
              "      <td>25.00</td>\n",
              "      <td>25.00</td>\n",
              "      <td>25.00</td>\n",
              "      <td>0.0</td>\n",
              "      <td>0.0</td>\n",
              "      <td>0.0</td>\n",
              "      <td>0.0</td>\n",
              "      <td>0.0</td>\n",
              "    </tr>\n",
              "    <tr>\n",
              "      <th>2022-01-09</th>\n",
              "      <td>100.0</td>\n",
              "      <td>40.00</td>\n",
              "      <td>40.00</td>\n",
              "      <td>0.00</td>\n",
              "      <td>0.00</td>\n",
              "      <td>0.00</td>\n",
              "      <td>0.00</td>\n",
              "      <td>60.00</td>\n",
              "      <td>60.00</td>\n",
              "      <td>0.00</td>\n",
              "      <td>20.0</td>\n",
              "      <td>0.0</td>\n",
              "      <td>0.0</td>\n",
              "      <td>0.0</td>\n",
              "      <td>0.0</td>\n",
              "    </tr>\n",
              "    <tr>\n",
              "      <th>2022-01-10</th>\n",
              "      <td>100.0</td>\n",
              "      <td>0.00</td>\n",
              "      <td>0.00</td>\n",
              "      <td>100.00</td>\n",
              "      <td>0.00</td>\n",
              "      <td>35.29</td>\n",
              "      <td>17.65</td>\n",
              "      <td>0.00</td>\n",
              "      <td>0.00</td>\n",
              "      <td>47.06</td>\n",
              "      <td>0.0</td>\n",
              "      <td>0.0</td>\n",
              "      <td>0.0</td>\n",
              "      <td>0.0</td>\n",
              "      <td>0.0</td>\n",
              "    </tr>\n",
              "    <tr>\n",
              "      <th>2022-01-11</th>\n",
              "      <td>100.0</td>\n",
              "      <td>0.00</td>\n",
              "      <td>0.00</td>\n",
              "      <td>92.86</td>\n",
              "      <td>0.00</td>\n",
              "      <td>21.43</td>\n",
              "      <td>0.00</td>\n",
              "      <td>7.14</td>\n",
              "      <td>7.14</td>\n",
              "      <td>71.43</td>\n",
              "      <td>0.0</td>\n",
              "      <td>0.0</td>\n",
              "      <td>0.0</td>\n",
              "      <td>0.0</td>\n",
              "      <td>0.0</td>\n",
              "    </tr>\n",
              "  </tbody>\n",
              "</table>\n",
              "</div>\n",
              "      <button class=\"colab-df-convert\" onclick=\"convertToInteractive('df-7df0ce2f-e493-4178-91a1-8f24955b5ae1')\"\n",
              "              title=\"Convert this dataframe to an interactive table.\"\n",
              "              style=\"display:none;\">\n",
              "        \n",
              "  <svg xmlns=\"http://www.w3.org/2000/svg\" height=\"24px\"viewBox=\"0 0 24 24\"\n",
              "       width=\"24px\">\n",
              "    <path d=\"M0 0h24v24H0V0z\" fill=\"none\"/>\n",
              "    <path d=\"M18.56 5.44l.94 2.06.94-2.06 2.06-.94-2.06-.94-.94-2.06-.94 2.06-2.06.94zm-11 1L8.5 8.5l.94-2.06 2.06-.94-2.06-.94L8.5 2.5l-.94 2.06-2.06.94zm10 10l.94 2.06.94-2.06 2.06-.94-2.06-.94-.94-2.06-.94 2.06-2.06.94z\"/><path d=\"M17.41 7.96l-1.37-1.37c-.4-.4-.92-.59-1.43-.59-.52 0-1.04.2-1.43.59L10.3 9.45l-7.72 7.72c-.78.78-.78 2.05 0 2.83L4 21.41c.39.39.9.59 1.41.59.51 0 1.02-.2 1.41-.59l7.78-7.78 2.81-2.81c.8-.78.8-2.07 0-2.86zM5.41 20L4 18.59l7.72-7.72 1.47 1.35L5.41 20z\"/>\n",
              "  </svg>\n",
              "      </button>\n",
              "      \n",
              "  <style>\n",
              "    .colab-df-container {\n",
              "      display:flex;\n",
              "      flex-wrap:wrap;\n",
              "      gap: 12px;\n",
              "    }\n",
              "\n",
              "    .colab-df-convert {\n",
              "      background-color: #E8F0FE;\n",
              "      border: none;\n",
              "      border-radius: 50%;\n",
              "      cursor: pointer;\n",
              "      display: none;\n",
              "      fill: #1967D2;\n",
              "      height: 32px;\n",
              "      padding: 0 0 0 0;\n",
              "      width: 32px;\n",
              "    }\n",
              "\n",
              "    .colab-df-convert:hover {\n",
              "      background-color: #E2EBFA;\n",
              "      box-shadow: 0px 1px 2px rgba(60, 64, 67, 0.3), 0px 1px 3px 1px rgba(60, 64, 67, 0.15);\n",
              "      fill: #174EA6;\n",
              "    }\n",
              "\n",
              "    [theme=dark] .colab-df-convert {\n",
              "      background-color: #3B4455;\n",
              "      fill: #D2E3FC;\n",
              "    }\n",
              "\n",
              "    [theme=dark] .colab-df-convert:hover {\n",
              "      background-color: #434B5C;\n",
              "      box-shadow: 0px 1px 3px 1px rgba(0, 0, 0, 0.15);\n",
              "      filter: drop-shadow(0px 1px 2px rgba(0, 0, 0, 0.3));\n",
              "      fill: #FFFFFF;\n",
              "    }\n",
              "  </style>\n",
              "\n",
              "      <script>\n",
              "        const buttonEl =\n",
              "          document.querySelector('#df-7df0ce2f-e493-4178-91a1-8f24955b5ae1 button.colab-df-convert');\n",
              "        buttonEl.style.display =\n",
              "          google.colab.kernel.accessAllowed ? 'block' : 'none';\n",
              "\n",
              "        async function convertToInteractive(key) {\n",
              "          const element = document.querySelector('#df-7df0ce2f-e493-4178-91a1-8f24955b5ae1');\n",
              "          const dataTable =\n",
              "            await google.colab.kernel.invokeFunction('convertToInteractive',\n",
              "                                                     [key], {});\n",
              "          if (!dataTable) return;\n",
              "\n",
              "          const docLinkHtml = 'Like what you see? Visit the ' +\n",
              "            '<a target=\"_blank\" href=https://colab.research.google.com/notebooks/data_table.ipynb>data table notebook</a>'\n",
              "            + ' to learn more about interactive tables.';\n",
              "          element.innerHTML = '';\n",
              "          dataTable['output_type'] = 'display_data';\n",
              "          await google.colab.output.renderOutput(dataTable, element);\n",
              "          const docLink = document.createElement('div');\n",
              "          docLink.innerHTML = docLinkHtml;\n",
              "          element.appendChild(docLink);\n",
              "        }\n",
              "      </script>\n",
              "    </div>\n",
              "  </div>\n",
              "  "
            ]
          },
          "metadata": {},
          "execution_count": 4
        }
      ]
    },
    {
      "cell_type": "code",
      "source": [
        "category = 'Cambio climático'\n",
        "single_category_df = df[category]"
      ],
      "metadata": {
        "id": "SoIc8CuV-4dS"
      },
      "execution_count": null,
      "outputs": []
    },
    {
      "cell_type": "code",
      "source": [
        "i_split = dates.index(datetime.datetime(2022, 7, 1))\n",
        "\n",
        "train_dates = dates[:i_split]\n",
        "train_data = np.array(single_category_df.iloc[:i_split]).reshape(-1, 1)\n",
        "\n",
        "test_dates = dates[i_split:]\n",
        "test_data = np.array(single_category_df.iloc[i_split:]).reshape(-1, 1)"
      ],
      "metadata": {
        "id": "B0JkR8Iq7OEI"
      },
      "execution_count": null,
      "outputs": []
    },
    {
      "cell_type": "code",
      "source": [
        "from sklearn.preprocessing import MinMaxScaler\n",
        "scaler = MinMaxScaler()"
      ],
      "metadata": {
        "id": "KPcG73epH0EM"
      },
      "execution_count": null,
      "outputs": []
    },
    {
      "cell_type": "code",
      "source": [
        "scaler.fit(train_data)\n",
        "scaled_train = scaler.transform(train_data)\n",
        "scaled_test = scaler.transform(test_data)"
      ],
      "metadata": {
        "id": "nOrNUnseH0h_"
      },
      "execution_count": null,
      "outputs": []
    },
    {
      "cell_type": "code",
      "source": [
        "from keras.preprocessing.sequence import TimeseriesGenerator"
      ],
      "metadata": {
        "id": "B76G75Ut8Gf0"
      },
      "execution_count": null,
      "outputs": []
    },
    {
      "cell_type": "code",
      "source": [
        "# define generator\n",
        "n_input = 5\n",
        "n_features = 1\n",
        "generator = TimeseriesGenerator(scaled_train, scaled_train, length=n_input, batch_size=1)"
      ],
      "metadata": {
        "id": "WdZO4rNA-I_G"
      },
      "execution_count": null,
      "outputs": []
    },
    {
      "cell_type": "code",
      "source": [
        "X, y = generator[0]\n",
        "print(f'Given the Array: \\n{X.flatten()}')\n",
        "print(f'Predict this y: \\n{y}')"
      ],
      "metadata": {
        "id": "jAy9lWN5-PV-",
        "colab": {
          "base_uri": "https://localhost:8080/"
        },
        "outputId": "d2eeccc3-eee4-4ce4-e9ba-656b6a32fc73"
      },
      "execution_count": null,
      "outputs": [
        {
          "output_type": "stream",
          "name": "stdout",
          "text": [
            "Given the Array: \n",
            "[0.2857 0.3333 0.     0.3529 0.2143]\n",
            "Predict this y: \n",
            "[[0.3333]]\n"
          ]
        }
      ]
    },
    {
      "cell_type": "code",
      "source": [
        "from keras.models import Sequential\n",
        "from keras.layers import Dense\n",
        "from keras.layers import LSTM"
      ],
      "metadata": {
        "id": "rM9_KgIWAZhv"
      },
      "execution_count": null,
      "outputs": []
    },
    {
      "cell_type": "code",
      "source": [
        "# define model\n",
        "model = Sequential()\n",
        "model.add(LSTM(100, activation='relu', input_shape=(n_input, n_features)))\n",
        "model.add(Dense(1))\n",
        "model.compile(optimizer='adam', loss='mse')"
      ],
      "metadata": {
        "id": "LkaofYIgAb5d"
      },
      "execution_count": null,
      "outputs": []
    },
    {
      "cell_type": "code",
      "source": [
        "model.summary()"
      ],
      "metadata": {
        "id": "RBCPDnz4BxRU",
        "colab": {
          "base_uri": "https://localhost:8080/"
        },
        "outputId": "98596349-3ae6-4d29-f11e-256ee7719c57"
      },
      "execution_count": null,
      "outputs": [
        {
          "output_type": "stream",
          "name": "stdout",
          "text": [
            "Model: \"sequential\"\n",
            "_________________________________________________________________\n",
            " Layer (type)                Output Shape              Param #   \n",
            "=================================================================\n",
            " lstm (LSTM)                 (None, 100)               40800     \n",
            "                                                                 \n",
            " dense (Dense)               (None, 1)                 101       \n",
            "                                                                 \n",
            "=================================================================\n",
            "Total params: 40,901\n",
            "Trainable params: 40,901\n",
            "Non-trainable params: 0\n",
            "_________________________________________________________________\n"
          ]
        }
      ]
    },
    {
      "cell_type": "code",
      "source": [
        "# fit model\n",
        "model.fit(generator, epochs=100)"
      ],
      "metadata": {
        "id": "jWwlbyK6CZUS",
        "colab": {
          "base_uri": "https://localhost:8080/"
        },
        "outputId": "bf07422e-a2de-460e-fc60-20729fb9d09c"
      },
      "execution_count": null,
      "outputs": [
        {
          "output_type": "stream",
          "name": "stdout",
          "text": [
            "Epoch 1/100\n",
            "150/150 [==============================] - 3s 6ms/step - loss: 0.0280\n",
            "Epoch 2/100\n",
            "150/150 [==============================] - 1s 6ms/step - loss: 0.0245\n",
            "Epoch 3/100\n",
            "150/150 [==============================] - 1s 5ms/step - loss: 0.0253\n",
            "Epoch 4/100\n",
            "150/150 [==============================] - 1s 5ms/step - loss: 0.0245\n",
            "Epoch 5/100\n",
            "150/150 [==============================] - 1s 5ms/step - loss: 0.0244\n",
            "Epoch 6/100\n",
            "150/150 [==============================] - 1s 5ms/step - loss: 0.0244\n",
            "Epoch 7/100\n",
            "150/150 [==============================] - 1s 5ms/step - loss: 0.0234\n",
            "Epoch 8/100\n",
            "150/150 [==============================] - 1s 6ms/step - loss: 0.0238\n",
            "Epoch 9/100\n",
            "150/150 [==============================] - 1s 5ms/step - loss: 0.0246\n",
            "Epoch 10/100\n",
            "150/150 [==============================] - 1s 5ms/step - loss: 0.0238\n",
            "Epoch 11/100\n",
            "150/150 [==============================] - 1s 5ms/step - loss: 0.0244\n",
            "Epoch 12/100\n",
            "150/150 [==============================] - 0s 3ms/step - loss: 0.0243\n",
            "Epoch 13/100\n",
            "150/150 [==============================] - 0s 3ms/step - loss: 0.0243\n",
            "Epoch 14/100\n",
            "150/150 [==============================] - 0s 3ms/step - loss: 0.0239\n",
            "Epoch 15/100\n",
            "150/150 [==============================] - 0s 3ms/step - loss: 0.0236\n",
            "Epoch 16/100\n",
            "150/150 [==============================] - 0s 3ms/step - loss: 0.0246\n",
            "Epoch 17/100\n",
            "150/150 [==============================] - 0s 3ms/step - loss: 0.0236\n",
            "Epoch 18/100\n",
            "150/150 [==============================] - 0s 3ms/step - loss: 0.0237\n",
            "Epoch 19/100\n",
            "150/150 [==============================] - 1s 4ms/step - loss: 0.0241\n",
            "Epoch 20/100\n",
            "150/150 [==============================] - 0s 3ms/step - loss: 0.0235\n",
            "Epoch 21/100\n",
            "150/150 [==============================] - 0s 3ms/step - loss: 0.0236\n",
            "Epoch 22/100\n",
            "150/150 [==============================] - 0s 3ms/step - loss: 0.0238\n",
            "Epoch 23/100\n",
            "150/150 [==============================] - 0s 3ms/step - loss: 0.0236\n",
            "Epoch 24/100\n",
            "150/150 [==============================] - 0s 3ms/step - loss: 0.0239\n",
            "Epoch 25/100\n",
            "150/150 [==============================] - 0s 3ms/step - loss: 0.0234\n",
            "Epoch 26/100\n",
            "150/150 [==============================] - 0s 3ms/step - loss: 0.0237\n",
            "Epoch 27/100\n",
            "150/150 [==============================] - 0s 3ms/step - loss: 0.0233\n",
            "Epoch 28/100\n",
            "150/150 [==============================] - 0s 3ms/step - loss: 0.0239\n",
            "Epoch 29/100\n",
            "150/150 [==============================] - 0s 3ms/step - loss: 0.0234\n",
            "Epoch 30/100\n",
            "150/150 [==============================] - 0s 3ms/step - loss: 0.0230\n",
            "Epoch 31/100\n",
            "150/150 [==============================] - 0s 3ms/step - loss: 0.0232\n",
            "Epoch 32/100\n",
            "150/150 [==============================] - 0s 3ms/step - loss: 0.0234\n",
            "Epoch 33/100\n",
            "150/150 [==============================] - 0s 3ms/step - loss: 0.0232\n",
            "Epoch 34/100\n",
            "150/150 [==============================] - 0s 3ms/step - loss: 0.0237\n",
            "Epoch 35/100\n",
            "150/150 [==============================] - 0s 3ms/step - loss: 0.0231\n",
            "Epoch 36/100\n",
            "150/150 [==============================] - 0s 3ms/step - loss: 0.0231\n",
            "Epoch 37/100\n",
            "150/150 [==============================] - 0s 3ms/step - loss: 0.0228\n",
            "Epoch 38/100\n",
            "150/150 [==============================] - 0s 3ms/step - loss: 0.0227\n",
            "Epoch 39/100\n",
            "150/150 [==============================] - 0s 3ms/step - loss: 0.0232\n",
            "Epoch 40/100\n",
            "150/150 [==============================] - 0s 3ms/step - loss: 0.0229\n",
            "Epoch 41/100\n",
            "150/150 [==============================] - 0s 3ms/step - loss: 0.0224\n",
            "Epoch 42/100\n",
            "150/150 [==============================] - 0s 3ms/step - loss: 0.0224\n",
            "Epoch 43/100\n",
            "150/150 [==============================] - 0s 3ms/step - loss: 0.0230\n",
            "Epoch 44/100\n",
            "150/150 [==============================] - 0s 3ms/step - loss: 0.0228\n",
            "Epoch 45/100\n",
            "150/150 [==============================] - 0s 3ms/step - loss: 0.0227\n",
            "Epoch 46/100\n",
            "150/150 [==============================] - 0s 3ms/step - loss: 0.0231\n",
            "Epoch 47/100\n",
            "150/150 [==============================] - 0s 3ms/step - loss: 0.0227\n",
            "Epoch 48/100\n",
            "150/150 [==============================] - 0s 3ms/step - loss: 0.0218\n",
            "Epoch 49/100\n",
            "150/150 [==============================] - 0s 3ms/step - loss: 0.0232\n",
            "Epoch 50/100\n",
            "150/150 [==============================] - 1s 4ms/step - loss: 0.0222\n",
            "Epoch 51/100\n",
            "150/150 [==============================] - 0s 3ms/step - loss: 0.0222\n",
            "Epoch 52/100\n",
            "150/150 [==============================] - 0s 3ms/step - loss: 0.0226\n",
            "Epoch 53/100\n",
            "150/150 [==============================] - 0s 3ms/step - loss: 0.0227\n",
            "Epoch 54/100\n",
            "150/150 [==============================] - 0s 3ms/step - loss: 0.0222\n",
            "Epoch 55/100\n",
            "150/150 [==============================] - 0s 3ms/step - loss: 0.0217\n",
            "Epoch 56/100\n",
            "150/150 [==============================] - 0s 3ms/step - loss: 0.0222\n",
            "Epoch 57/100\n",
            "150/150 [==============================] - 0s 3ms/step - loss: 0.0226\n",
            "Epoch 58/100\n",
            "150/150 [==============================] - 0s 3ms/step - loss: 0.0223\n",
            "Epoch 59/100\n",
            "150/150 [==============================] - 0s 3ms/step - loss: 0.0223\n",
            "Epoch 60/100\n",
            "150/150 [==============================] - 1s 4ms/step - loss: 0.0227\n",
            "Epoch 61/100\n",
            "150/150 [==============================] - 0s 3ms/step - loss: 0.0223\n",
            "Epoch 62/100\n",
            "150/150 [==============================] - 0s 3ms/step - loss: 0.0223\n",
            "Epoch 63/100\n",
            "150/150 [==============================] - 1s 3ms/step - loss: 0.0223\n",
            "Epoch 64/100\n",
            "150/150 [==============================] - 1s 4ms/step - loss: 0.0222\n",
            "Epoch 65/100\n",
            "150/150 [==============================] - 0s 3ms/step - loss: 0.0222\n",
            "Epoch 66/100\n",
            "150/150 [==============================] - 1s 3ms/step - loss: 0.0216\n",
            "Epoch 67/100\n",
            "150/150 [==============================] - 1s 3ms/step - loss: 0.0222\n",
            "Epoch 68/100\n",
            "150/150 [==============================] - 0s 3ms/step - loss: 0.0220\n",
            "Epoch 69/100\n",
            "150/150 [==============================] - 0s 3ms/step - loss: 0.0216\n",
            "Epoch 70/100\n",
            "150/150 [==============================] - 0s 3ms/step - loss: 0.0216\n",
            "Epoch 71/100\n",
            "150/150 [==============================] - 0s 3ms/step - loss: 0.0216\n",
            "Epoch 72/100\n",
            "150/150 [==============================] - 0s 3ms/step - loss: 0.0224\n",
            "Epoch 73/100\n",
            "150/150 [==============================] - 1s 3ms/step - loss: 0.0222\n",
            "Epoch 74/100\n",
            "150/150 [==============================] - 1s 3ms/step - loss: 0.0213\n",
            "Epoch 75/100\n",
            "150/150 [==============================] - 0s 3ms/step - loss: 0.0217\n",
            "Epoch 76/100\n",
            "150/150 [==============================] - 0s 3ms/step - loss: 0.0221\n",
            "Epoch 77/100\n",
            "150/150 [==============================] - 0s 3ms/step - loss: 0.0221\n",
            "Epoch 78/100\n",
            "150/150 [==============================] - 0s 3ms/step - loss: 0.0221\n",
            "Epoch 79/100\n",
            "150/150 [==============================] - 0s 3ms/step - loss: 0.0217\n",
            "Epoch 80/100\n",
            "150/150 [==============================] - 0s 3ms/step - loss: 0.0214\n",
            "Epoch 81/100\n",
            "150/150 [==============================] - 1s 3ms/step - loss: 0.0211\n",
            "Epoch 82/100\n",
            "150/150 [==============================] - 1s 3ms/step - loss: 0.0220\n",
            "Epoch 83/100\n",
            "150/150 [==============================] - 0s 3ms/step - loss: 0.0213\n",
            "Epoch 84/100\n",
            "150/150 [==============================] - 0s 3ms/step - loss: 0.0210\n",
            "Epoch 85/100\n",
            "150/150 [==============================] - 0s 3ms/step - loss: 0.0218\n",
            "Epoch 86/100\n",
            "150/150 [==============================] - 0s 3ms/step - loss: 0.0218\n",
            "Epoch 87/100\n",
            "150/150 [==============================] - 0s 3ms/step - loss: 0.0212\n",
            "Epoch 88/100\n",
            "150/150 [==============================] - 0s 3ms/step - loss: 0.0214\n",
            "Epoch 89/100\n",
            "150/150 [==============================] - 0s 3ms/step - loss: 0.0208\n",
            "Epoch 90/100\n",
            "150/150 [==============================] - 0s 3ms/step - loss: 0.0204\n",
            "Epoch 91/100\n",
            "150/150 [==============================] - 0s 3ms/step - loss: 0.0217\n",
            "Epoch 92/100\n",
            "150/150 [==============================] - 0s 3ms/step - loss: 0.0215\n",
            "Epoch 93/100\n",
            "150/150 [==============================] - 0s 3ms/step - loss: 0.0220\n",
            "Epoch 94/100\n",
            "150/150 [==============================] - 0s 3ms/step - loss: 0.0208\n",
            "Epoch 95/100\n",
            "150/150 [==============================] - 0s 3ms/step - loss: 0.0217\n",
            "Epoch 96/100\n",
            "150/150 [==============================] - 1s 3ms/step - loss: 0.0212\n",
            "Epoch 97/100\n",
            "150/150 [==============================] - 0s 3ms/step - loss: 0.0210\n",
            "Epoch 98/100\n",
            "150/150 [==============================] - 0s 3ms/step - loss: 0.0207\n",
            "Epoch 99/100\n",
            "150/150 [==============================] - 0s 3ms/step - loss: 0.0210\n",
            "Epoch 100/100\n",
            "150/150 [==============================] - 1s 3ms/step - loss: 0.0207\n"
          ]
        },
        {
          "output_type": "execute_result",
          "data": {
            "text/plain": [
              "<keras.callbacks.History at 0x7fd17b0f2810>"
            ]
          },
          "metadata": {},
          "execution_count": 15
        }
      ]
    },
    {
      "cell_type": "code",
      "source": [
        "loss_per_epoch = model.history.history['loss']\n",
        "plt.plot(range(len(loss_per_epoch)),loss_per_epoch)\n",
        "plt.xlabel('epoch')\n",
        "plt.ylabel('loss')\n",
        "plt.show()"
      ],
      "metadata": {
        "id": "3O8NM9GkCtAG",
        "colab": {
          "base_uri": "https://localhost:8080/",
          "height": 279
        },
        "outputId": "89a794a1-d631-4883-b4b2-cd1e0c8fcc4d"
      },
      "execution_count": null,
      "outputs": [
        {
          "output_type": "display_data",
          "data": {
            "text/plain": [
              "<Figure size 432x288 with 1 Axes>"
            ],
            "image/png": "[encoded data removed]"
          },
          "metadata": {
            "needs_background": "light"
          }
        }
      ]
    },
    {
      "cell_type": "code",
      "source": [
        "test_predictions = []\n",
        "\n",
        "first_eval_batch = scaled_train[-n_input:]\n",
        "current_batch = first_eval_batch.reshape((1, n_input, n_features))\n",
        "\n",
        "for i in range(len(test_data)):\n",
        "    \n",
        "    # get the prediction value for the first batch\n",
        "    current_pred = model.predict(current_batch)[0]\n",
        "    \n",
        "    # append the prediction into the array\n",
        "    test_predictions.append(current_pred) \n",
        "    \n",
        "    # use the prediction to update the batch and remove the first value\n",
        "    current_batch = np.append(current_batch[:,1:,:],[[current_pred]],axis=1)"
      ],
      "metadata": {
        "id": "KafKC7KyHbJ1"
      },
      "execution_count": null,
      "outputs": []
    },
    {
      "cell_type": "code",
      "source": [
        "test_predictions = scaler.inverse_transform(test_predictions)\n",
        "fig, ax = plt.subplots()\n",
        "fig.set_size_inches(10, 6)\n",
        "ax.plot(test_dates, test_data)\n",
        "ax.plot(test_dates, test_predictions)\n",
        "ax.set_title(f'Predictions for {category}', fontsize=16)\n",
        "ax.set_xlabel('date')\n",
        "ax.set_ylabel('percentage (%)')\n",
        "fig.autofmt_xdate()\n",
        "plt.grid()\n",
        "plt.legend(['test data', 'test predictions'])\n",
        "plt.show()"
      ],
      "metadata": {
        "id": "eOM4YdNVMGBX",
        "colab": {
          "base_uri": "https://localhost:8080/",
          "height": 401
        },
        "outputId": "4dea3db7-ffbc-4bfb-dff2-d0e4201b16d6"
      },
      "execution_count": null,
      "outputs": [
        {
          "output_type": "display_data",
          "data": {
            "text/plain": [
              "<Figure size 720x432 with 1 Axes>"
            ],
            "image/png": "[encoded data removed]"
          },
          "metadata": {
            "needs_background": "light"
          }
        }
      ]
    },
    {
      "cell_type": "code",
      "source": [
        "from sklearn.metrics import mean_squared_error\n",
        "from math import sqrt\n",
        "rmse=sqrt(mean_squared_error(test_data, test_predictions))\n",
        "print(f'RMSE: {round(rmse, 2)}')"
      ],
      "metadata": {
        "id": "o_A9E4vvfbAd",
        "colab": {
          "base_uri": "https://localhost:8080/"
        },
        "outputId": "8bce48be-0d1a-4b47-ea46-320ed97e154b"
      },
      "execution_count": null,
      "outputs": [
        {
          "output_type": "stream",
          "name": "stdout",
          "text": [
            "RMSE: 23.64\n"
          ]
        }
      ]
    }
  ]
}