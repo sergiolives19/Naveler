{
  "nbformat": 4,
  "nbformat_minor": 0,
  "metadata": {
    "colab": {
      "name": "similar_airports.ipynb",
      "provenance": [],
      "collapsed_sections": [],
      "authorship_tag": "ABX9TyMF1pr1wctbIwjfTVhJVkTk"
    },
    "kernelspec": {
      "name": "python3",
      "display_name": "Python 3"
    },
    "language_info": {
      "name": "python"
    }
  },
  "cells": [
    {
      "cell_type": "code",
      "source": [
        "import json\n",
        "import numpy as np\n",
        "import pandas as pd\n",
        "import matplotlib.pyplot as plt\n",
        "from sklearn.preprocessing import MinMaxScaler\n",
        "from sklearn.decomposition import PCA\n",
        "from sklearn.neighbors import NearestNeighbors as nn"
      ],
      "metadata": {
        "id": "a-aoDiEWxBMc"
      },
      "execution_count": 1,
      "outputs": []
    },
    {
      "cell_type": "code",
      "execution_count": 2,
      "metadata": {
        "id": "wiMtJOAbw4B4"
      },
      "outputs": [],
      "source": [
        "def build_matrix(file_name):\n",
        "\n",
        "    with open(file_name) as f:\n",
        "        data = json.load(f)\n",
        "\n",
        "    airports = list(data.keys())\n",
        "    J = len(airports) # number of airports\n",
        "    countries = []\n",
        "\n",
        "    j = 0 # initialize aiport index\n",
        "\n",
        "    for airport in airports:\n",
        "        countries_ = list(data[airport].keys()) # list of countries for the jth airport\n",
        "        for country_ in countries_:\n",
        "            if len(countries) == 0:\n",
        "                countries.append(country_)\n",
        "                M = np.zeros((1, J)) # matrix initialization\n",
        "                M[0,0] = data[airport][country_]\n",
        "            else:\n",
        "                if country_ in countries:\n",
        "                    i = countries.index(country_)\n",
        "                    M[i, j] = data[airport][country_]\n",
        "                else:\n",
        "                    countries.append(country_)\n",
        "                    i = len(countries)-1 # last country added\n",
        "                    row = np.zeros(J)\n",
        "                    M = np.concatenate([M, [row]]) # add 1 row to the matrix\n",
        "                    M[i, j] = data[airport][country_]\n",
        "        j += 1\n",
        "\n",
        "    return M, airports, countries"
      ]
    },
    {
      "cell_type": "code",
      "source": [
        "def plot_2_airports(airport1, airport2):\n",
        "    j1 = airports.index(airport1)\n",
        "    j2 = airports.index(airport2)\n",
        "\n",
        "    non_zero_countries = []\n",
        "    volumes1 = []\n",
        "    volumes2 = []\n",
        "    for i in range(len(countries)):\n",
        "        if M[i, j1] != 0 or M[i, j2] != 0:\n",
        "            non_zero_countries.append(countries[i])\n",
        "            volumes1.append(M[i, j1])\n",
        "            volumes2.append(M[i, j2])\n",
        "\n",
        "    df = pd.DataFrame({airport1: volumes1, airport2: volumes2}, index=non_zero_countries)\n",
        "    ax =df.plot.bar(rot=0)\n",
        "    ax.set_xlabel('Country')\n",
        "    ax.set_ylabel('Volume')"
      ],
      "metadata": {
        "id": "sYGd3_rx_pK1"
      },
      "execution_count": 3,
      "outputs": []
    },
    {
      "cell_type": "code",
      "source": [
        "# Upload and convert data\n",
        "from google.colab import drive\n",
        "drive.mount('/content/drive')\n",
        "\n",
        "DATA_PATH = '/content/drive/My Drive/Naveler/Mabrian task/airport__origin__seats.json'\n",
        "\n",
        "M, airports, countries = build_matrix(DATA_PATH)"
      ],
      "metadata": {
        "colab": {
          "base_uri": "https://localhost:8080/"
        },
        "id": "xWablfzUxAWI",
        "outputId": "db04edcd-7cca-4593-ac03-d1975030e4f6"
      },
      "execution_count": 4,
      "outputs": [
        {
          "output_type": "stream",
          "name": "stdout",
          "text": [
            "Drive already mounted at /content/drive; to attempt to forcibly remount, call drive.mount(\"/content/drive\", force_remount=True).\n"
          ]
        }
      ]
    },
    {
      "cell_type": "markdown",
      "source": [
        "1st approach:\n",
        "- Create vector of binary variables that indicates the countries with volume != 0 for each airport\n",
        "- Calculate total volume for each airport\n",
        "- Given and airport, calculate % of coincidence of country vector and total volume with other airports"
      ],
      "metadata": {
        "id": "pGdboXFeEXOg"
      }
    },
    {
      "cell_type": "code",
      "source": [
        "# Inputs\n",
        "airport = 'MAH'\n",
        "p1 = 100 # minimum percentage of coincidence for country vector\n",
        "p2 = 95 # minimum percentage of coincidence for total volume\n",
        "\n",
        "p1 = p1/100\n",
        "p2 = p2/100\n",
        "\n",
        "# Build country vector and calculate volume for each airport\n",
        "I, J = M.shape\n",
        "\n",
        "nM = np.zeros((I, J))\n",
        "volumes = {}\n",
        "\n",
        "# M[i, j] = 1 if airport j is receiving volume from country i\n",
        "# M[i, j] = 0 otherwise\n",
        "\n",
        "for j in range(J):\n",
        "    volume_ = 0 # initalize volume of jth airport\n",
        "    for i in range(I):\n",
        "        if M[i, j] != 0:\n",
        "            volume_ += M[i, j]\n",
        "            nM[i, j] = 1\n",
        "    volumes[airports[j]] = volume_\n",
        "    volume_ = 0\n",
        "\n",
        "volume = volumes[airport]\n",
        "j = airports.index(airport)\n",
        "v = nM[:, j]\n",
        "\n",
        "# Calculate percentages of coincidence with other airports\n",
        "coincidence_dict = {}\n",
        "\n",
        "for j_ in range(J):\n",
        "    airport_ = airports[j_]\n",
        "    if j_ != j:\n",
        "      v_ = nM[:, j]\n",
        "      dif = v - v_\n",
        "      n_zeros = np.count_nonzero(dif==0) # number of equal elements\n",
        "      country_vector_coincidence = n_zeros/I\n",
        "      volume_coincidence = 1-abs(volumes[airport_]-volume)/volume\n",
        "      coincidence_dict[airport_] = country_vector_coincidence, volume_coincidence\n",
        "\n",
        "# Filter by percentage of coincidence\n",
        "for airport in coincidence_dict:\n",
        "    p1_, p2_ = coincidence_dict[airport]\n",
        "    if p1_>=p1 and p2_>=p2:\n",
        "        print(\"Airport: {}\\tCountries coincidence: {}%\\tVolume coincidence: {}%\".format(airport, round(p1_*100, 2), round(p2_*100, 2)))"
      ],
      "metadata": {
        "colab": {
          "base_uri": "https://localhost:8080/"
        },
        "id": "43Az8asd0d0f",
        "outputId": "25e44b8b-8944-41e6-aef0-55ecd1b936ef"
      },
      "execution_count": 5,
      "outputs": [
        {
          "output_type": "stream",
          "name": "stdout",
          "text": [
            "Airport: BRI\tCountries coincidence: 100.0%\tVolume coincidence: 98.71%\n",
            "Airport: CHQ\tCountries coincidence: 100.0%\tVolume coincidence: 97.89%\n",
            "Airport: HRG\tCountries coincidence: 100.0%\tVolume coincidence: 99.51%\n",
            "Airport: JTR\tCountries coincidence: 100.0%\tVolume coincidence: 96.71%\n"
          ]
        }
      ]
    },
    {
      "cell_type": "code",
      "source": [
        "plot_2_airports('MAH', 'HRG')"
      ],
      "metadata": {
        "colab": {
          "base_uri": "https://localhost:8080/",
          "height": 279
        },
        "id": "z5ekJ6Jd1JxP",
        "outputId": "fdb377e4-38d9-4cb3-84cf-68d8b7a9ea07"
      },
      "execution_count": 6,
      "outputs": [
        {
          "output_type": "display_data",
          "data": {
            "text/plain": [
              "<Figure size 432x288 with 1 Axes>"
            ],
            "image/png": "[encoded data removed]"
          },
          "metadata": {
            "needs_background": "light"
          }
        }
      ]
    },
    {
      "cell_type": "markdown",
      "source": [
        "2nd approach:\n",
        "- Samples: airports (119)\n",
        "- Features: countries (137)\n",
        "- Representation of all samples in space with a dimensionality reduction using PCA\n",
        "- Given an airport, return the k nearest airports in the reduced space using kNN"
      ],
      "metadata": {
        "id": "nJJY7capIDlB"
      }
    },
    {
      "cell_type": "code",
      "source": [
        "def rel_volume(airport1, airport2):\n",
        "    j1 = airports.index(airport1)\n",
        "    j2 = airports.index(airport2)\n",
        "    I = M.shape[0]\n",
        "    volume1 = 0\n",
        "    volume2 = 0\n",
        "    for i in range(I):\n",
        "        volume1 += M[i, j1]\n",
        "        volume2 += M[i, j2]\n",
        "    return volume1/volume2"
      ],
      "metadata": {
        "id": "RYfcx_Q-hyUH"
      },
      "execution_count": 7,
      "outputs": []
    },
    {
      "cell_type": "code",
      "source": [
        "# Inputs\n",
        "airport = 'MAH'\n",
        "k = 5 # number of nearest airports\n",
        "\n",
        "df = pd.DataFrame(M.transpose(), index=airports, columns=countries)\n",
        "\n",
        "# Data scaling\n",
        "X = df.loc[:, countries].values\n",
        "scaler = MinMaxScaler()\n",
        "X_rescaled = scaler.fit_transform(X)\n",
        "\n",
        "# Dimensionality reduction\n",
        "pca = PCA(n_components=0.95) # explain 95% of variance\n",
        "pca.fit(X_rescaled)\n",
        "#print(pca.n_components_) # 16 dimensions\n",
        "principal_components = pca.transform(X_rescaled)\n",
        "\n",
        "# kNN\n",
        "model = nn()\n",
        "model.fit(principal_components)\n",
        "\n",
        "index = airports.index(airport)\n",
        "point = principal_components[index, :].reshape(1, -1)\n",
        "\n",
        "distances, indices = model.kneighbors(point, k+1)\n",
        "\n",
        "for i in range(k+1):\n",
        "    ind = indices[0, i]\n",
        "    d = distances[0, i]\n",
        "    airport_ = airports[ind]\n",
        "    rel_vol = rel_volume(airport_, airport)\n",
        "    if airport_ != airport:\n",
        "        print(\"Airport: {}\\tDistance: {}\\tRelative volume: {}%\".format(airports[ind], round(d, 4), round(100*rel_vol, 2)))"
      ],
      "metadata": {
        "colab": {
          "base_uri": "https://localhost:8080/"
        },
        "id": "FUytBzFM1UQw",
        "outputId": "376b3cf1-419d-4fb1-fbe3-bf68f7b177be"
      },
      "execution_count": 8,
      "outputs": [
        {
          "output_type": "stream",
          "name": "stdout",
          "text": [
            "Airport: EFL\tDistance: 0.2817\tRelative volume: 41.89%\n",
            "Airport: OLB\tDistance: 0.2958\tRelative volume: 70.23%\n",
            "Airport: FNC\tDistance: 0.3044\tRelative volume: 52.57%\n",
            "Airport: PVK\tDistance: 0.3056\tRelative volume: 35.92%\n",
            "Airport: JMK\tDistance: 0.3172\tRelative volume: 81.52%\n"
          ]
        }
      ]
    },
    {
      "cell_type": "code",
      "source": [
        "plot_2_airports('MAH', 'EFL')"
      ],
      "metadata": {
        "colab": {
          "base_uri": "https://localhost:8080/",
          "height": 279
        },
        "id": "YR-0tozg18Pv",
        "outputId": "4c71965b-5f21-4581-f594-f4563b0c6c6d"
      },
      "execution_count": 9,
      "outputs": [
        {
          "output_type": "display_data",
          "data": {
            "text/plain": [
              "<Figure size 432x288 with 1 Axes>"
            ],
            "image/png": "[encoded data removed]"
          },
          "metadata": {
            "needs_background": "light"
          }
        }
      ]
    },
    {
      "cell_type": "markdown",
      "source": [
        "3rd approach\n",
        "- Represent each country with a vector of volumes per country\n",
        "- Calculate absolute diference between two vectors and sum all terms\n",
        "- Find countries wih lowest previously mentioned value and filter by volume"
      ],
      "metadata": {
        "id": "l4i64DDUlRE_"
      }
    },
    {
      "cell_type": "code",
      "source": [
        "# Inputs\n",
        "airport = 'MAH'\n",
        "vol_err = 20\n",
        "\n",
        "vol_lower_bound = (100 - vol_err)/100\n",
        "vol_upper_bound = (100 + vol_err)/100\n",
        "\n",
        "I, J = M.shape\n",
        "\n",
        "j1 = airports.index(airport)\n",
        "v1 = M[:, j1]\n",
        "\n",
        "acum_dif = []\n",
        "for j2 in range(J):\n",
        "  v2 = M[:, j2]\n",
        "  dif = abs(v1 - v2)\n",
        "  sum_dif = dif.sum()\n",
        "  acum_dif.append((j2, sum_dif))\n",
        "acum_dif.sort(key=lambda tup: tup[1])\n",
        "\n",
        "for index, dif in acum_dif:\n",
        "  airport_ = airports[index]\n",
        "  rel_vol = rel_volume(airport_, airport)\n",
        "  if airport_ != airport and (vol_lower_bound <= rel_vol <= vol_upper_bound):\n",
        "    print(\"Airport: {}\\t\\tAcum. difference: {}\\t\\tRel. volume: {}%\".format(airport_, dif, round(100*rel_vol, 2)))"
      ],
      "metadata": {
        "colab": {
          "base_uri": "https://localhost:8080/"
        },
        "id": "nvMImw04ldRy",
        "outputId": "46c94262-cf7b-4b96-f342-8b63ae086925"
      },
      "execution_count": 10,
      "outputs": [
        {
          "output_type": "stream",
          "name": "stdout",
          "text": [
            "Airport: JTR\t\tAcum. difference: 518875.0\t\tRel. volume: 96.71%\n",
            "Airport: ZTH\t\tAcum. difference: 524331.0\t\tRel. volume: 84.2%\n",
            "Airport: JMK\t\tAcum. difference: 539761.0\t\tRel. volume: 81.52%\n",
            "Airport: DBV\t\tAcum. difference: 699935.0\t\tRel. volume: 106.89%\n",
            "Airport: KGS\t\tAcum. difference: 844875.0\t\tRel. volume: 116.69%\n",
            "Airport: CHQ\t\tAcum. difference: 848097.0\t\tRel. volume: 97.89%\n",
            "Airport: PSA\t\tAcum. difference: 905666.0\t\tRel. volume: 111.38%\n",
            "Airport: BRI\t\tAcum. difference: 1035929.0\t\tRel. volume: 98.71%\n",
            "Airport: ZAG\t\tAcum. difference: 1068531.0\t\tRel. volume: 94.88%\n",
            "Airport: HRG\t\tAcum. difference: 1259165.0\t\tRel. volume: 100.49%\n"
          ]
        }
      ]
    },
    {
      "cell_type": "code",
      "source": [
        "plot_2_airports('MAH', 'JTR')"
      ],
      "metadata": {
        "colab": {
          "base_uri": "https://localhost:8080/",
          "height": 279
        },
        "id": "1idy1-g6psZl",
        "outputId": "d727e95d-d5fd-4a95-9918-53e81c219add"
      },
      "execution_count": 11,
      "outputs": [
        {
          "output_type": "display_data",
          "data": {
            "text/plain": [
              "<Figure size 432x288 with 1 Axes>"
            ],
            "image/png": "[encoded data removed]"
          },
          "metadata": {
            "needs_background": "light"
          }
        }
      ]
    }
  ]
}