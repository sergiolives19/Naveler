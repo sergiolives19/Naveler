{
  "nbformat": 4,
  "nbformat_minor": 0,
  "metadata": {
    "colab": {
      "name": "similar_airports.ipynb",
      "provenance": [],
      "collapsed_sections": []
    },
    "kernelspec": {
      "name": "python3",
      "display_name": "Python 3"
    },
    "language_info": {
      "name": "python"
    }
  },
  "cells": [
    {
      "cell_type": "code",
      "source": [
        "import json\n",
        "import numpy as np\n",
        "import pandas as pd\n",
        "import matplotlib.pyplot as plt\n",
        "from sklearn.preprocessing import MinMaxScaler\n",
        "from sklearn.decomposition import PCA\n",
        "from sklearn.neighbors import NearestNeighbors as nn"
      ],
      "metadata": {
        "id": "a-aoDiEWxBMc"
      },
      "execution_count": 1,
      "outputs": []
    },
    {
      "cell_type": "code",
      "execution_count": 2,
      "metadata": {
        "id": "wiMtJOAbw4B4"
      },
      "outputs": [],
      "source": [
        "def build_matrix(file_name):\n",
        "\n",
        "    with open(file_name) as f:\n",
        "        data = json.load(f)\n",
        "\n",
        "    airports = list(data.keys())\n",
        "    J = len(airports) # number of airports\n",
        "    countries = []\n",
        "\n",
        "    j = 0 # initialize aiport index\n",
        "\n",
        "    for airport in airports:\n",
        "        countries_ = list(data[airport].keys()) # list of countries for the jth airport\n",
        "        for country_ in countries_:\n",
        "            if len(countries) == 0:\n",
        "                countries.append(country_)\n",
        "                M = np.zeros((1, J)) # matrix initialization\n",
        "                M[0,0] = data[airport][country_]\n",
        "            else:\n",
        "                if country_ in countries:\n",
        "                    i = countries.index(country_)\n",
        "                    M[i, j] = data[airport][country_]\n",
        "                else:\n",
        "                    countries.append(country_)\n",
        "                    i = len(countries)-1 # last country added\n",
        "                    row = np.zeros(J)\n",
        "                    M = np.concatenate([M, [row]]) # add 1 row to the matrix\n",
        "                    M[i, j] = data[airport][country_]\n",
        "        j += 1\n",
        "\n",
        "    return M, airports, countries"
      ]
    },
    {
      "cell_type": "code",
      "source": [
        "def plot_2_airports(airport1, airport2):\n",
        "    j1 = airports.index(airport1)\n",
        "    j2 = airports.index(airport2)\n",
        "\n",
        "    non_zero_countries = []\n",
        "    volumes1 = []\n",
        "    volumes2 = []\n",
        "    for i in range(len(countries)):\n",
        "        if M[i, j1] != 0 or M[i, j2] != 0:\n",
        "            non_zero_countries.append(countries[i])\n",
        "            volumes1.append(M[i, j1])\n",
        "            volumes2.append(M[i, j2])\n",
        "\n",
        "    df = pd.DataFrame({airport1: volumes1, airport2: volumes2}, index=non_zero_countries)\n",
        "    ax =df.plot.bar(rot=0)\n",
        "    ax.set_xlabel('Country')\n",
        "    ax.set_ylabel('Volume')"
      ],
      "metadata": {
        "id": "sYGd3_rx_pK1"
      },
      "execution_count": 3,
      "outputs": []
    },
    {
      "cell_type": "code",
      "source": [
        "# Upload and convert data\n",
        "from google.colab import drive\n",
        "drive.mount('/content/drive')\n",
        "\n",
        "DATA_PATH = '/content/drive/My Drive/Naveler/Mabrian task/airport__origin__seats.json'\n",
        "\n",
        "M, airports, countries = build_matrix(DATA_PATH)"
      ],
      "metadata": {
        "colab": {
          "base_uri": "https://localhost:8080/"
        },
        "id": "xWablfzUxAWI",
        "outputId": "7c3fd16c-2f32-4a37-c12f-50bbf78ce7ee"
      },
      "execution_count": 4,
      "outputs": [
        {
          "output_type": "stream",
          "name": "stdout",
          "text": [
            "Mounted at /content/drive\n"
          ]
        }
      ]
    },
    {
      "cell_type": "markdown",
      "source": [
        "1st approach:\n",
        "- Create vector of binary variables that indicates the countries with volume != 0 for each airport\n",
        "- Calculate total volume for each airport\n",
        "- Given and airport, calculate % of coincidence of country vector and total volume with other airports"
      ],
      "metadata": {
        "id": "pGdboXFeEXOg"
      }
    },
    {
      "cell_type": "code",
      "source": [
        "# Inputs\n",
        "airport = 'MAH'\n",
        "p1 = 100 # minimum percentage of coincidence for country vector\n",
        "p2 = 95 # minimum percentage of coincidence for total volume\n",
        "\n",
        "p1 = p1/100\n",
        "p2 = p2/100\n",
        "\n",
        "# Build country vector and calculate volume for each airport\n",
        "I, J = M.shape\n",
        "\n",
        "nM = np.zeros((I, J))\n",
        "volumes = {}\n",
        "\n",
        "# M[i, j] = 1 if airport j is receiving volume from country i\n",
        "# M[i, j] = 0 otherwise\n",
        "\n",
        "for j in range(J):\n",
        "    volume_ = 0 # initalize volume of jth airport\n",
        "    for i in range(I):\n",
        "        if M[i, j] != 0:\n",
        "            volume_ += M[i, j]\n",
        "            nM[i, j] = 1\n",
        "    volumes[airports[j]] = volume_\n",
        "    volume_ = 0\n",
        "\n",
        "volume = volumes[airport]\n",
        "j = airports.index(airport)\n",
        "v = nM[:, j]\n",
        "\n",
        "# Calculate percentages of coincidence with other airports\n",
        "coincidence_dict = {}\n",
        "\n",
        "for j_ in range(J):\n",
        "    airport_ = airports[j_]\n",
        "    if j_ != j:\n",
        "      v_ = nM[:, j]\n",
        "      dif = v - v_\n",
        "      n_zeros = np.count_nonzero(dif==0) # number of equal elements\n",
        "      country_vector_coincidence = n_zeros/I\n",
        "      volume_coincidence = 1-abs(volumes[airport_]-volume)/volume\n",
        "      coincidence_dict[airport_] = country_vector_coincidence, volume_coincidence\n",
        "\n",
        "# Filter by percentage of coincidence\n",
        "for airport in coincidence_dict:\n",
        "    p1_, p2_ = coincidence_dict[airport]\n",
        "    if p1_>=p1 and p2_>=p2:\n",
        "        print(\"Airport: {}\\tCountries coincidence: {}%\\tVolume coincidence: {}%\".format(airport, round(p1_*100, 2), round(p2_*100, 2)))"
      ],
      "metadata": {
        "colab": {
          "base_uri": "https://localhost:8080/"
        },
        "id": "43Az8asd0d0f",
        "outputId": "231261ed-ec15-4b11-ea48-a1ee317d5f43"
      },
      "execution_count": 5,
      "outputs": [
        {
          "output_type": "stream",
          "name": "stdout",
          "text": [
            "Airport: BRI\tCountries coincidence: 100.0%\tVolume coincidence: 98.71%\n",
            "Airport: CHQ\tCountries coincidence: 100.0%\tVolume coincidence: 97.89%\n",
            "Airport: HRG\tCountries coincidence: 100.0%\tVolume coincidence: 99.51%\n",
            "Airport: JTR\tCountries coincidence: 100.0%\tVolume coincidence: 96.71%\n"
          ]
        }
      ]
    },
    {
      "cell_type": "code",
      "source": [
        "plot_2_airports('MAH', 'HRG')"
      ],
      "metadata": {
        "colab": {
          "base_uri": "https://localhost:8080/",
          "height": 279
        },
        "id": "z5ekJ6Jd1JxP",
        "outputId": "496c2cc0-72d7-4a9d-ba54-a0e65d905ae1"
      },
      "execution_count": 6,
      "outputs": [
        {
          "output_type": "display_data",
          "data": {
            "text/plain": [
              "<Figure size 432x288 with 1 Axes>"
            ],
            "image/png": "[encoded data removed]"
          },
          "metadata": {
            "needs_background": "light"
          }
        }
      ]
    },
    {
      "cell_type": "markdown",
      "source": [
        "2nd approach:\n",
        "- Samples: airports (119)\n",
        "- Features: countries (137)\n",
        "- Representation of all samples in space with a dimensionality reduction using PCA\n",
        "- Given an airport, return the k nearest airports in the reduced space using kNN"
      ],
      "metadata": {
        "id": "nJJY7capIDlB"
      }
    },
    {
      "cell_type": "code",
      "source": [
        "# Inputs\n",
        "airport = 'MAH'\n",
        "k = 5 # number of nearest airports\n",
        "\n",
        "df = pd.DataFrame(M.transpose(), index=airports, columns=countries)\n",
        "\n",
        "# Data scaling\n",
        "X = df.loc[:, countries].values\n",
        "scaler = MinMaxScaler()\n",
        "X_rescaled = scaler.fit_transform(X)\n",
        "\n",
        "# Dimensionality reduction\n",
        "pca = PCA(n_components=0.95) # explain 95% of variance\n",
        "pca.fit(X_rescaled)\n",
        "#print(pca.n_components_) # 16 dimensions\n",
        "principal_components = pca.transform(X_rescaled)\n",
        "\n",
        "# kNN\n",
        "model = nn()\n",
        "model.fit(principal_components)\n",
        "\n",
        "index = airports.index(airport)\n",
        "point = principal_components[index, :].reshape(1, -1)\n",
        "\n",
        "distances, indices = model.kneighbors(point, k+1)\n",
        "\n",
        "for i in range(k+1):\n",
        "    ind = indices[0, i]\n",
        "    d = distances[0, i]\n",
        "    airport_ = airports[ind]\n",
        "    if airport_ != airport:\n",
        "        print(\"Airport: {}\\tDistance: {}\".format(airports[ind], round(d, 4)))"
      ],
      "metadata": {
        "colab": {
          "base_uri": "https://localhost:8080/"
        },
        "id": "FUytBzFM1UQw",
        "outputId": "7a5e7943-307f-43ee-bea3-d44bbed21025"
      },
      "execution_count": 7,
      "outputs": [
        {
          "output_type": "stream",
          "name": "stdout",
          "text": [
            "Airport: EFL\tDistance: 0.2817\n",
            "Airport: OLB\tDistance: 0.2958\n",
            "Airport: FNC\tDistance: 0.3044\n",
            "Airport: PVK\tDistance: 0.3056\n",
            "Airport: JMK\tDistance: 0.3172\n"
          ]
        }
      ]
    },
    {
      "cell_type": "code",
      "source": [
        "plot_2_airports('MAH', 'EFL')"
      ],
      "metadata": {
        "colab": {
          "base_uri": "https://localhost:8080/",
          "height": 279
        },
        "id": "YR-0tozg18Pv",
        "outputId": "34a30516-0036-436e-8de0-85b570470cca"
      },
      "execution_count": 8,
      "outputs": [
        {
          "output_type": "display_data",
          "data": {
            "text/plain": [
              "<Figure size 432x288 with 1 Axes>"
            ],
            "image/png": "[encoded data removed]"
          },
          "metadata": {
            "needs_background": "light"
          }
        }
      ]
    }
  ]
}