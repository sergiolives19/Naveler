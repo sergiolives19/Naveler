{
  "cells": [
    {
      "cell_type": "code",
      "execution_count": null,
      "metadata": {
        "colab": {
          "base_uri": "https://localhost:8080/"
        },
        "id": "0TQoz9AIkNAW",
        "outputId": "fb27677d-e40d-45c5-d746-8ed50fb21afc"
      },
      "outputs": [
        {
          "output_type": "stream",
          "name": "stdout",
          "text": [
            "Looking in indexes: https://pypi.org/simple, https://us-python.pkg.dev/colab-wheels/public/simple/\n",
            "Requirement already satisfied: transformers in /usr/local/lib/python3.7/dist-packages (4.20.1)\n",
            "Requirement already satisfied: packaging>=20.0 in /usr/local/lib/python3.7/dist-packages (from transformers) (21.3)\n",
            "Requirement already satisfied: pyyaml>=5.1 in /usr/local/lib/python3.7/dist-packages (from transformers) (6.0)\n",
            "Requirement already satisfied: huggingface-hub<1.0,>=0.1.0 in /usr/local/lib/python3.7/dist-packages (from transformers) (0.8.1)\n",
            "Requirement already satisfied: regex!=2019.12.17 in /usr/local/lib/python3.7/dist-packages (from transformers) (2022.6.2)\n",
            "Requirement already satisfied: requests in /usr/local/lib/python3.7/dist-packages (from transformers) (2.23.0)\n",
            "Requirement already satisfied: tqdm>=4.27 in /usr/local/lib/python3.7/dist-packages (from transformers) (4.64.0)\n",
            "Requirement already satisfied: tokenizers!=0.11.3,<0.13,>=0.11.1 in /usr/local/lib/python3.7/dist-packages (from transformers) (0.12.1)\n",
            "Requirement already satisfied: importlib-metadata in /usr/local/lib/python3.7/dist-packages (from transformers) (4.11.4)\n",
            "Requirement already satisfied: numpy>=1.17 in /usr/local/lib/python3.7/dist-packages (from transformers) (1.21.6)\n",
            "Requirement already satisfied: filelock in /usr/local/lib/python3.7/dist-packages (from transformers) (3.7.1)\n",
            "Requirement already satisfied: typing-extensions>=3.7.4.3 in /usr/local/lib/python3.7/dist-packages (from huggingface-hub<1.0,>=0.1.0->transformers) (4.1.1)\n",
            "Requirement already satisfied: pyparsing!=3.0.5,>=2.0.2 in /usr/local/lib/python3.7/dist-packages (from packaging>=20.0->transformers) (3.0.9)\n",
            "Requirement already satisfied: zipp>=0.5 in /usr/local/lib/python3.7/dist-packages (from importlib-metadata->transformers) (3.8.0)\n",
            "Requirement already satisfied: certifi>=2017.4.17 in /usr/local/lib/python3.7/dist-packages (from requests->transformers) (2022.6.15)\n",
            "Requirement already satisfied: urllib3!=1.25.0,!=1.25.1,<1.26,>=1.21.1 in /usr/local/lib/python3.7/dist-packages (from requests->transformers) (1.24.3)\n",
            "Requirement already satisfied: chardet<4,>=3.0.2 in /usr/local/lib/python3.7/dist-packages (from requests->transformers) (3.0.4)\n",
            "Requirement already satisfied: idna<3,>=2.5 in /usr/local/lib/python3.7/dist-packages (from requests->transformers) (2.10)\n"
          ]
        }
      ],
      "source": [
        "!pip install transformers"
      ]
    },
    {
      "cell_type": "code",
      "execution_count": null,
      "metadata": {
        "id": "ihqa6JyvkUyc"
      },
      "outputs": [],
      "source": [
        "from transformers import BertModel, BertTokenizer\n",
        "import torch\n",
        "from torch import nn\n",
        "from textwrap import wrap"
      ]
    },
    {
      "cell_type": "code",
      "source": [
        "from google.colab import drive\n",
        "drive.mount('/content/drive')"
      ],
      "metadata": {
        "colab": {
          "base_uri": "https://localhost:8080/"
        },
        "id": "DdRKALnd7ssN",
        "outputId": "935a4e12-261c-47a5-bf26-3151d931687f"
      },
      "execution_count": null,
      "outputs": [
        {
          "output_type": "stream",
          "name": "stdout",
          "text": [
            "Drive already mounted at /content/drive; to attempt to forcibly remount, call drive.mount(\"/content/drive\", force_remount=True).\n"
          ]
        }
      ]
    },
    {
      "cell_type": "code",
      "execution_count": null,
      "metadata": {
        "colab": {
          "base_uri": "https://localhost:8080/"
        },
        "id": "250e950U3J-P",
        "outputId": "d061b6e7-1df0-4bca-9666-776fe63716e2"
      },
      "outputs": [
        {
          "output_type": "stream",
          "name": "stdout",
          "text": [
            "cuda:0\n"
          ]
        }
      ],
      "source": [
        "# Initial parameters\n",
        "DOCUMENT_PATH = '/content/drive/My Drive/Naveler/03.TECH/data_discovery/documents/BOE-A-2022-4972.pdf'\n",
        "ind = 1 # set to 0 to classify by categories, set to 1 to classify by subcategories\n",
        "CLASSIFY_BY = ['category', 'subcategory'][ind]\n",
        "MAX_LEN = 250\n",
        "\n",
        "device = torch.device(\"cuda:0\" if torch.cuda.is_available() else \"cpu\")\n",
        "print(device)"
      ]
    },
    {
      "cell_type": "code",
      "execution_count": null,
      "metadata": {
        "id": "15s_9b8WuJsk"
      },
      "outputs": [],
      "source": [
        "if CLASSIFY_BY == 'category':\n",
        "  possible_labels = ['Impacto energético', 'Innovación', 'Sector eléctrico', 'Alimentación y bebidas']\n",
        "elif CLASSIFY_BY == 'subcategory':\n",
        "  possible_labels = ['Calidad aire', 'Cambio climático', 'Gestión del agua', 'Eficiencia energética',\n",
        "                     'GNL maritimo', 'Movilidad sostenible', 'Smart Grids', 'Consumo eléctrico', 'Redes eléctricas',\n",
        "                     'Tarifas  / mediciones eléctricas', 'Vulnerabilidad energética', 'Bebidas energéticas']\n",
        "NCLASSES = len(possible_labels)\n",
        "\n",
        "output_dict = {}\n",
        "for label in possible_labels:\n",
        "  output_dict[label] = 0"
      ]
    },
    {
      "cell_type": "code",
      "execution_count": null,
      "metadata": {
        "id": "nmmSxIHk_2QN"
      },
      "outputs": [],
      "source": [
        "# Define tokenizer\n",
        "PRE_TRAINED_MODEL_NAME = 'dccuchile/bert-base-spanish-wwm-cased'\n",
        "tokenizer = BertTokenizer.from_pretrained(PRE_TRAINED_MODEL_NAME)"
      ]
    },
    {
      "cell_type": "code",
      "execution_count": null,
      "metadata": {
        "id": "Of03sRcnc2g9"
      },
      "outputs": [],
      "source": [
        "# Define class for building model\n",
        "class BERTTextClassifier(nn.Module):\n",
        "\n",
        "  def __init__(self, n_classes):\n",
        "    super(BERTTextClassifier, self).__init__()\n",
        "    self.bert = BertModel.from_pretrained(PRE_TRAINED_MODEL_NAME, return_dict=False)\n",
        "    self.drop = nn.Dropout(p=0.3)\n",
        "    self.linear = nn.Linear(self.bert.config.hidden_size, n_classes)\n",
        "\n",
        "  def forward(self, input_ids, attention_mask):\n",
        "    _, cls_output = self.bert(\n",
        "        input_ids = input_ids,\n",
        "        attention_mask = attention_mask\n",
        "    )\n",
        "    drop_output = self.drop(cls_output)\n",
        "    output = self.linear(drop_output)\n",
        "    return output"
      ]
    },
    {
      "cell_type": "code",
      "execution_count": null,
      "metadata": {
        "id": "7QN6sJDaFph-"
      },
      "outputs": [],
      "source": [
        "# Model path\n",
        "if CLASSIFY_BY == 'category':\n",
        "  s = 'cat'\n",
        "elif CLASSIFY_BY == 'subcategory':\n",
        "  s = 'subcat'\n",
        "MODEL_NAME = 'BERT_text_classifier_'+s\n",
        "MODEL_PATH = '/content/drive/My Drive/Naveler/03.TECH/data_discovery/models/'+MODEL_NAME"
      ]
    },
    {
      "cell_type": "code",
      "execution_count": null,
      "metadata": {
        "id": "HkeO69b_YTev",
        "colab": {
          "base_uri": "https://localhost:8080/"
        },
        "outputId": "3666226f-33c5-4aa0-c2a2-dcb6d4454187"
      },
      "outputs": [
        {
          "output_type": "stream",
          "name": "stderr",
          "text": [
            "Some weights of the model checkpoint at dccuchile/bert-base-spanish-wwm-cased were not used when initializing BertModel: ['cls.predictions.transform.LayerNorm.weight', 'cls.predictions.decoder.bias', 'cls.predictions.bias', 'cls.predictions.decoder.weight', 'cls.predictions.transform.LayerNorm.bias', 'cls.predictions.transform.dense.weight', 'cls.predictions.transform.dense.bias']\n",
            "- This IS expected if you are initializing BertModel from the checkpoint of a model trained on another task or with another architecture (e.g. initializing a BertForSequenceClassification model from a BertForPreTraining model).\n",
            "- This IS NOT expected if you are initializing BertModel from the checkpoint of a model that you expect to be exactly identical (initializing a BertForSequenceClassification model from a BertForSequenceClassification model).\n",
            "Some weights of BertModel were not initialized from the model checkpoint at dccuchile/bert-base-spanish-wwm-cased and are newly initialized: ['bert.pooler.dense.weight', 'bert.pooler.dense.bias']\n",
            "You should probably TRAIN this model on a down-stream task to be able to use it for predictions and inference.\n"
          ]
        },
        {
          "output_type": "execute_result",
          "data": {
            "text/plain": [
              "<All keys matched successfully>"
            ]
          },
          "metadata": {},
          "execution_count": 9
        }
      ],
      "source": [
        "# Upload model\n",
        "loaded_model = BERTTextClassifier(NCLASSES)\n",
        "loaded_model = loaded_model.to(device)\n",
        "loaded_model.load_state_dict(torch.load(MODEL_PATH))\n",
        "#model.eval()"
      ]
    },
    {
      "cell_type": "code",
      "execution_count": null,
      "metadata": {
        "id": "hcIoxjCNt4__"
      },
      "outputs": [],
      "source": [
        "# Classify new data\n",
        "def classifyParagraph(paragraph_text):\n",
        "  encoding_paragraph = tokenizer.encode_plus(\n",
        "      paragraph_text,\n",
        "      max_length = MAX_LEN,\n",
        "      truncation = True,\n",
        "      add_special_tokens = True,\n",
        "      return_token_type_ids = False,\n",
        "      #pad_to_max_length = True,\n",
        "      padding='max_length',\n",
        "      return_attention_mask = True,\n",
        "      return_tensors = 'pt'\n",
        "      )\n",
        "  \n",
        "  input_ids = encoding_paragraph['input_ids'].to(device)\n",
        "  attention_mask = encoding_paragraph['attention_mask'].to(device)\n",
        "  output = loaded_model(input_ids, attention_mask)\n",
        "  #print(\"\\n\".join(wrap(paragraph_text)))\n",
        "  with torch.no_grad():\n",
        "    G = nn.functional.softmax(output, dim=1)[0]\n",
        "  k = len(possible_labels)\n",
        "  #print(G.topk(k))\n",
        "  for (p, y) in zip(*(G.topk(k))):\n",
        "    label = possible_labels[y.item()]\n",
        "    pond = p.item()\n",
        "    output_dict[label] += pond"
      ]
    },
    {
      "cell_type": "code",
      "source": [
        "# generic.py\n",
        "import logging\n",
        "\n",
        "\n",
        "class FileHandler:\n",
        "    def __init__(self):\n",
        "        self.content = None\n",
        "        self.logger = logging.getLogger('naveler.file_handlers')"
      ],
      "metadata": {
        "id": "rGosgHAx9EM5"
      },
      "execution_count": null,
      "outputs": []
    },
    {
      "cell_type": "code",
      "source": [
        "!pip install textract"
      ],
      "metadata": {
        "colab": {
          "base_uri": "https://localhost:8080/"
        },
        "id": "mlvvu7zf9pnF",
        "outputId": "088d92d9-a062-4396-d236-b573163a4ac3"
      },
      "execution_count": null,
      "outputs": [
        {
          "output_type": "stream",
          "name": "stdout",
          "text": [
            "Looking in indexes: https://pypi.org/simple, https://us-python.pkg.dev/colab-wheels/public/simple/\n",
            "Requirement already satisfied: textract in /usr/local/lib/python3.7/dist-packages (1.6.5)\n",
            "Requirement already satisfied: argcomplete~=1.10.0 in /usr/local/lib/python3.7/dist-packages (from textract) (1.10.3)\n",
            "Requirement already satisfied: beautifulsoup4~=4.8.0 in /usr/local/lib/python3.7/dist-packages (from textract) (4.8.2)\n",
            "Requirement already satisfied: docx2txt~=0.8 in /usr/local/lib/python3.7/dist-packages (from textract) (0.8)\n",
            "Requirement already satisfied: chardet==3.* in /usr/local/lib/python3.7/dist-packages (from textract) (3.0.4)\n",
            "Requirement already satisfied: python-pptx~=0.6.18 in /usr/local/lib/python3.7/dist-packages (from textract) (0.6.21)\n",
            "Requirement already satisfied: SpeechRecognition~=3.8.1 in /usr/local/lib/python3.7/dist-packages (from textract) (3.8.1)\n",
            "Requirement already satisfied: xlrd~=1.2.0 in /usr/local/lib/python3.7/dist-packages (from textract) (1.2.0)\n",
            "Requirement already satisfied: six~=1.12.0 in /usr/local/lib/python3.7/dist-packages (from textract) (1.12.0)\n",
            "Requirement already satisfied: extract-msg<=0.29.* in /usr/local/lib/python3.7/dist-packages (from textract) (0.28.7)\n",
            "Requirement already satisfied: pdfminer.six==20191110 in /usr/local/lib/python3.7/dist-packages (from textract) (20191110)\n",
            "Requirement already satisfied: sortedcontainers in /usr/local/lib/python3.7/dist-packages (from pdfminer.six==20191110->textract) (2.4.0)\n",
            "Requirement already satisfied: pycryptodome in /usr/local/lib/python3.7/dist-packages (from pdfminer.six==20191110->textract) (3.15.0)\n",
            "Requirement already satisfied: soupsieve>=1.2 in /usr/local/lib/python3.7/dist-packages (from beautifulsoup4~=4.8.0->textract) (2.3.2.post1)\n",
            "Requirement already satisfied: imapclient==2.1.0 in /usr/local/lib/python3.7/dist-packages (from extract-msg<=0.29.*->textract) (2.1.0)\n",
            "Requirement already satisfied: olefile>=0.46 in /usr/local/lib/python3.7/dist-packages (from extract-msg<=0.29.*->textract) (0.46)\n",
            "Requirement already satisfied: tzlocal>=2.1 in /usr/local/lib/python3.7/dist-packages (from extract-msg<=0.29.*->textract) (4.2)\n",
            "Requirement already satisfied: compressed-rtf>=1.0.6 in /usr/local/lib/python3.7/dist-packages (from extract-msg<=0.29.*->textract) (1.0.6)\n",
            "Requirement already satisfied: ebcdic>=1.1.1 in /usr/local/lib/python3.7/dist-packages (from extract-msg<=0.29.*->textract) (1.1.1)\n",
            "Requirement already satisfied: lxml>=3.1.0 in /usr/local/lib/python3.7/dist-packages (from python-pptx~=0.6.18->textract) (4.2.6)\n",
            "Requirement already satisfied: Pillow>=3.3.2 in /usr/local/lib/python3.7/dist-packages (from python-pptx~=0.6.18->textract) (7.1.2)\n",
            "Requirement already satisfied: XlsxWriter>=0.5.7 in /usr/local/lib/python3.7/dist-packages (from python-pptx~=0.6.18->textract) (3.0.3)\n",
            "Requirement already satisfied: pytz-deprecation-shim in /usr/local/lib/python3.7/dist-packages (from tzlocal>=2.1->extract-msg<=0.29.*->textract) (0.1.0.post0)\n",
            "Requirement already satisfied: backports.zoneinfo in /usr/local/lib/python3.7/dist-packages (from tzlocal>=2.1->extract-msg<=0.29.*->textract) (0.2.1)\n",
            "Requirement already satisfied: tzdata in /usr/local/lib/python3.7/dist-packages (from pytz-deprecation-shim->tzlocal>=2.1->extract-msg<=0.29.*->textract) (2022.1)\n"
          ]
        }
      ]
    },
    {
      "cell_type": "code",
      "source": [
        "# pdf_handler.py\n",
        "import re\n",
        "\n",
        "import textract\n",
        "\n",
        "#from .generic import FileHandler\n",
        "from typing import List\n",
        "\n",
        "\n",
        "page_pattern = re.compile(r'\\b[pP][aá]g\\.?\\s+\\d+\\b\\s*$')\n",
        "\n",
        "\n",
        "class ParagraphContent:\n",
        "    \"\"\"Class to contain the content of a paragraph from a PDF.\"\"\"\n",
        "    def __init__(self, line=None, page_number=1):\n",
        "        self.page_number = page_number\n",
        "        self.content = []\n",
        "        if line:\n",
        "            self.add_line(line)\n",
        "\n",
        "    def add_line(self, line):\n",
        "        self.content.append(line)\n",
        "\n",
        "    def has_content(self):\n",
        "        return True if self.content else False\n",
        "\n",
        "    def get_content(self):\n",
        "        return ' '.join(self.content)\n",
        "\n",
        "\n",
        "class PDFHandler(FileHandler):\n",
        "    \"\"\"Load pdf file and extract text from that pdf\"\"\"\n",
        "\n",
        "    def __init__(self):\n",
        "        super().__init__()\n",
        "        self.content: str = None\n",
        "        self.split_lines_content: List[str] = None\n",
        "\n",
        "    def get_page(self, file_path: str) -> None:\n",
        "        \"\"\"Parse pdf file to text\n",
        "\n",
        "        :param str file_path: pdf file path\n",
        "        \"\"\"\n",
        "        self.split_lines_content = None\n",
        "        self.content = textract.process(file_path).decode('utf-8')\n",
        "\n",
        "    def get_valid_lines(self) -> list:\n",
        "        \"\"\"Attempt to group lines into paragraphs.\"\"\"\n",
        "\n",
        "        paragraphs = []\n",
        "        paragraph = ParagraphContent()\n",
        "\n",
        "        page_number = 0\n",
        "\n",
        "        # Treat paragraphs as a set of lines until one ends with a dot ('.')\n",
        "        for line in self.content.splitlines():\n",
        "            if page_pattern.search(line):\n",
        "                page_number += 1\n",
        "\n",
        "            # Skip useless lines such as numbers, pages...\n",
        "            if len(line.replace(\" \", \"\")) < 15:\n",
        "                continue\n",
        "\n",
        "            # Skip empty lines\n",
        "            if not line.strip():\n",
        "                continue\n",
        "\n",
        "            if line.endswith('.'):\n",
        "                paragraph.add_line(line)\n",
        "                paragraphs.append(paragraph)\n",
        "                # Define empty paragraph starting from now\n",
        "                paragraph = ParagraphContent(\n",
        "                    page_number=page_number\n",
        "                )\n",
        "                continue\n",
        "            paragraph.add_line(line)\n",
        "\n",
        "        # Include the final paragraph\n",
        "        if paragraph.has_content():\n",
        "            paragraphs.append(paragraph)\n",
        "\n",
        "        return paragraphs\n",
        "\n",
        "    def get_content(self) -> list:\n",
        "        \"\"\"Return all the elements in the document.\"\"\"\n",
        "\n",
        "        return self.get_valid_lines()\n",
        "\n",
        "    def get_content_from_regex(self, regex_expression: str, group: int = 1) -> str:\n",
        "        \"\"\"Get content from regex expression\n",
        "\n",
        "        :param str regex_expression: regular expression to extract the content\n",
        "        :param int group: (optional) occurrence number of the regex\n",
        "        :return: content extracted from regex\n",
        "        :rtype: str\n",
        "        \"\"\"\n",
        "        expression = re.compile(regex_expression)\n",
        "        value = expression.search(self.content).group(group)\n",
        "\n",
        "        return value\n",
        "\n",
        "    def get_line(self, line_number: int) -> str:\n",
        "        \"\"\"Get exact line from the content\n",
        "\n",
        "        :param int line_number: line number to extract\n",
        "        :return: content of the following line\n",
        "        :rtype: str\n",
        "        \"\"\"\n",
        "\n",
        "        if self.split_lines_content is None:\n",
        "            self.split_lines_content = self.content.splitlines()\n",
        "        return self.split_lines_content[line_number]"
      ],
      "metadata": {
        "id": "evlPsTTE9Fh3"
      },
      "execution_count": null,
      "outputs": []
    },
    {
      "cell_type": "code",
      "source": [
        "def pdf_to_list_of_paragraphs(file_name):\n",
        "    p = PDFHandler()\n",
        "    p.get_page(file_name)\n",
        "\n",
        "    data = p.get_content()\n",
        "\n",
        "    corpus = []\n",
        "    for paragraph in data:\n",
        "        corpus.append(paragraph.get_content())\n",
        "    \n",
        "    return corpus"
      ],
      "metadata": {
        "id": "zNFRlm6_9vU-"
      },
      "execution_count": null,
      "outputs": []
    },
    {
      "cell_type": "code",
      "source": [
        "# Convert pdf to list of paragraphs\n",
        "text = pdf_to_list_of_paragraphs(DOCUMENT_PATH)\n",
        "number_of_paragraphs = len(text)"
      ],
      "metadata": {
        "id": "shz76Z_m9yOZ"
      },
      "execution_count": null,
      "outputs": []
    },
    {
      "cell_type": "code",
      "source": [
        "# Classification and output\n",
        "for paragraph in text:\n",
        "  classifyParagraph(paragraph)\n",
        "for label in possible_labels:\n",
        "  print(\"{}:\\t{}%\".format(label, round(100*output_dict[label]/number_of_paragraphs, 2)))"
      ],
      "metadata": {
        "colab": {
          "base_uri": "https://localhost:8080/"
        },
        "id": "EMqvWs0j91n7",
        "outputId": "adb42163-648f-44aa-9875-bfb0ea684ca1"
      },
      "execution_count": null,
      "outputs": [
        {
          "output_type": "stream",
          "name": "stdout",
          "text": [
            "Calidad aire:\t0.33%\n",
            "Cambio climático:\t0.04%\n",
            "Gestión del agua:\t0.31%\n",
            "Eficiencia energética:\t0.41%\n",
            "GNL maritimo:\t0.03%\n",
            "Movilidad sostenible:\t0.02%\n",
            "Smart Grids:\t0.11%\n",
            "Consumo eléctrico:\t0.11%\n",
            "Redes eléctricas:\t97.99%\n",
            "Tarifas  / mediciones eléctricas:\t0.15%\n",
            "Vulnerabilidad energética:\t0.49%\n",
            "Bebidas energéticas:\t0.01%\n"
          ]
        }
      ]
    }
  ],
  "metadata": {
    "accelerator": "GPU",
    "colab": {
      "collapsed_sections": [],
      "name": "classify_document.ipynb",
      "provenance": []
    },
    "gpuClass": "standard",
    "kernelspec": {
      "display_name": "Python 3",
      "name": "python3"
    },
    "language_info": {
      "name": "python"
    }
  },
  "nbformat": 4,
  "nbformat_minor": 0
}